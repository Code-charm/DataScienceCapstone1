{
 "cells": [
  {
   "cell_type": "markdown",
   "id": "612914a3",
   "metadata": {},
   "source": [
    "# Springboard Data Science Capstone Two\n",
    "\n",
    "## 5. Modeling\n",
    "\n",
    "Now that we've preprocessed and trained our data in the last session, we are ready to try different models in this session and pick the one that works the best for our data. \n"
   ]
  },
  {
   "cell_type": "markdown",
   "id": "c3581413",
   "metadata": {},
   "source": [
    "### 5.1 Sourcing & Loading¶\n",
    "\n",
    "First thing's first.  Let's load all the apps we need in this session and import the datasets.\n",
    "\n",
    "#### 5.1.1 Import relevant libraries and packages"
   ]
  },
  {
   "cell_type": "code",
   "execution_count": 2,
   "id": "9e15ba63",
   "metadata": {},
   "outputs": [],
   "source": [
    "import numpy as np\n",
    "import pandas as pd\n",
    "import sklearn\n",
    "import matplotlib.pyplot as plt\n",
    "from sklearn.model_selection import cross_val_score, GridSearchCV, RandomizedSearchCV,\\\n",
    "    validation_curve\n",
    "from sklearn.linear_model import LogisticRegression\n",
    "from sklearn.neighbors import KNeighborsClassifier\n",
    "from sklearn.ensemble import RandomForestClassifier, GradientBoostingClassifier\n",
    "from sklearn.tree import DecisionTreeClassifier\n",
    "from sklearn.metrics import accuracy_score, roc_auc_score, roc_curve, confusion_matrix,\\\n",
    "    classification_report, recall_score, make_scorer, precision_score\n",
    "from imblearn.over_sampling import SMOTE\n",
    "from sklearn.dummy import DummyClassifier\n",
    "from sklearn.model_selection import train_test_split "
   ]
  },
  {
   "cell_type": "markdown",
   "id": "99a77fbb",
   "metadata": {},
   "source": [
    "#### 5.1.2 Import,  review & process data"
   ]
  },
  {
   "cell_type": "code",
   "execution_count": 3,
   "id": "3d70e59b",
   "metadata": {},
   "outputs": [],
   "source": [
    "# import the data.\n",
    "df = pd.read_csv(\"shuffled_df.csv\", index_col=0)"
   ]
  },
  {
   "cell_type": "code",
   "execution_count": 4,
   "id": "71d8f192",
   "metadata": {},
   "outputs": [],
   "source": [
    "X = df.drop(['CANCELLED'], axis=1)\n",
    "y = df['CANCELLED']"
   ]
  },
  {
   "cell_type": "markdown",
   "id": "a239830d",
   "metadata": {},
   "source": [
    "Since we are investigating flight cancellations here, let's take a look at the total percentage of flights that got cancelled."
   ]
  },
  {
   "cell_type": "code",
   "execution_count": 5,
   "id": "9e2dd9ee",
   "metadata": {},
   "outputs": [
    {
     "data": {
      "text/plain": [
       "0.010549321626582397"
      ]
     },
     "execution_count": 5,
     "metadata": {},
     "output_type": "execute_result"
    }
   ],
   "source": [
    "ratio_cancellation = y.sum()/(len(y))\n",
    "ratio_cancellation"
   ]
  },
  {
   "cell_type": "markdown",
   "id": "b40771cd",
   "metadata": {},
   "source": [
    "Only 1.05% of the flights are cancelled.  That means the dataset is extremely inbalanced.  In order to optimize the modeling result, we'll need to address the class imbalance issue by using SMOTE to oversample the data."
   ]
  },
  {
   "cell_type": "code",
   "execution_count": 6,
   "id": "207b1b31",
   "metadata": {},
   "outputs": [
    {
     "name": "stdout",
     "output_type": "stream",
     "text": [
      "Class Weights:  {0: 1.0, 1: 1.0}\n"
     ]
    }
   ],
   "source": [
    "# Apply SMOTE to the dataset\n",
    "smote = SMOTE(random_state=123)\n",
    "X_resampled, y_resampled = smote.fit_resample(X, y)\n",
    "\n",
    "# Calculate class weights of resampled data to double check if data has become more balanced.  \n",
    "classes = np.unique(y_resampled)\n",
    "class_counts = np.bincount(y_resampled)\n",
    "class_weights = {}\n",
    "for i in range(len(classes)):\n",
    "    class_weights[classes[i]] = sum(class_counts) / (len(classes) * class_counts[i])\n",
    "print(\"Class Weights: \", class_weights)"
   ]
  },
  {
   "cell_type": "code",
   "execution_count": 7,
   "id": "6a1abb07",
   "metadata": {},
   "outputs": [],
   "source": [
    "# Split the resampled data into train and test sets.\n",
    "X_train, X_test, y_train, y_test = train_test_split(X_resampled, y_resampled, test_size=0.2, \n",
    "                                                    random_state=123)"
   ]
  },
  {
   "cell_type": "markdown",
   "id": "a50c6e01",
   "metadata": {},
   "source": [
    "### 5.2 Modeling\n",
    "\n",
    "Now that we've got our train and test datasets resampled, we are ready for modeling!  Since the dependent variable, flight cancellation, is a categorical variable with 1 for cancellation and 0 for no cancellation, we'll try the below models.\n",
    "\n",
    "    1. Logistic Regression\n",
    "    2. k-Nearest Neighbors\n",
    "    3. Random Forests\n",
    "    4. Gradient Boosting\n",
    "    5. Extemem Gradient Boosting\n",
    "    6. Decision Trees\n",
    "    \n",
    "Before we dive into modeling, let's use the DummyClassifier to establish a baseline."
   ]
  },
  {
   "cell_type": "code",
   "execution_count": 8,
   "id": "15c3292f",
   "metadata": {},
   "outputs": [
    {
     "name": "stdout",
     "output_type": "stream",
     "text": [
      "Recall Score Baseline: 0.5005010976424549\n"
     ]
    }
   ],
   "source": [
    "dummy = DummyClassifier(strategy='stratified')\n",
    "dummy.fit(X_train, y_train)\n",
    "\n",
    "y_pred = dummy.predict(X_test)\n",
    "recall = recall_score(y_test, y_pred)\n",
    "print('Recall Score Baseline:', recall)"
   ]
  },
  {
   "cell_type": "markdown",
   "id": "eb53aaae",
   "metadata": {},
   "source": [
    "#### 5.2.1 Logistics Regression"
   ]
  },
  {
   "cell_type": "markdown",
   "id": "79923b4b",
   "metadata": {},
   "source": [
    "First of all, we are going to use the grid search technique to find the optimal hyperparameters for the logistics regression classifier. Then, we'll fit the model and predict the test data.  Finally, we'll calculate all the important scores and print out the confusion matrix and precision report."
   ]
  },
  {
   "cell_type": "code",
   "execution_count": 190,
   "id": "82cd8520",
   "metadata": {},
   "outputs": [
    {
     "name": "stdout",
     "output_type": "stream",
     "text": [
      "Best Parameters:  {'C': 10, 'class_weight': None}\n",
      "Best Accuracy Score:  0.672486645046742\n"
     ]
    }
   ],
   "source": [
    "# Use grid search to define the optimal hyperparameters.\n",
    "param_grid = {'C': [0.01, 0.1, 1, 10], 'class_weight': [None, 'balanced', {0:1, 1:10}, {0:1, 1:100}]}\n",
    "num_folds = 5\n",
    "lr = LogisticRegression(max_iter=1000)\n",
    "grid_search = GridSearchCV(lr, param_grid=param_grid, cv=num_folds, scoring='accuracy', n_jobs=-1)\n",
    "grid_search.fit(X_train, y_train)\n",
    "print(\"Best Parameters: \", grid_search.best_params_)\n",
    "print(\"Best Accuracy Score: \", grid_search.best_score_)"
   ]
  },
  {
   "cell_type": "code",
   "execution_count": 33,
   "id": "1a9d324d",
   "metadata": {},
   "outputs": [
    {
     "name": "stdout",
     "output_type": "stream",
     "text": [
      "Cross-validation accuracy: [0.67355934 0.67027237 0.67534738 0.67341999 0.6695951 ]\n",
      "Mean cross-validation accuracy: 0.6724388351062085\n",
      "Standard deviation in cv accuracy: 0.002166020163070671\n"
     ]
    }
   ],
   "source": [
    "# Build the logistics regression model using the above optimal hyperparameters and then\n",
    "# perform cross-validation.\n",
    "lr = LogisticRegression(C=10, class_weight=None, max_iter=1000, random_state=123)\n",
    "num_folds = 5\n",
    "cv_scores_lr = cross_val_score(lr, X_train, y_train, cv=num_folds, scoring='accuracy')\n",
    "mean_cv_score_lr = np.mean(cv_scores_lr)\n",
    "cv_scores_std_lr = cv_scores_lr.std()\n",
    "print(\"Cross-validation accuracy:\", cv_scores_lr)\n",
    "print(\"Mean cross-validation accuracy:\", mean_cv_score_lr)\n",
    "print(\"Standard deviation in cv accuracy:\", cv_scores_std_lr)"
   ]
  },
  {
   "cell_type": "code",
   "execution_count": 34,
   "id": "7e061646",
   "metadata": {},
   "outputs": [
    {
     "name": "stdout",
     "output_type": "stream",
     "text": [
      "Accuracy:  0.6710293555173074\n",
      "Precision:  0.6526195174740594\n",
      "Recall:  0.7338932900639497\n",
      "Confusion matrix:\n",
      " [[25385 16371]\n",
      " [11152 30756]]\n",
      "Classification Report:\n",
      "               precision    recall  f1-score   support\n",
      "\n",
      "           0       0.69      0.61      0.65     41756\n",
      "           1       0.65      0.73      0.69     41908\n",
      "\n",
      "    accuracy                           0.67     83664\n",
      "   macro avg       0.67      0.67      0.67     83664\n",
      "weighted avg       0.67      0.67      0.67     83664\n",
      "\n",
      "AUC:  0.7343829711221885\n"
     ]
    },
    {
     "data": {
      "image/png": "[encoded data removed]",
      "text/plain": [
       "<Figure size 640x480 with 1 Axes>"
      ]
     },
     "metadata": {},
     "output_type": "display_data"
    }
   ],
   "source": [
    "# Fit the train data to the model.  Predict the test data, calculate accuracy and recall, \n",
    "# compute confusion matrix, classification report & AUC, and finally plot the ROC curve.\n",
    "\n",
    "lr.fit(X_train, y_train)\n",
    "\n",
    "y_pred = lr.predict(X_test)\n",
    "y_pred_prob = lr.predict_proba(X_test)[:, 1]\n",
    "\n",
    "accuracy_lr = accuracy_score(y_test, y_pred)\n",
    "precision_lr = precision_score(y_test, y_pred)\n",
    "recall_lr = recall_score(y_test, y_pred)\n",
    "print(\"Accuracy: \", accuracy_lr)\n",
    "print(\"Precision: \", precision_lr)\n",
    "print(\"Recall: \", recall_lr)\n",
    "print(\"Confusion matrix:\\n\", confusion_matrix(y_test, y_pred))\n",
    "print(\"Classification Report:\\n\", classification_report(y_test, y_pred))\n",
    "\n",
    "auc = roc_auc_score(y_test, y_pred_prob)\n",
    "print(\"AUC: \", auc)\n",
    "                    \n",
    "fpr, tpr, threshold = roc_curve(y_test, y_pred_prob)\n",
    "plt.plot(fpr, tpr, label='ROC curve (AUC = %0.2f)' % auc)\n",
    "plt.plot([0, 1], [0, 1], 'k--')\n",
    "plt.xlabel('False Positive Rate')\n",
    "plt.ylabel('True Positive Rate')\n",
    "plt.legend(loc='lower right')\n",
    "plt.show()"
   ]
  },
  {
   "cell_type": "markdown",
   "id": "321c2218",
   "metadata": {},
   "source": [
    "#### 5.2.2 k-Nearest Neighbors (kNN)"
   ]
  },
  {
   "cell_type": "code",
   "execution_count": 193,
   "id": "3ab7dd35",
   "metadata": {},
   "outputs": [
    {
     "name": "stdout",
     "output_type": "stream",
     "text": [
      "Best Parameters: {'n_neighbors': 2, 'p': 1, 'weights': 'distance'}\n",
      "Best Accuracy Score:0.9800568956548066\n"
     ]
    }
   ],
   "source": [
    "# Use grid search to identify the optimal n_neighbors parameter. \n",
    "param_grid = {'n_neighbors': range(1, 21),'weights': ['uniform', 'distance'], 'p': [1, 2]}\n",
    "knn = KNeighborsClassifier()\n",
    "num_folds=5\n",
    "knn_cv= GridSearchCV(knn, param_grid, cv=num_folds, scoring='accuracy')\n",
    "knn_cv.fit(X_train, y_train)\n",
    "\n",
    "print(\"Best Parameters: \" + str(knn_cv.best_params_))\n",
    "print(\"Best Accuracy Score:\" + str(knn_cv.best_score_))"
   ]
  },
  {
   "cell_type": "code",
   "execution_count": 16,
   "id": "e6754fc2",
   "metadata": {},
   "outputs": [
    {
     "name": "stdout",
     "output_type": "stream",
     "text": [
      "Cross-validation Accuracy: [0.98021843 0.97965069 0.97971014 0.9806066  0.98009861]\n",
      "Mean cross-validation accuracy: 0.9800568956548066\n",
      "Standard deviation in cv accuracy: 0.0003507868416475809\n"
     ]
    }
   ],
   "source": [
    "# Perform cross-validation\n",
    "knn = KNeighborsClassifier(n_neighbors=2, weights='distance', p=1)\n",
    "num_folds = 5\n",
    "cv_scores_knn = cross_val_score(knn, X_train, y_train, cv=num_folds, scoring='accuracy')\n",
    "mean_cv_score_knn = np.mean(cv_scores_knn)\n",
    "cv_scores_std_knn = cv_scores_knn.std()\n",
    "print(\"Cross-validation Accuracy:\", cv_scores_knn)\n",
    "print(\"Mean cross-validation accuracy:\", mean_cv_score_knn)\n",
    "print(\"Standard deviation in cv accuracy:\", cv_scores_std_knn)"
   ]
  },
  {
   "cell_type": "code",
   "execution_count": 17,
   "id": "65e09e95",
   "metadata": {},
   "outputs": [
    {
     "name": "stdout",
     "output_type": "stream",
     "text": [
      "Accuracy:  0.9824536240198891\n",
      "Precision:  0.9680122210906398\n",
      "Recall:  0.9979478858451847\n",
      "[[40374  1382]\n",
      " [   86 41822]]\n",
      "              precision    recall  f1-score   support\n",
      "\n",
      "           0       1.00      0.97      0.98     41756\n",
      "           1       0.97      1.00      0.98     41908\n",
      "\n",
      "    accuracy                           0.98     83664\n",
      "   macro avg       0.98      0.98      0.98     83664\n",
      "weighted avg       0.98      0.98      0.98     83664\n",
      "\n"
     ]
    }
   ],
   "source": [
    "# Fit the model on the training data and predict on the test data. \n",
    "# Calculate the accuracy score and confusion matrix. \n",
    "\n",
    "knn.fit(X_train, y_train)\n",
    "y_pred = knn.predict(X_test)\n",
    "\n",
    "accuracy_knn = accuracy_score(y_test, y_pred)\n",
    "precision_knn = precision_score(y_test, y_pred)\n",
    "recall_knn = recall_score(y_test, y_pred)\n",
    "print(\"Accuracy: \", accuracy_knn)\n",
    "print(\"Precision: \", precision_knn)\n",
    "print(\"Recall: \", recall_knn)\n",
    "print(confusion_matrix(y_test,y_pred))\n",
    "print(classification_report(y_test, y_pred))"
   ]
  },
  {
   "cell_type": "markdown",
   "id": "66a2e11c",
   "metadata": {},
   "source": [
    "#### 5.2.3 Random Forest"
   ]
  },
  {
   "cell_type": "code",
   "execution_count": 198,
   "id": "65e21e0d",
   "metadata": {},
   "outputs": [
    {
     "name": "stdout",
     "output_type": "stream",
     "text": [
      "Best Hyperparameters:  {'max_depth': 20, 'n_estimators': 500}\n",
      "Best Accuracy Score:  0.9892724385909377\n"
     ]
    }
   ],
   "source": [
    "# Perform a grid search to pick the optimal hyperparameters.\n",
    "\n",
    "param_grid = {'n_estimators':[50, 100, 250, 500], 'max_depth': [5, 10, 15, 20]}\n",
    "rf = RandomForestClassifier()\n",
    "num_folds=5\n",
    "rf_cv = GridSearchCV(rf, param_grid, cv=num_folds, scoring='accuracy')\n",
    "rf_cv.fit(X_train, y_train)\n",
    "best_score = rf_cv.best_score_\n",
    "best_hyperparameters = rf_cv.best_params_\n",
    "\n",
    "print(\"Best Hyperparameters: \", best_hyperparameters)\n",
    "print(\"Best Accuracy Score: \", best_score )"
   ]
  },
  {
   "cell_type": "code",
   "execution_count": 20,
   "id": "87be90f2",
   "metadata": {},
   "outputs": [
    {
     "name": "stdout",
     "output_type": "stream",
     "text": [
      "Cross-validation Accuracy: [0.98927253 0.98906336 0.98936202 0.98982519 0.98867473]\n",
      "Mean cross-validation accuracy: 0.9892395686959565\n",
      "Standard deviation in cv accuracy: 0.00037659513286394524\n"
     ]
    }
   ],
   "source": [
    "# Perform cross-validation on the train set\n",
    "\n",
    "rf = RandomForestClassifier(n_estimators = 500, max_depth = 20)\n",
    "num_folds = 5\n",
    "cv_scores_rf = cross_val_score(rf, X_train, y_train, cv=num_folds, scoring='accuracy')\n",
    "mean_cv_score_rf = np.mean(cv_scores_rf)\n",
    "cv_scores_std_rf = cv_scores_rf.std()\n",
    "print(\"Cross-validation Accuracy:\", cv_scores_rf)\n",
    "print(\"Mean cross-validation accuracy:\", mean_cv_score_rf)\n",
    "print(\"Standard deviation in cv accuracy:\", cv_scores_std_rf)"
   ]
  },
  {
   "cell_type": "code",
   "execution_count": 21,
   "id": "464a1dd2",
   "metadata": {},
   "outputs": [
    {
     "name": "stdout",
     "output_type": "stream",
     "text": [
      "Accuracy:  0.9896968827691719\n",
      "Precision:  0.9859355022020173\n",
      "Recall: 0.9936050396105756\n",
      "[[41162   594]\n",
      " [  268 41640]]\n",
      "              precision    recall  f1-score   support\n",
      "\n",
      "           0       0.99      0.99      0.99     41756\n",
      "           1       0.99      0.99      0.99     41908\n",
      "\n",
      "    accuracy                           0.99     83664\n",
      "   macro avg       0.99      0.99      0.99     83664\n",
      "weighted avg       0.99      0.99      0.99     83664\n",
      "\n"
     ]
    }
   ],
   "source": [
    "# Fit the model on the training data and predict on the test data. \n",
    "# Calculate the accuracy score and confusion matrix.\n",
    "\n",
    "rf.fit(X_train, y_train)\n",
    "y_pred = rf.predict(X_test)\n",
    "\n",
    "accuracy_rf = accuracy_score(y_test, y_pred)\n",
    "precision_rf = precision_score(y_test, y_pred)\n",
    "recall_rf = recall_score(y_test, y_pred)\n",
    "print(\"Accuracy: \", accuracy_rf)\n",
    "print(\"Precision: \", precision_rf)\n",
    "print(\"Recall:\", recall_rf)\n",
    "print(confusion_matrix(y_test,y_pred))\n",
    "print(classification_report(y_test, y_pred))"
   ]
  },
  {
   "cell_type": "markdown",
   "id": "e43a9b47",
   "metadata": {},
   "source": [
    "#### 5.2.4 Gradient Boosting"
   ]
  },
  {
   "cell_type": "code",
   "execution_count": 9,
   "id": "ccef60db",
   "metadata": {},
   "outputs": [
    {
     "name": "stdout",
     "output_type": "stream",
     "text": [
      "Best Parameters:  {'learning_rate': 0.1, 'max_depth': 7, 'n_estimators': 500}\n",
      "Best Accuracy Score:  0.9942148856699369\n"
     ]
    }
   ],
   "source": [
    "# Use grid search to optimize the hyperparameters for the model. \n",
    "param_grid = {'n_estimators': [100, 200, 500], 'learning_rate': [0.01, 0.1, 1.0], \n",
    "              'max_depth': [3, 5, 7]}\n",
    "gb = GradientBoostingClassifier()\n",
    "grid_search = GridSearchCV(gb, param_grid, cv=5, scoring='accuracy', n_jobs=-1)\n",
    "grid_search.fit(X_train, y_train)\n",
    "\n",
    "print(\"Best Parameters: \", grid_search.best_params_)\n",
    "print(\"Best Accuracy Score: \", grid_search.best_score_)"
   ]
  },
  {
   "cell_type": "code",
   "execution_count": 24,
   "id": "e04573ff",
   "metadata": {},
   "outputs": [
    {
     "name": "stdout",
     "output_type": "stream",
     "text": [
      "Cross-validation Accuracy: [0.99241021 0.99324688 0.99205163 0.99264926 0.99175233]\n",
      "Mean cross-validation accuracy: 0.9924220612242977\n",
      "Standard deviation in cv accuracy: 0.0005133876606807409\n"
     ]
    }
   ],
   "source": [
    "# Perform cross-validation on the training set\n",
    "\n",
    "gb = GradientBoostingClassifier(n_estimators=500, learning_rate=0.1, max_depth=7, random_state=123) \n",
    "num_folds = 5\n",
    "cv_scores_gb = cross_val_score(gb, X_test, y_test, cv=num_folds, scoring='accuracy')\n",
    "mean_cv_score_gb = np.mean(cv_scores_gb)\n",
    "cv_scores_std_gb = cv_scores_gb.std()\n",
    "print(\"Cross-validation Accuracy:\", cv_scores_gb)\n",
    "print(\"Mean cross-validation accuracy:\", mean_cv_score_gb)\n",
    "print(\"Standard deviation in cv accuracy:\", cv_scores_std_gb)"
   ]
  },
  {
   "cell_type": "code",
   "execution_count": 23,
   "id": "6643c3d7",
   "metadata": {},
   "outputs": [
    {
     "name": "stdout",
     "output_type": "stream",
     "text": [
      "Accuracy:  0.9945137693631669\n",
      "Precision:  0.9980773390372275\n",
      "Recall: 0.9909563806433139\n",
      "[[41676    80]\n",
      " [  379 41529]]\n",
      "              precision    recall  f1-score   support\n",
      "\n",
      "           0       0.99      1.00      0.99     41756\n",
      "           1       1.00      0.99      0.99     41908\n",
      "\n",
      "    accuracy                           0.99     83664\n",
      "   macro avg       0.99      0.99      0.99     83664\n",
      "weighted avg       0.99      0.99      0.99     83664\n",
      "\n"
     ]
    }
   ],
   "source": [
    "# Fit the model on the training data and predict on the test data. \n",
    "# Calculate the accuracy score and confusion matrix.\n",
    "\n",
    "gb.fit(X_train, y_train)\n",
    "y_pred = gb.predict(X_test)\n",
    "\n",
    "accuracy_gb = accuracy_score(y_test, y_pred)\n",
    "precision_gb = precision_score(y_test, y_pred)\n",
    "recall_gb = recall_score(y_test, y_pred)\n",
    "print(\"Accuracy: \", accuracy_gb)\n",
    "print(\"Precision: \", precision_gb)\n",
    "print(\"Recall:\", recall_gb)\n",
    "print(confusion_matrix(y_test,y_pred))\n",
    "print(classification_report(y_test, y_pred))"
   ]
  },
  {
   "cell_type": "markdown",
   "id": "abd96d91",
   "metadata": {},
   "source": [
    "#### 5.2.5 Extreme Gradient Boosting"
   ]
  },
  {
   "cell_type": "markdown",
   "id": "864cecfd",
   "metadata": {},
   "source": [
    "Since the cross validation recall score is completely off the chart, we'll try the extreme gradient boosting classifier now, to see if it works better for our dataset. "
   ]
  },
  {
   "cell_type": "code",
   "execution_count": 26,
   "id": "a2b57647",
   "metadata": {},
   "outputs": [],
   "source": [
    "import xgboost as xgb"
   ]
  },
  {
   "cell_type": "code",
   "execution_count": 13,
   "id": "e85c1812",
   "metadata": {},
   "outputs": [
    {
     "name": "stdout",
     "output_type": "stream",
     "text": [
      "Best Parameters:  {'learning_rate': 0.1, 'max_depth': 9, 'n_estimators': 500}\n",
      "Best Recall Score:  0.994716899309567\n"
     ]
    }
   ],
   "source": [
    "# Use grid search to optimize the hyperparameters for the model. \n",
    "param_grid = {'n_estimators': [100, 300, 500, 700, 900], 'learning_rate': [0.01, 0.1, 1.0], \n",
    "              'max_depth': [3, 5, 7, 9]}\n",
    "xgb = xgb.XGBClassifier()\n",
    "grid_search = GridSearchCV(xgb, param_grid, cv=5, scoring='accuracy', n_jobs=-1)\n",
    "grid_search.fit(X_train, y_train)\n",
    "\n",
    "print(\"Best Parameters: \", grid_search.best_params_)\n",
    "print(\"Best Recall Score: \", grid_search.best_score_)"
   ]
  },
  {
   "cell_type": "code",
   "execution_count": 27,
   "id": "b4bdbcdc",
   "metadata": {},
   "outputs": [
    {
     "name": "stdout",
     "output_type": "stream",
     "text": [
      "Cross-validation Accuracy: [0.99294807 0.9933664  0.99270902 0.99306759 0.99276835]\n",
      "Mean cross-validation Accuracy: 0.9929718851174096\n",
      "Standard deviation in cv Accuracy: 0.00023490281974392736\n"
     ]
    }
   ],
   "source": [
    "# Perform cross-validation on the training set\n",
    "\n",
    "xgb = xgb.XGBClassifier(n_estimators=500, learning_rate=0.1, max_depth=9, random_state=123)\n",
    "num_folds = 5\n",
    "cv_scores_xgb = cross_val_score(xgb, X_test, y_test, cv=num_folds, scoring='accuracy')\n",
    "mean_cv_score_xgb = np.mean(cv_scores_xgb)\n",
    "cv_scores_std_xgb = cv_scores_xgb.std()\n",
    "print(\"Cross-validation Accuracy:\", cv_scores_xgb)\n",
    "print(\"Mean cross-validation Accuracy:\", mean_cv_score_xgb)\n",
    "print(\"Standard deviation in cv Accuracy:\", cv_scores_std_xgb)"
   ]
  },
  {
   "cell_type": "code",
   "execution_count": 28,
   "id": "bef66f83",
   "metadata": {},
   "outputs": [
    {
     "name": "stdout",
     "output_type": "stream",
     "text": [
      "Accuracy:  0.9947886785236183\n",
      "Precision:  0.9982459512710846\n",
      "Recall: 0.9913381693232796\n",
      "[[41683    73]\n",
      " [  363 41545]]\n",
      "              precision    recall  f1-score   support\n",
      "\n",
      "           0       0.99      1.00      0.99     41756\n",
      "           1       1.00      0.99      0.99     41908\n",
      "\n",
      "    accuracy                           0.99     83664\n",
      "   macro avg       0.99      0.99      0.99     83664\n",
      "weighted avg       0.99      0.99      0.99     83664\n",
      "\n"
     ]
    }
   ],
   "source": [
    "# Fit the model on the training data and predict on the test data. \n",
    "# Calculate the accuracy score and confusion matrix.\n",
    "\n",
    "xgb.fit(X_train, y_train)\n",
    "y_pred = xgb.predict(X_test)\n",
    "\n",
    "accuracy_xgb = accuracy_score(y_test, y_pred)\n",
    "precision_xgb = precision_score(y_test, y_pred)\n",
    "recall_xgb = recall_score(y_test, y_pred)\n",
    "print(\"Accuracy: \", accuracy_xgb)\n",
    "print(\"Precision: \", precision_xgb)\n",
    "print(\"Recall:\", recall_xgb)\n",
    "print(confusion_matrix(y_test,y_pred))\n",
    "print(classification_report(y_test, y_pred))"
   ]
  },
  {
   "cell_type": "markdown",
   "id": "fcddbd89",
   "metadata": {},
   "source": [
    "#### 5.2.6 Decision Trees"
   ]
  },
  {
   "cell_type": "code",
   "execution_count": 14,
   "id": "f8eb08b1",
   "metadata": {},
   "outputs": [
    {
     "name": "stdout",
     "output_type": "stream",
     "text": [
      "Best Parameters:  {'max_depth': 35, 'min_samples_leaf': 1, 'min_samples_split': 5}\n",
      "Best Accuracy Score:  0.9855222712942734\n"
     ]
    }
   ],
   "source": [
    "# Use grid search to optimize the hyperparameters for the model.\n",
    "\n",
    "dt = DecisionTreeClassifier()\n",
    "param_grid = {'max_depth': [5, 10, 15, 20, 25, 30, 35, 40, 45, 50],\n",
    "              'min_samples_split': [2, 5, 10, 15, 20],\n",
    "              'min_samples_leaf': [1, 2, 4, 7, 10]}\n",
    "grid_search = GridSearchCV(dt, param_grid, cv=5, scoring='accuracy', n_jobs=-1)\n",
    "grid_search.fit(X_train, y_train)\n",
    "\n",
    "print(\"Best Parameters: \", grid_search.best_params_)\n",
    "print(\"Best Accuracy Score: \", grid_search.best_score_)"
   ]
  },
  {
   "cell_type": "code",
   "execution_count": 29,
   "id": "b23f960d",
   "metadata": {},
   "outputs": [
    {
     "name": "stdout",
     "output_type": "stream",
     "text": [
      "Cross-validation Accuracy: [0.98662802 0.98541782 0.98514866 0.98528313 0.98493949]\n",
      "Mean cross-validation Accuracy: 0.9854834243363566\n",
      "Standard deviation in cv Accuracy: 0.0005937088931176012\n"
     ]
    }
   ],
   "source": [
    "# Perform cross-validation on the training set\n",
    "\n",
    "dt = DecisionTreeClassifier(max_depth=35, min_samples_leaf=1, min_samples_split=5, random_state=123)\n",
    "num_folds = 5\n",
    "cv_scores_dt = cross_val_score(dt, X_train,  y_train, cv=num_folds, scoring='accuracy')\n",
    "mean_cv_score_dt = np.mean(cv_scores_dt)\n",
    "cv_scores_std_dt = cv_scores_dt.std()\n",
    "print(\"Cross-validation Accuracy:\", cv_scores_dt)\n",
    "print(\"Mean cross-validation Accuracy:\", mean_cv_score_dt)\n",
    "print(\"Standard deviation in cv Accuracy:\", cv_scores_std_dt)"
   ]
  },
  {
   "cell_type": "code",
   "execution_count": 30,
   "id": "e58b7043",
   "metadata": {},
   "outputs": [
    {
     "name": "stdout",
     "output_type": "stream",
     "text": [
      "Accuracy:  0.9870075540256263\n",
      "Precision:  0.9885349098829556\n",
      "Recall: 0.9854920301613057\n",
      "[[41277   479]\n",
      " [  608 41300]]\n",
      "              precision    recall  f1-score   support\n",
      "\n",
      "           0       0.99      0.99      0.99     41756\n",
      "           1       0.99      0.99      0.99     41908\n",
      "\n",
      "    accuracy                           0.99     83664\n",
      "   macro avg       0.99      0.99      0.99     83664\n",
      "weighted avg       0.99      0.99      0.99     83664\n",
      "\n"
     ]
    }
   ],
   "source": [
    "# Fit the model on the training data and predict on the test data. \n",
    "# Calculate the accuracy score and confusion matrix.\n",
    "\n",
    "dt.fit(X_train, y_train)\n",
    "y_pred = dt.predict(X_test)\n",
    "\n",
    "accuracy_dt = accuracy_score(y_test, y_pred)\n",
    "precision_dt = precision_score(y_test, y_pred)\n",
    "recall_dt = recall_score(y_test, y_pred)\n",
    "print(\"Accuracy: \", accuracy_dt)\n",
    "print(\"Precision: \", precision_dt)\n",
    "print(\"Recall:\", recall_dt)\n",
    "print(confusion_matrix(y_test,y_pred))\n",
    "print(classification_report(y_test, y_pred))"
   ]
  },
  {
   "cell_type": "markdown",
   "id": "391e46b6",
   "metadata": {},
   "source": [
    "### 5.3 Comparison of Models\n",
    "\n",
    "Now that we've run 6 different models, let's compare the scores and pick the one that works the best and delivers the highest score.  Since we are investigating flight cancellation, and every flight cancellation will cause a lot of economic loss for the company, we want a model that is able to capture every since possible ture positive case, hence recall is the most important score that we'll use to evaluate the effectiveness of the model. "
   ]
  },
  {
   "cell_type": "code",
   "execution_count": 36,
   "id": "22be6b21",
   "metadata": {},
   "outputs": [
    {
     "name": "stdout",
     "output_type": "stream",
     "text": [
      "                Algorithm  Accuracy  Precision    Recall\n",
      "0     Logistic Regression  0.671029   0.652620  0.733893\n",
      "1                     KNN  0.982454   0.968012  0.997948\n",
      "2           Random Forest  0.989697   0.985936  0.993605\n",
      "3          Gradient Boost  0.994514   0.998077  0.990956\n",
      "4  Extreme Gradient Boost  0.994789   0.998246  0.991338\n",
      "5           Decision Tree  0.987008   0.988535  0.985492\n"
     ]
    }
   ],
   "source": [
    "Labels = ['Logistic Regression','KNN', 'Random Forest','Gradient Boost', \n",
    "            'Extreme Gradient Boost', 'Decision Tree']\n",
    "Accuracy = [accuracy_lr,accuracy_knn,accuracy_rf,accuracy_gb,accuracy_xgb,accuracy_dt]\n",
    "Precision = [precision_lr,precision_knn,precision_rf,precision_gb,precision_xgb,precision_dt]\n",
    "Recall = [recall_lr,recall_knn,recall_rf,recall_gb,recall_xgb,recall_dt]\n",
    "\n",
    "score_tab = pd.DataFrame(list(zip(Labels, Accuracy, Precision, Recall)), \n",
    "               columns =['Algorithm', 'Accuracy', 'Precision', 'Recall']) \n",
    "print(score_tab)"
   ]
  },
  {
   "cell_type": "markdown",
   "id": "74ab0e20",
   "metadata": {},
   "source": [
    "In our case, every single flight cancellation will lead to financial loss for the company.  As a result, we want to identify and avoid as many potential flight cancellations as possible.  That means a high recall score is much more important than any other performance score.  Since the KNN model delivers the highest recall score of 99.7948%, and the precision and accuracy scores from KNN is reasonabley high in the 98% range, KNN is our best perfomring model.\n",
    "\n",
    "Since KNN algorithm is a distance-based algorithm, it doesn't learn a set of weights or coefficients that represent the importance of each feature. Instead, it calculates the distances between the query point and the training points, and uses the labels of the k-nearest neighbors to make predictions. Therefore, the importance of each feature is implicitly determined by the distance metric used and the distribution of the data.\n",
    "\n",
    "In order to get an idea of which features are most important for KNN, we'll use the feature permutation technique."
   ]
  },
  {
   "cell_type": "code",
   "execution_count": 38,
   "id": "096b65f8",
   "metadata": {},
   "outputs": [],
   "source": [
    "from sklearn.inspection import permutation_importance"
   ]
  },
  {
   "cell_type": "code",
   "execution_count": 39,
   "id": "69c901ce",
   "metadata": {},
   "outputs": [],
   "source": [
    "result = permutation_importance(knn, X_test, y_test, n_repeats=10, random_state=123)"
   ]
  },
  {
   "cell_type": "code",
   "execution_count": 71,
   "id": "01fa6a52",
   "metadata": {},
   "outputs": [
    {
     "name": "stdout",
     "output_type": "stream",
     "text": [
      "                             Importance\n",
      "DESTINATION_AIRPORT_ENCODED    0.408993\n",
      "DAY_OF_WEEK_SCALED             0.271775\n",
      "DESTINATION_STATE_ENCODED      0.260433\n",
      "DAY_SCALED                     0.240243\n",
      "AIRLINE_ENCODED                0.233756\n",
      "MONTH_SCALED                   0.226292\n",
      "FLIGHT_NUMBER_SCALED           0.186029\n",
      "SCHEDULED_ARRIVAL_SCALED       0.015040\n",
      "SCHEDULED_DEPARTURE_SCALED     0.009878\n",
      "SCHEDULED_TIME_SCALED          0.001131\n",
      "DISTANCE_SCALED                0.000078\n"
     ]
    },
    {
     "data": {
      "image/png": "[encoded data removed]",
      "text/plain": [
       "<Figure size 600x400 with 1 Axes>"
      ]
     },
     "metadata": {},
     "output_type": "display_data"
    }
   ],
   "source": [
    "# Sort & plot the permutation importance scores for all features.\n",
    "\n",
    "feature_importance = pd.DataFrame(index=X.columns)\n",
    "feature_importance['Importance'] = result.importances_mean\n",
    "feature_importance = feature_importance.sort_values('Importance')\n",
    "print(feature_importance.sort_values('Importance', ascending=False))\n",
    "\n",
    "plt.figure(figsize=(6, 4))\n",
    "plt.barh(feature_importance.index, feature_importance['Importance'])\n",
    "plt.xlabel(\"Importance Score\", size=12)\n",
    "plt.ylabel(\"Feature\", size=12)\n",
    "plt.yticks(size=7)\n",
    "plt.title(\"Permutation Importance Scores for KNN Classifier Model\")\n",
    "plt.show()\n"
   ]
  },
  {
   "cell_type": "markdown",
   "id": "1f811555",
   "metadata": {},
   "source": [
    "### 5.4 Conclusion:\n",
    "\n",
    "In order to predict the flight cancellations, we have considered a group of 11 features.  The features that have the most impact on flight cancellations are destination airports, days of week, destination states, days, airlines, months and flight numbers. \n",
    "\n",
    "This is a classification problem, so we've tried the below 6 classification models:\n",
    "\n",
    "    1. Logistic Regression\n",
    "    2. k-Nearest Neighbors\n",
    "    3. Random Forests\n",
    "    4. Gradient Boosting\n",
    "    5. Extemem Gradient Boosting\n",
    "    6. Decision Trees\n",
    "    \n",
    "For each model, we've followed the same process.  First, we use grid search to find out the optimal hyperparameters for the model.  Then, we train the model and cross validate it using 5-fold CV approach. Finally, we predict the test data and calculate performance scores like accuracy, precision, recall, etc.\n",
    "\n",
    "We then evaluated each models in terms of model accuracy score, precision score and recall score.  Since we care most about the true positive cases, we've chosen KNN as teh best performing model based on the recall score."
   ]
  },
  {
   "cell_type": "code",
   "execution_count": null,
   "id": "8dfc4ceb",
   "metadata": {},
   "outputs": [],
   "source": []
  }
 ],
 "metadata": {
  "celltoolbar": "Raw Cell Format",
  "kernelspec": {
   "display_name": "Python 3 (ipykernel)",
   "language": "python",
   "name": "python3"
  },
  "language_info": {
   "codemirror_mode": {
    "name": "ipython",
    "version": 3
   },
   "file_extension": ".py",
   "mimetype": "text/x-python",
   "name": "python",
   "nbconvert_exporter": "python",
   "pygments_lexer": "ipython3",
   "version": "3.10.9"
  }
 },
 "nbformat": 4,
 "nbformat_minor": 5
}
