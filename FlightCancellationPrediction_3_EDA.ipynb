{
 "cells": [
  {
   "cell_type": "markdown",
   "id": "1d548d69",
   "metadata": {},
   "source": [
    "## Data Science Capstone Project One: Flight Cancellation Prediction\n",
    "\n",
    "### 3. Exploratory Data Analysis\n",
    "In this part of the project, we'll focus on gaining insights and understanding about the data.  Features will be investigated using either visualization tools or statistics models.  The goal is to have a better understanding of the core characteristics of the data and identify statistical relationship strengths that could be used to develop hypotheses for further analysis.\n"
   ]
  },
  {
   "cell_type": "markdown",
   "id": "80b31a37",
   "metadata": {},
   "source": [
    "### 3.1 Sourcing & Loading\n",
    "\n",
    "#### 3.1.1 Import relevant libraries and packages\n"
   ]
  },
  {
   "cell_type": "code",
   "execution_count": 48,
   "id": "e5f0342d",
   "metadata": {},
   "outputs": [],
   "source": [
    "import pandas as pd\n",
    "import numpy as np\n",
    "import matplotlib.pyplot as plt\n",
    "import seaborn as sns\n"
   ]
  },
  {
   "cell_type": "markdown",
   "id": "5ae9b552",
   "metadata": {},
   "source": [
    "#### 3.1.2 Import & review data"
   ]
  },
  {
   "cell_type": "code",
   "execution_count": 49,
   "id": "6cc1fcb6",
   "metadata": {},
   "outputs": [],
   "source": [
    "df = pd.read_csv(\"flight_lax.csv\")"
   ]
  },
  {
   "cell_type": "code",
   "execution_count": 50,
   "id": "fe1e74f8",
   "metadata": {},
   "outputs": [
    {
     "data": {
      "text/html": [
       "<div>\n",
       "<style scoped>\n",
       "    .dataframe tbody tr th:only-of-type {\n",
       "        vertical-align: middle;\n",
       "    }\n",
       "\n",
       "    .dataframe tbody tr th {\n",
       "        vertical-align: top;\n",
       "    }\n",
       "\n",
       "    .dataframe thead th {\n",
       "        text-align: right;\n",
       "    }\n",
       "</style>\n",
       "<table border=\"1\" class=\"dataframe\">\n",
       "  <thead>\n",
       "    <tr style=\"text-align: right;\">\n",
       "      <th></th>\n",
       "      <th>Unnamed: 0</th>\n",
       "      <th>MONTH</th>\n",
       "      <th>DAY</th>\n",
       "      <th>DAY_OF_WEEK</th>\n",
       "      <th>FLIGHT_NUMBER</th>\n",
       "      <th>DESTINATION_AIRPORT</th>\n",
       "      <th>SCHEDULED_DEPARTURE</th>\n",
       "      <th>SCHEDULED_TIME</th>\n",
       "      <th>DISTANCE</th>\n",
       "      <th>SCHEDULED_ARRIVAL</th>\n",
       "      <th>CANCELLED</th>\n",
       "      <th>DESTINATION_CITY</th>\n",
       "      <th>DESTINATION_STATE</th>\n",
       "      <th>AIRLINE</th>\n",
       "    </tr>\n",
       "  </thead>\n",
       "  <tbody>\n",
       "    <tr>\n",
       "      <th>0</th>\n",
       "      <td>0</td>\n",
       "      <td>1</td>\n",
       "      <td>1</td>\n",
       "      <td>4</td>\n",
       "      <td>2336</td>\n",
       "      <td>PBI</td>\n",
       "      <td>10</td>\n",
       "      <td>280.0</td>\n",
       "      <td>2330</td>\n",
       "      <td>750</td>\n",
       "      <td>0</td>\n",
       "      <td>West Palm Beach</td>\n",
       "      <td>FL</td>\n",
       "      <td>American Airlines Inc.</td>\n",
       "    </tr>\n",
       "    <tr>\n",
       "      <th>1</th>\n",
       "      <td>1</td>\n",
       "      <td>1</td>\n",
       "      <td>1</td>\n",
       "      <td>4</td>\n",
       "      <td>258</td>\n",
       "      <td>MIA</td>\n",
       "      <td>20</td>\n",
       "      <td>285.0</td>\n",
       "      <td>2342</td>\n",
       "      <td>805</td>\n",
       "      <td>0</td>\n",
       "      <td>Miami</td>\n",
       "      <td>FL</td>\n",
       "      <td>American Airlines Inc.</td>\n",
       "    </tr>\n",
       "    <tr>\n",
       "      <th>2</th>\n",
       "      <td>2</td>\n",
       "      <td>1</td>\n",
       "      <td>1</td>\n",
       "      <td>4</td>\n",
       "      <td>2013</td>\n",
       "      <td>CLT</td>\n",
       "      <td>30</td>\n",
       "      <td>273.0</td>\n",
       "      <td>2125</td>\n",
       "      <td>803</td>\n",
       "      <td>0</td>\n",
       "      <td>Charlotte</td>\n",
       "      <td>NC</td>\n",
       "      <td>US Airways Inc.</td>\n",
       "    </tr>\n",
       "  </tbody>\n",
       "</table>\n",
       "</div>"
      ],
      "text/plain": [
       "   Unnamed: 0  MONTH  DAY  DAY_OF_WEEK  FLIGHT_NUMBER DESTINATION_AIRPORT  \\\n",
       "0           0      1    1            4           2336                 PBI   \n",
       "1           1      1    1            4            258                 MIA   \n",
       "2           2      1    1            4           2013                 CLT   \n",
       "\n",
       "   SCHEDULED_DEPARTURE  SCHEDULED_TIME  DISTANCE  SCHEDULED_ARRIVAL  \\\n",
       "0                   10           280.0      2330                750   \n",
       "1                   20           285.0      2342                805   \n",
       "2                   30           273.0      2125                803   \n",
       "\n",
       "   CANCELLED DESTINATION_CITY DESTINATION_STATE                 AIRLINE  \n",
       "0          0  West Palm Beach                FL  American Airlines Inc.  \n",
       "1          0            Miami                FL  American Airlines Inc.  \n",
       "2          0        Charlotte                NC         US Airways Inc.  "
      ]
     },
     "execution_count": 50,
     "metadata": {},
     "output_type": "execute_result"
    }
   ],
   "source": [
    "df.head(3)"
   ]
  },
  {
   "cell_type": "code",
   "execution_count": 51,
   "id": "0324f3ad",
   "metadata": {},
   "outputs": [
    {
     "name": "stdout",
     "output_type": "stream",
     "text": [
      "(211388, 13)\n"
     ]
    },
    {
     "data": {
      "text/html": [
       "<div>\n",
       "<style scoped>\n",
       "    .dataframe tbody tr th:only-of-type {\n",
       "        vertical-align: middle;\n",
       "    }\n",
       "\n",
       "    .dataframe tbody tr th {\n",
       "        vertical-align: top;\n",
       "    }\n",
       "\n",
       "    .dataframe thead th {\n",
       "        text-align: right;\n",
       "    }\n",
       "</style>\n",
       "<table border=\"1\" class=\"dataframe\">\n",
       "  <thead>\n",
       "    <tr style=\"text-align: right;\">\n",
       "      <th></th>\n",
       "      <th>MONTH</th>\n",
       "      <th>DAY</th>\n",
       "      <th>DAY_OF_WEEK</th>\n",
       "      <th>FLIGHT_NUMBER</th>\n",
       "      <th>DESTINATION_AIRPORT</th>\n",
       "      <th>SCHEDULED_DEPARTURE</th>\n",
       "      <th>SCHEDULED_TIME</th>\n",
       "      <th>DISTANCE</th>\n",
       "      <th>SCHEDULED_ARRIVAL</th>\n",
       "      <th>CANCELLED</th>\n",
       "      <th>DESTINATION_CITY</th>\n",
       "      <th>DESTINATION_STATE</th>\n",
       "      <th>AIRLINE</th>\n",
       "    </tr>\n",
       "  </thead>\n",
       "  <tbody>\n",
       "    <tr>\n",
       "      <th>0</th>\n",
       "      <td>1</td>\n",
       "      <td>1</td>\n",
       "      <td>4</td>\n",
       "      <td>2336</td>\n",
       "      <td>PBI</td>\n",
       "      <td>10</td>\n",
       "      <td>280.0</td>\n",
       "      <td>2330</td>\n",
       "      <td>750</td>\n",
       "      <td>0</td>\n",
       "      <td>West Palm Beach</td>\n",
       "      <td>FL</td>\n",
       "      <td>American Airlines Inc.</td>\n",
       "    </tr>\n",
       "    <tr>\n",
       "      <th>1</th>\n",
       "      <td>1</td>\n",
       "      <td>1</td>\n",
       "      <td>4</td>\n",
       "      <td>258</td>\n",
       "      <td>MIA</td>\n",
       "      <td>20</td>\n",
       "      <td>285.0</td>\n",
       "      <td>2342</td>\n",
       "      <td>805</td>\n",
       "      <td>0</td>\n",
       "      <td>Miami</td>\n",
       "      <td>FL</td>\n",
       "      <td>American Airlines Inc.</td>\n",
       "    </tr>\n",
       "    <tr>\n",
       "      <th>2</th>\n",
       "      <td>1</td>\n",
       "      <td>1</td>\n",
       "      <td>4</td>\n",
       "      <td>2013</td>\n",
       "      <td>CLT</td>\n",
       "      <td>30</td>\n",
       "      <td>273.0</td>\n",
       "      <td>2125</td>\n",
       "      <td>803</td>\n",
       "      <td>0</td>\n",
       "      <td>Charlotte</td>\n",
       "      <td>NC</td>\n",
       "      <td>US Airways Inc.</td>\n",
       "    </tr>\n",
       "    <tr>\n",
       "      <th>3</th>\n",
       "      <td>1</td>\n",
       "      <td>1</td>\n",
       "      <td>4</td>\n",
       "      <td>1434</td>\n",
       "      <td>MSP</td>\n",
       "      <td>35</td>\n",
       "      <td>214.0</td>\n",
       "      <td>1535</td>\n",
       "      <td>609</td>\n",
       "      <td>0</td>\n",
       "      <td>Minneapolis</td>\n",
       "      <td>MN</td>\n",
       "      <td>Delta Air Lines Inc.</td>\n",
       "    </tr>\n",
       "    <tr>\n",
       "      <th>4</th>\n",
       "      <td>1</td>\n",
       "      <td>1</td>\n",
       "      <td>4</td>\n",
       "      <td>115</td>\n",
       "      <td>MIA</td>\n",
       "      <td>105</td>\n",
       "      <td>286.0</td>\n",
       "      <td>2342</td>\n",
       "      <td>851</td>\n",
       "      <td>0</td>\n",
       "      <td>Miami</td>\n",
       "      <td>FL</td>\n",
       "      <td>American Airlines Inc.</td>\n",
       "    </tr>\n",
       "  </tbody>\n",
       "</table>\n",
       "</div>"
      ],
      "text/plain": [
       "   MONTH  DAY  DAY_OF_WEEK  FLIGHT_NUMBER DESTINATION_AIRPORT  \\\n",
       "0      1    1            4           2336                 PBI   \n",
       "1      1    1            4            258                 MIA   \n",
       "2      1    1            4           2013                 CLT   \n",
       "3      1    1            4           1434                 MSP   \n",
       "4      1    1            4            115                 MIA   \n",
       "\n",
       "   SCHEDULED_DEPARTURE  SCHEDULED_TIME  DISTANCE  SCHEDULED_ARRIVAL  \\\n",
       "0                   10           280.0      2330                750   \n",
       "1                   20           285.0      2342                805   \n",
       "2                   30           273.0      2125                803   \n",
       "3                   35           214.0      1535                609   \n",
       "4                  105           286.0      2342                851   \n",
       "\n",
       "   CANCELLED DESTINATION_CITY DESTINATION_STATE                 AIRLINE  \n",
       "0          0  West Palm Beach                FL  American Airlines Inc.  \n",
       "1          0            Miami                FL  American Airlines Inc.  \n",
       "2          0        Charlotte                NC         US Airways Inc.  \n",
       "3          0      Minneapolis                MN    Delta Air Lines Inc.  \n",
       "4          0            Miami                FL  American Airlines Inc.  "
      ]
     },
     "execution_count": 51,
     "metadata": {},
     "output_type": "execute_result"
    }
   ],
   "source": [
    "# Let's get rid of the first column \"Unnamed:0\" and then check the size of the data.\n",
    "df.drop(['Unnamed: 0'], axis=1, inplace=True)\n",
    "print(df.shape)\n",
    "df.head(5)"
   ]
  },
  {
   "cell_type": "markdown",
   "id": "c5783d3c",
   "metadata": {},
   "source": [
    "### 3.2 Data Exploration\n",
    "\n",
    "#### 3.2.1 Airline Overview\n",
    "\n",
    "First of all, we want to see if there's any possible relationship between airlines and flight cancellations."
   ]
  },
  {
   "cell_type": "code",
   "execution_count": 52,
   "id": "da817e2b",
   "metadata": {},
   "outputs": [],
   "source": [
    "airline = pd.DataFrame()\n",
    "airline['TOTAL_FLIGHTS'] = df[['AIRLINE', 'CANCELLED']].groupby('AIRLINE').count()"
   ]
  },
  {
   "cell_type": "code",
   "execution_count": 53,
   "id": "44a47503",
   "metadata": {},
   "outputs": [
    {
     "data": {
      "text/html": [
       "<div>\n",
       "<style scoped>\n",
       "    .dataframe tbody tr th:only-of-type {\n",
       "        vertical-align: middle;\n",
       "    }\n",
       "\n",
       "    .dataframe tbody tr th {\n",
       "        vertical-align: top;\n",
       "    }\n",
       "\n",
       "    .dataframe thead th {\n",
       "        text-align: right;\n",
       "    }\n",
       "</style>\n",
       "<table border=\"1\" class=\"dataframe\">\n",
       "  <thead>\n",
       "    <tr style=\"text-align: right;\">\n",
       "      <th></th>\n",
       "      <th>TOTAL_FLIGHTS</th>\n",
       "      <th>CANCELLED</th>\n",
       "      <th>%_CANCELLED</th>\n",
       "    </tr>\n",
       "    <tr>\n",
       "      <th>AIRLINE</th>\n",
       "      <th></th>\n",
       "      <th></th>\n",
       "      <th></th>\n",
       "    </tr>\n",
       "  </thead>\n",
       "  <tbody>\n",
       "    <tr>\n",
       "      <th>American Eagle Airlines Inc.</th>\n",
       "      <td>184</td>\n",
       "      <td>13</td>\n",
       "      <td>0.070652</td>\n",
       "    </tr>\n",
       "    <tr>\n",
       "      <th>Southwest Airlines Co.</th>\n",
       "      <td>40818</td>\n",
       "      <td>830</td>\n",
       "      <td>0.020334</td>\n",
       "    </tr>\n",
       "    <tr>\n",
       "      <th>Skywest Airlines Inc.</th>\n",
       "      <td>39078</td>\n",
       "      <td>463</td>\n",
       "      <td>0.011848</td>\n",
       "    </tr>\n",
       "    <tr>\n",
       "      <th>Spirit Air Lines</th>\n",
       "      <td>4801</td>\n",
       "      <td>56</td>\n",
       "      <td>0.011664</td>\n",
       "    </tr>\n",
       "    <tr>\n",
       "      <th>United Air Lines Inc.</th>\n",
       "      <td>29852</td>\n",
       "      <td>306</td>\n",
       "      <td>0.010251</td>\n",
       "    </tr>\n",
       "    <tr>\n",
       "      <th>American Airlines Inc.</th>\n",
       "      <td>35831</td>\n",
       "      <td>333</td>\n",
       "      <td>0.009294</td>\n",
       "    </tr>\n",
       "    <tr>\n",
       "      <th>JetBlue Airways</th>\n",
       "      <td>4465</td>\n",
       "      <td>35</td>\n",
       "      <td>0.007839</td>\n",
       "    </tr>\n",
       "    <tr>\n",
       "      <th>US Airways Inc.</th>\n",
       "      <td>3688</td>\n",
       "      <td>27</td>\n",
       "      <td>0.007321</td>\n",
       "    </tr>\n",
       "    <tr>\n",
       "      <th>Virgin America</th>\n",
       "      <td>12877</td>\n",
       "      <td>76</td>\n",
       "      <td>0.005902</td>\n",
       "    </tr>\n",
       "    <tr>\n",
       "      <th>Frontier Airlines Inc.</th>\n",
       "      <td>1522</td>\n",
       "      <td>6</td>\n",
       "      <td>0.003942</td>\n",
       "    </tr>\n",
       "    <tr>\n",
       "      <th>Hawaiian Airlines Inc.</th>\n",
       "      <td>1671</td>\n",
       "      <td>6</td>\n",
       "      <td>0.003591</td>\n",
       "    </tr>\n",
       "    <tr>\n",
       "      <th>Alaska Airlines Inc.</th>\n",
       "      <td>8934</td>\n",
       "      <td>25</td>\n",
       "      <td>0.002798</td>\n",
       "    </tr>\n",
       "    <tr>\n",
       "      <th>Delta Air Lines Inc.</th>\n",
       "      <td>27667</td>\n",
       "      <td>54</td>\n",
       "      <td>0.001952</td>\n",
       "    </tr>\n",
       "  </tbody>\n",
       "</table>\n",
       "</div>"
      ],
      "text/plain": [
       "                              TOTAL_FLIGHTS  CANCELLED  %_CANCELLED\n",
       "AIRLINE                                                            \n",
       "American Eagle Airlines Inc.            184         13     0.070652\n",
       "Southwest Airlines Co.                40818        830     0.020334\n",
       "Skywest Airlines Inc.                 39078        463     0.011848\n",
       "Spirit Air Lines                       4801         56     0.011664\n",
       "United Air Lines Inc.                 29852        306     0.010251\n",
       "American Airlines Inc.                35831        333     0.009294\n",
       "JetBlue Airways                        4465         35     0.007839\n",
       "US Airways Inc.                        3688         27     0.007321\n",
       "Virgin America                        12877         76     0.005902\n",
       "Frontier Airlines Inc.                 1522          6     0.003942\n",
       "Hawaiian Airlines Inc.                 1671          6     0.003591\n",
       "Alaska Airlines Inc.                   8934         25     0.002798\n",
       "Delta Air Lines Inc.                  27667         54     0.001952"
      ]
     },
     "execution_count": 53,
     "metadata": {},
     "output_type": "execute_result"
    }
   ],
   "source": [
    "airline['CANCELLED'] = df[['AIRLINE', 'CANCELLED']].groupby('AIRLINE').sum()\n",
    "airline['%_CANCELLED'] = airline['CANCELLED']/airline['TOTAL_FLIGHTS']\n",
    "airline.sort_values(by = '%_CANCELLED', ascending=[False])"
   ]
  },
  {
   "cell_type": "markdown",
   "id": "8d523a59",
   "metadata": {},
   "source": [
    "American Eagle Airlines is ranked No.1 in terms of % of flights canceled. However, if we look at the absolute number of flight cancellations, American Eagle Airlines' number is 13, extremely low compared to the 2nd place, Southwest Airlines, which has 830 flight cancellations but only 2% cancellation rate as a result of the large number of flights Southwest has out of LAX.  Since we are interested in the absolute number of flights in this study, we'll focus on the numbers of flight cancellation instead of percentages."
   ]
  },
  {
   "cell_type": "code",
   "execution_count": 54,
   "id": "c1134d36",
   "metadata": {},
   "outputs": [
    {
     "data": {
      "text/html": [
       "<div>\n",
       "<style scoped>\n",
       "    .dataframe tbody tr th:only-of-type {\n",
       "        vertical-align: middle;\n",
       "    }\n",
       "\n",
       "    .dataframe tbody tr th {\n",
       "        vertical-align: top;\n",
       "    }\n",
       "\n",
       "    .dataframe thead th {\n",
       "        text-align: right;\n",
       "    }\n",
       "</style>\n",
       "<table border=\"1\" class=\"dataframe\">\n",
       "  <thead>\n",
       "    <tr style=\"text-align: right;\">\n",
       "      <th></th>\n",
       "      <th>TOTAL_FLIGHTS</th>\n",
       "      <th>CANCELLED</th>\n",
       "      <th>%_CANCELLED</th>\n",
       "    </tr>\n",
       "    <tr>\n",
       "      <th>AIRLINE</th>\n",
       "      <th></th>\n",
       "      <th></th>\n",
       "      <th></th>\n",
       "    </tr>\n",
       "  </thead>\n",
       "  <tbody>\n",
       "    <tr>\n",
       "      <th>Southwest Airlines Co.</th>\n",
       "      <td>40818</td>\n",
       "      <td>830</td>\n",
       "      <td>0.020334</td>\n",
       "    </tr>\n",
       "    <tr>\n",
       "      <th>Skywest Airlines Inc.</th>\n",
       "      <td>39078</td>\n",
       "      <td>463</td>\n",
       "      <td>0.011848</td>\n",
       "    </tr>\n",
       "    <tr>\n",
       "      <th>American Airlines Inc.</th>\n",
       "      <td>35831</td>\n",
       "      <td>333</td>\n",
       "      <td>0.009294</td>\n",
       "    </tr>\n",
       "    <tr>\n",
       "      <th>United Air Lines Inc.</th>\n",
       "      <td>29852</td>\n",
       "      <td>306</td>\n",
       "      <td>0.010251</td>\n",
       "    </tr>\n",
       "    <tr>\n",
       "      <th>Virgin America</th>\n",
       "      <td>12877</td>\n",
       "      <td>76</td>\n",
       "      <td>0.005902</td>\n",
       "    </tr>\n",
       "    <tr>\n",
       "      <th>Spirit Air Lines</th>\n",
       "      <td>4801</td>\n",
       "      <td>56</td>\n",
       "      <td>0.011664</td>\n",
       "    </tr>\n",
       "    <tr>\n",
       "      <th>Delta Air Lines Inc.</th>\n",
       "      <td>27667</td>\n",
       "      <td>54</td>\n",
       "      <td>0.001952</td>\n",
       "    </tr>\n",
       "    <tr>\n",
       "      <th>JetBlue Airways</th>\n",
       "      <td>4465</td>\n",
       "      <td>35</td>\n",
       "      <td>0.007839</td>\n",
       "    </tr>\n",
       "    <tr>\n",
       "      <th>US Airways Inc.</th>\n",
       "      <td>3688</td>\n",
       "      <td>27</td>\n",
       "      <td>0.007321</td>\n",
       "    </tr>\n",
       "    <tr>\n",
       "      <th>Alaska Airlines Inc.</th>\n",
       "      <td>8934</td>\n",
       "      <td>25</td>\n",
       "      <td>0.002798</td>\n",
       "    </tr>\n",
       "    <tr>\n",
       "      <th>American Eagle Airlines Inc.</th>\n",
       "      <td>184</td>\n",
       "      <td>13</td>\n",
       "      <td>0.070652</td>\n",
       "    </tr>\n",
       "    <tr>\n",
       "      <th>Frontier Airlines Inc.</th>\n",
       "      <td>1522</td>\n",
       "      <td>6</td>\n",
       "      <td>0.003942</td>\n",
       "    </tr>\n",
       "    <tr>\n",
       "      <th>Hawaiian Airlines Inc.</th>\n",
       "      <td>1671</td>\n",
       "      <td>6</td>\n",
       "      <td>0.003591</td>\n",
       "    </tr>\n",
       "  </tbody>\n",
       "</table>\n",
       "</div>"
      ],
      "text/plain": [
       "                              TOTAL_FLIGHTS  CANCELLED  %_CANCELLED\n",
       "AIRLINE                                                            \n",
       "Southwest Airlines Co.                40818        830     0.020334\n",
       "Skywest Airlines Inc.                 39078        463     0.011848\n",
       "American Airlines Inc.                35831        333     0.009294\n",
       "United Air Lines Inc.                 29852        306     0.010251\n",
       "Virgin America                        12877         76     0.005902\n",
       "Spirit Air Lines                       4801         56     0.011664\n",
       "Delta Air Lines Inc.                  27667         54     0.001952\n",
       "JetBlue Airways                        4465         35     0.007839\n",
       "US Airways Inc.                        3688         27     0.007321\n",
       "Alaska Airlines Inc.                   8934         25     0.002798\n",
       "American Eagle Airlines Inc.            184         13     0.070652\n",
       "Frontier Airlines Inc.                 1522          6     0.003942\n",
       "Hawaiian Airlines Inc.                 1671          6     0.003591"
      ]
     },
     "execution_count": 54,
     "metadata": {},
     "output_type": "execute_result"
    }
   ],
   "source": [
    "airline = airline.sort_values(by = 'CANCELLED', ascending=[False])\n",
    "airline"
   ]
  },
  {
   "cell_type": "code",
   "execution_count": 55,
   "id": "b1d02144",
   "metadata": {},
   "outputs": [
    {
     "data": {
      "text/plain": [
       "Text(0.5, 1.0, 'FLIGHTS CANCELLED BY AIRLINE')"
      ]
     },
     "execution_count": 55,
     "metadata": {},
     "output_type": "execute_result"
    },
    {
     "data": {
      "image/png": "[encoded data removed]",
      "text/plain": [
       "<Figure size 640x480 with 1 Axes>"
      ]
     },
     "metadata": {},
     "output_type": "display_data"
    }
   ],
   "source": [
    "airline = airline.reset_index().sort_values('CANCELLED', ascending=False)\n",
    "plt.bar(airline['AIRLINE'], airline['CANCELLED'])\n",
    "plt.xlabel('AIRLINE')\n",
    "plt.ylabel('TOTAL FLIGHTS CANCELLED')\n",
    "plt.xticks(rotation=90)\n",
    "plt.title('FLIGHTS CANCELLED BY AIRLINE')"
   ]
  },
  {
   "cell_type": "markdown",
   "id": "18efa57c",
   "metadata": {},
   "source": [
    "As illustrated in the above file and bar plot, Southwest has the most flight cancellations, followed by Skywest Airlines, American Airlines and United Air Lines.  The rest of the airlines have significantly less flight cancellations.  "
   ]
  },
  {
   "cell_type": "markdown",
   "id": "b65f5885",
   "metadata": {},
   "source": [
    "#### 3.2.2 Destination Overview\n",
    "\n",
    "Next, let's take a look at the role destination plays in flight cancellation."
   ]
  },
  {
   "cell_type": "code",
   "execution_count": 56,
   "id": "82d92104",
   "metadata": {},
   "outputs": [
    {
     "data": {
      "text/plain": [
       "array(['PBI', 'MIA', 'CLT', 'MSP', 'IAH', 'DEN', 'DFW', 'ORD', 'SEA',\n",
       "       'ATL', 'EWR', 'SFO', 'STL', 'JFK', 'LAS', 'PHL', 'AUS', 'PHX',\n",
       "       'PDX', 'BOS', 'DTW', 'SLC', 'HNL', 'BNA', 'CLD', 'IAD', 'SMF',\n",
       "       'DAL', 'SAN', 'MCO', 'SAT', 'TUS', 'JAC', 'ASE', 'RDU', 'BZN',\n",
       "       'DCA', 'OGG', 'BOI', 'EGE', 'ELP', 'BWI', 'KOA', 'MCI', 'MRY',\n",
       "       'RNO', 'COS', 'LIH', 'ABQ', 'MDW', 'FAT', 'HOU', 'PSP', 'SJC',\n",
       "       'SBA', 'FLL', 'SAF', 'MKE', 'CMH', 'OAK', 'SBP', 'IND', 'PIT',\n",
       "       'EUG', 'TPA', 'CVG', 'MSY', 'SMX', 'HDN', 'ICT', 'CLE', 'ITO',\n",
       "       'RDM', 'MEM', 'OKC', 'GEG', 'ANC', 'MTJ', 'OMA', 'MSN', 'SNA'],\n",
       "      dtype=object)"
      ]
     },
     "execution_count": 56,
     "metadata": {},
     "output_type": "execute_result"
    }
   ],
   "source": [
    "df.DESTINATION_AIRPORT.unique()"
   ]
  },
  {
   "cell_type": "code",
   "execution_count": 57,
   "id": "05193c23",
   "metadata": {},
   "outputs": [
    {
     "data": {
      "text/plain": [
       "array(['FL', 'NC', 'MN', 'TX', 'CO', 'IL', 'WA', 'GA', 'NJ', 'CA', 'MO',\n",
       "       'NY', 'NV', 'PA', 'AZ', 'OR', 'MA', 'MI', 'UT', 'HI', 'TN', 'VA',\n",
       "       'WY', 'MT', 'ID', 'MD', 'NM', 'WI', 'OH', 'IN', 'KY', 'LA', 'KS',\n",
       "       'OK', 'AK', 'NE'], dtype=object)"
      ]
     },
     "execution_count": 57,
     "metadata": {},
     "output_type": "execute_result"
    }
   ],
   "source": [
    "df.DESTINATION_STATE.unique()"
   ]
  },
  {
   "cell_type": "markdown",
   "id": "25c1027c",
   "metadata": {},
   "source": [
    "There are so many different destination airports that it may take a lot of time to go through all of the airport data.  Since the total number of states are significantly less, let's take a look at the state statistics first.  The state level data might give us some hint whether the airport-level data is worth looking into or not."
   ]
  },
  {
   "cell_type": "code",
   "execution_count": 58,
   "id": "df28d6a7",
   "metadata": {},
   "outputs": [
    {
     "data": {
      "text/html": [
       "<div>\n",
       "<style scoped>\n",
       "    .dataframe tbody tr th:only-of-type {\n",
       "        vertical-align: middle;\n",
       "    }\n",
       "\n",
       "    .dataframe tbody tr th {\n",
       "        vertical-align: top;\n",
       "    }\n",
       "\n",
       "    .dataframe thead th {\n",
       "        text-align: right;\n",
       "    }\n",
       "</style>\n",
       "<table border=\"1\" class=\"dataframe\">\n",
       "  <thead>\n",
       "    <tr style=\"text-align: right;\">\n",
       "      <th></th>\n",
       "      <th>TOTAL_FLIGHTS</th>\n",
       "      <th>CANCELLED</th>\n",
       "      <th>%_CANCELLED</th>\n",
       "    </tr>\n",
       "    <tr>\n",
       "      <th>DESTINATION_STATE</th>\n",
       "      <th></th>\n",
       "      <th></th>\n",
       "      <th></th>\n",
       "    </tr>\n",
       "  </thead>\n",
       "  <tbody>\n",
       "    <tr>\n",
       "      <th>CA</th>\n",
       "      <td>47744</td>\n",
       "      <td>1028</td>\n",
       "      <td>0.021532</td>\n",
       "    </tr>\n",
       "    <tr>\n",
       "      <th>TX</th>\n",
       "      <td>21719</td>\n",
       "      <td>194</td>\n",
       "      <td>0.008932</td>\n",
       "    </tr>\n",
       "    <tr>\n",
       "      <th>NY</th>\n",
       "      <td>13052</td>\n",
       "      <td>143</td>\n",
       "      <td>0.010956</td>\n",
       "    </tr>\n",
       "    <tr>\n",
       "      <th>IL</th>\n",
       "      <td>11051</td>\n",
       "      <td>126</td>\n",
       "      <td>0.011402</td>\n",
       "    </tr>\n",
       "    <tr>\n",
       "      <th>AZ</th>\n",
       "      <td>10801</td>\n",
       "      <td>100</td>\n",
       "      <td>0.009258</td>\n",
       "    </tr>\n",
       "  </tbody>\n",
       "</table>\n",
       "</div>"
      ],
      "text/plain": [
       "                   TOTAL_FLIGHTS  CANCELLED  %_CANCELLED\n",
       "DESTINATION_STATE                                       \n",
       "CA                         47744       1028     0.021532\n",
       "TX                         21719        194     0.008932\n",
       "NY                         13052        143     0.010956\n",
       "IL                         11051        126     0.011402\n",
       "AZ                         10801        100     0.009258"
      ]
     },
     "execution_count": 58,
     "metadata": {},
     "output_type": "execute_result"
    }
   ],
   "source": [
    "destination_state = pd.DataFrame()\n",
    "destination_state['TOTAL_FLIGHTS'] = df[['DESTINATION_STATE', 'CANCELLED']].groupby('DESTINATION_STATE').count()\n",
    "destination_state['CANCELLED'] = df[['DESTINATION_STATE', 'CANCELLED']].groupby('DESTINATION_STATE').sum()\n",
    "destination_state['%_CANCELLED'] = destination_state['CANCELLED']/destination_state['TOTAL_FLIGHTS']\n",
    "destination_state = destination_state.sort_values(by = 'CANCELLED', ascending=[False])\n",
    "destination_state.head(5)"
   ]
  },
  {
   "cell_type": "markdown",
   "id": "81c2beb4",
   "metadata": {},
   "source": [
    "The above data reveals that CA is the top state in terms of both the total number and percentage of flights canceled. The 2nd place, Texas, only has less than 1/5 of the total cancellations California has.  Total flight cancellations for the rest of the states are even lower."
   ]
  },
  {
   "cell_type": "code",
   "execution_count": 59,
   "id": "7fff4f8e",
   "metadata": {
    "scrolled": false
   },
   "outputs": [
    {
     "data": {
      "text/plain": [
       "Text(0.5, 1.0, 'FLIGHTS CANCELLED BY DESTINATION STATE')"
      ]
     },
     "execution_count": 59,
     "metadata": {},
     "output_type": "execute_result"
    },
    {
     "data": {
      "image/png": "[encoded data removed]",
      "text/plain": [
       "<Figure size 640x480 with 1 Axes>"
      ]
     },
     "metadata": {},
     "output_type": "display_data"
    }
   ],
   "source": [
    "destination_state = destination_state.reset_index().sort_values(by = 'CANCELLED', ascending=False)\n",
    "plt.bar(destination_state['DESTINATION_STATE'], destination_state['CANCELLED'] )\n",
    "plt.xlabel('DESTINATION STATE')\n",
    "plt.ylabel('TOTAL FLIGHTS CANCELLED')\n",
    "plt.xticks(rotation=90)\n",
    "plt.title('FLIGHTS CANCELLED BY DESTINATION STATE')"
   ]
  },
  {
   "cell_type": "markdown",
   "id": "5534940d",
   "metadata": {},
   "source": [
    "Since CA has such a high cancellation number compared to all the other states, it will be interesting to find out where most of these cancellations occur in terms of destination airports.  Next, let's dig into it.  "
   ]
  },
  {
   "cell_type": "code",
   "execution_count": 60,
   "id": "e124e17d",
   "metadata": {},
   "outputs": [
    {
     "data": {
      "text/html": [
       "<div>\n",
       "<style scoped>\n",
       "    .dataframe tbody tr th:only-of-type {\n",
       "        vertical-align: middle;\n",
       "    }\n",
       "\n",
       "    .dataframe tbody tr th {\n",
       "        vertical-align: top;\n",
       "    }\n",
       "\n",
       "    .dataframe thead th {\n",
       "        text-align: right;\n",
       "    }\n",
       "</style>\n",
       "<table border=\"1\" class=\"dataframe\">\n",
       "  <thead>\n",
       "    <tr style=\"text-align: right;\">\n",
       "      <th></th>\n",
       "      <th>TOTAL_FLIGHTS</th>\n",
       "      <th>CANCELLED</th>\n",
       "      <th>%_CANCELLED</th>\n",
       "    </tr>\n",
       "    <tr>\n",
       "      <th>DESTINATION_AIRPORT</th>\n",
       "      <th></th>\n",
       "      <th></th>\n",
       "      <th></th>\n",
       "    </tr>\n",
       "  </thead>\n",
       "  <tbody>\n",
       "    <tr>\n",
       "      <th>SFO</th>\n",
       "      <td>14722</td>\n",
       "      <td>361</td>\n",
       "      <td>0.024521</td>\n",
       "    </tr>\n",
       "    <tr>\n",
       "      <th>OAK</th>\n",
       "      <td>6844</td>\n",
       "      <td>239</td>\n",
       "      <td>0.034921</td>\n",
       "    </tr>\n",
       "    <tr>\n",
       "      <th>SJC</th>\n",
       "      <td>6763</td>\n",
       "      <td>142</td>\n",
       "      <td>0.020997</td>\n",
       "    </tr>\n",
       "    <tr>\n",
       "      <th>SAN</th>\n",
       "      <td>4831</td>\n",
       "      <td>70</td>\n",
       "      <td>0.014490</td>\n",
       "    </tr>\n",
       "    <tr>\n",
       "      <th>SMF</th>\n",
       "      <td>6050</td>\n",
       "      <td>62</td>\n",
       "      <td>0.010248</td>\n",
       "    </tr>\n",
       "    <tr>\n",
       "      <th>MRY</th>\n",
       "      <td>1641</td>\n",
       "      <td>56</td>\n",
       "      <td>0.034126</td>\n",
       "    </tr>\n",
       "    <tr>\n",
       "      <th>SBP</th>\n",
       "      <td>1488</td>\n",
       "      <td>31</td>\n",
       "      <td>0.020833</td>\n",
       "    </tr>\n",
       "    <tr>\n",
       "      <th>SBA</th>\n",
       "      <td>1599</td>\n",
       "      <td>28</td>\n",
       "      <td>0.017511</td>\n",
       "    </tr>\n",
       "    <tr>\n",
       "      <th>FAT</th>\n",
       "      <td>2163</td>\n",
       "      <td>18</td>\n",
       "      <td>0.008322</td>\n",
       "    </tr>\n",
       "    <tr>\n",
       "      <th>CLD</th>\n",
       "      <td>640</td>\n",
       "      <td>13</td>\n",
       "      <td>0.020313</td>\n",
       "    </tr>\n",
       "    <tr>\n",
       "      <th>PSP</th>\n",
       "      <td>754</td>\n",
       "      <td>7</td>\n",
       "      <td>0.009284</td>\n",
       "    </tr>\n",
       "    <tr>\n",
       "      <th>SNA</th>\n",
       "      <td>1</td>\n",
       "      <td>1</td>\n",
       "      <td>1.000000</td>\n",
       "    </tr>\n",
       "    <tr>\n",
       "      <th>SMX</th>\n",
       "      <td>248</td>\n",
       "      <td>0</td>\n",
       "      <td>0.000000</td>\n",
       "    </tr>\n",
       "  </tbody>\n",
       "</table>\n",
       "</div>"
      ],
      "text/plain": [
       "                     TOTAL_FLIGHTS  CANCELLED  %_CANCELLED\n",
       "DESTINATION_AIRPORT                                       \n",
       "SFO                          14722        361     0.024521\n",
       "OAK                           6844        239     0.034921\n",
       "SJC                           6763        142     0.020997\n",
       "SAN                           4831         70     0.014490\n",
       "SMF                           6050         62     0.010248\n",
       "MRY                           1641         56     0.034126\n",
       "SBP                           1488         31     0.020833\n",
       "SBA                           1599         28     0.017511\n",
       "FAT                           2163         18     0.008322\n",
       "CLD                            640         13     0.020313\n",
       "PSP                            754          7     0.009284\n",
       "SNA                              1          1     1.000000\n",
       "SMX                            248          0     0.000000"
      ]
     },
     "execution_count": 60,
     "metadata": {},
     "output_type": "execute_result"
    }
   ],
   "source": [
    "ca = df[(df['DESTINATION_STATE']=='CA')]\n",
    "ca_airport = pd.DataFrame()\n",
    "ca_airport['TOTAL_FLIGHTS'] = ca[['DESTINATION_AIRPORT', 'CANCELLED']].groupby('DESTINATION_AIRPORT').count()\n",
    "ca_airport['CANCELLED'] = ca[['DESTINATION_AIRPORT', 'CANCELLED']].groupby('DESTINATION_AIRPORT').sum()\n",
    "ca_airport['%_CANCELLED'] = ca_airport['CANCELLED']/ca_airport['TOTAL_FLIGHTS']\n",
    "ca_airport.sort_values(by = 'CANCELLED', ascending=[False])"
   ]
  },
  {
   "cell_type": "code",
   "execution_count": 61,
   "id": "04bd9a72",
   "metadata": {},
   "outputs": [
    {
     "data": {
      "text/plain": [
       "Text(0.5, 1.0, 'FLIGHTS CANCELLED BY DESTINATION AIRPORT IN CA')"
      ]
     },
     "execution_count": 61,
     "metadata": {},
     "output_type": "execute_result"
    },
    {
     "data": {
      "image/png": "[encoded data removed]",
      "text/plain": [
       "<Figure size 640x480 with 1 Axes>"
      ]
     },
     "metadata": {},
     "output_type": "display_data"
    }
   ],
   "source": [
    "ca_airport = ca_airport.reset_index().sort_values(by = 'CANCELLED', ascending=[False])\n",
    "plt.bar(ca_airport['DESTINATION_AIRPORT'], ca_airport['CANCELLED'])\n",
    "plt.xlabel('DESTINATION AIRPORT')\n",
    "plt.ylabel('TOTAL FLIGHTS CANCELLED')\n",
    "plt.xticks(rotation=90)\n",
    "plt.title('FLIGHTS CANCELLED BY DESTINATION AIRPORT IN CA')"
   ]
  },
  {
   "cell_type": "markdown",
   "id": "f7f5e923",
   "metadata": {},
   "source": [
    "Most of the flight cancellations in CA occur with destination airports of SFO (San Francisco), OAK (Oakland) and SJC (San Jose).  Interestingly, all three airports are in Northern CA around the bay area.  The cancellation numbers for these three destination airports are so that they would have ranked number 2, 3 and 6 respectively if they were considered as states and ranked with all the states.  "
   ]
  },
  {
   "cell_type": "markdown",
   "id": "d79e008b",
   "metadata": {},
   "source": [
    "Although the destination airport and destination city columns are not the exact duplicates of each other, they may contain the same type of information.  Let's take a deep look into these two columns to see if we need to keep both or can do well with just one of them.  "
   ]
  },
  {
   "cell_type": "code",
   "execution_count": 62,
   "id": "30759582",
   "metadata": {},
   "outputs": [
    {
     "data": {
      "text/html": [
       "<div>\n",
       "<style scoped>\n",
       "    .dataframe tbody tr th:only-of-type {\n",
       "        vertical-align: middle;\n",
       "    }\n",
       "\n",
       "    .dataframe tbody tr th {\n",
       "        vertical-align: top;\n",
       "    }\n",
       "\n",
       "    .dataframe thead th {\n",
       "        text-align: right;\n",
       "    }\n",
       "</style>\n",
       "<table border=\"1\" class=\"dataframe\">\n",
       "  <thead>\n",
       "    <tr style=\"text-align: right;\">\n",
       "      <th></th>\n",
       "      <th>TOTAL_FLIGHTS</th>\n",
       "      <th>CANCELLED</th>\n",
       "      <th>%_CANCELLED</th>\n",
       "    </tr>\n",
       "    <tr>\n",
       "      <th>DESTINATION_AIRPORT</th>\n",
       "      <th></th>\n",
       "      <th></th>\n",
       "      <th></th>\n",
       "    </tr>\n",
       "  </thead>\n",
       "  <tbody>\n",
       "    <tr>\n",
       "      <th>SFO</th>\n",
       "      <td>14722</td>\n",
       "      <td>361</td>\n",
       "      <td>0.024521</td>\n",
       "    </tr>\n",
       "    <tr>\n",
       "      <th>OAK</th>\n",
       "      <td>6844</td>\n",
       "      <td>239</td>\n",
       "      <td>0.034921</td>\n",
       "    </tr>\n",
       "    <tr>\n",
       "      <th>JFK</th>\n",
       "      <td>13052</td>\n",
       "      <td>143</td>\n",
       "      <td>0.010956</td>\n",
       "    </tr>\n",
       "    <tr>\n",
       "      <th>SJC</th>\n",
       "      <td>6763</td>\n",
       "      <td>142</td>\n",
       "      <td>0.020997</td>\n",
       "    </tr>\n",
       "    <tr>\n",
       "      <th>ORD</th>\n",
       "      <td>9021</td>\n",
       "      <td>107</td>\n",
       "      <td>0.011861</td>\n",
       "    </tr>\n",
       "    <tr>\n",
       "      <th>DFW</th>\n",
       "      <td>7241</td>\n",
       "      <td>97</td>\n",
       "      <td>0.013396</td>\n",
       "    </tr>\n",
       "    <tr>\n",
       "      <th>PHX</th>\n",
       "      <td>7975</td>\n",
       "      <td>85</td>\n",
       "      <td>0.010658</td>\n",
       "    </tr>\n",
       "    <tr>\n",
       "      <th>EWR</th>\n",
       "      <td>5019</td>\n",
       "      <td>71</td>\n",
       "      <td>0.014146</td>\n",
       "    </tr>\n",
       "    <tr>\n",
       "      <th>LAS</th>\n",
       "      <td>10483</td>\n",
       "      <td>70</td>\n",
       "      <td>0.006677</td>\n",
       "    </tr>\n",
       "    <tr>\n",
       "      <th>SAN</th>\n",
       "      <td>4831</td>\n",
       "      <td>70</td>\n",
       "      <td>0.014490</td>\n",
       "    </tr>\n",
       "    <tr>\n",
       "      <th>SMF</th>\n",
       "      <td>6050</td>\n",
       "      <td>62</td>\n",
       "      <td>0.010248</td>\n",
       "    </tr>\n",
       "    <tr>\n",
       "      <th>MRY</th>\n",
       "      <td>1641</td>\n",
       "      <td>56</td>\n",
       "      <td>0.034126</td>\n",
       "    </tr>\n",
       "    <tr>\n",
       "      <th>BOS</th>\n",
       "      <td>4451</td>\n",
       "      <td>52</td>\n",
       "      <td>0.011683</td>\n",
       "    </tr>\n",
       "    <tr>\n",
       "      <th>IAH</th>\n",
       "      <td>4624</td>\n",
       "      <td>50</td>\n",
       "      <td>0.010813</td>\n",
       "    </tr>\n",
       "    <tr>\n",
       "      <th>DEN</th>\n",
       "      <td>6286</td>\n",
       "      <td>44</td>\n",
       "      <td>0.007000</td>\n",
       "    </tr>\n",
       "    <tr>\n",
       "      <th>SBP</th>\n",
       "      <td>1488</td>\n",
       "      <td>31</td>\n",
       "      <td>0.020833</td>\n",
       "    </tr>\n",
       "    <tr>\n",
       "      <th>HNL</th>\n",
       "      <td>5661</td>\n",
       "      <td>29</td>\n",
       "      <td>0.005123</td>\n",
       "    </tr>\n",
       "    <tr>\n",
       "      <th>SEA</th>\n",
       "      <td>8546</td>\n",
       "      <td>29</td>\n",
       "      <td>0.003393</td>\n",
       "    </tr>\n",
       "    <tr>\n",
       "      <th>SBA</th>\n",
       "      <td>1599</td>\n",
       "      <td>28</td>\n",
       "      <td>0.017511</td>\n",
       "    </tr>\n",
       "    <tr>\n",
       "      <th>ATL</th>\n",
       "      <td>6206</td>\n",
       "      <td>27</td>\n",
       "      <td>0.004351</td>\n",
       "    </tr>\n",
       "  </tbody>\n",
       "</table>\n",
       "</div>"
      ],
      "text/plain": [
       "                     TOTAL_FLIGHTS  CANCELLED  %_CANCELLED\n",
       "DESTINATION_AIRPORT                                       \n",
       "SFO                          14722        361     0.024521\n",
       "OAK                           6844        239     0.034921\n",
       "JFK                          13052        143     0.010956\n",
       "SJC                           6763        142     0.020997\n",
       "ORD                           9021        107     0.011861\n",
       "DFW                           7241         97     0.013396\n",
       "PHX                           7975         85     0.010658\n",
       "EWR                           5019         71     0.014146\n",
       "LAS                          10483         70     0.006677\n",
       "SAN                           4831         70     0.014490\n",
       "SMF                           6050         62     0.010248\n",
       "MRY                           1641         56     0.034126\n",
       "BOS                           4451         52     0.011683\n",
       "IAH                           4624         50     0.010813\n",
       "DEN                           6286         44     0.007000\n",
       "SBP                           1488         31     0.020833\n",
       "HNL                           5661         29     0.005123\n",
       "SEA                           8546         29     0.003393\n",
       "SBA                           1599         28     0.017511\n",
       "ATL                           6206         27     0.004351"
      ]
     },
     "execution_count": 62,
     "metadata": {},
     "output_type": "execute_result"
    }
   ],
   "source": [
    "destination_airport = pd.DataFrame()\n",
    "destination_airport['TOTAL_FLIGHTS'] = df[['DESTINATION_AIRPORT', 'CANCELLED']].groupby('DESTINATION_AIRPORT').count()\n",
    "destination_airport['CANCELLED'] = df[['DESTINATION_AIRPORT', 'CANCELLED']].groupby('DESTINATION_AIRPORT').sum()\n",
    "destination_airport['%_CANCELLED'] = destination_airport['CANCELLED']/destination_airport['TOTAL_FLIGHTS']\n",
    "destination_airport.sort_values(by = 'CANCELLED', ascending=[False]).head(20)"
   ]
  },
  {
   "cell_type": "code",
   "execution_count": 63,
   "id": "147ed21f",
   "metadata": {},
   "outputs": [
    {
     "data": {
      "text/html": [
       "<div>\n",
       "<style scoped>\n",
       "    .dataframe tbody tr th:only-of-type {\n",
       "        vertical-align: middle;\n",
       "    }\n",
       "\n",
       "    .dataframe tbody tr th {\n",
       "        vertical-align: top;\n",
       "    }\n",
       "\n",
       "    .dataframe thead th {\n",
       "        text-align: right;\n",
       "    }\n",
       "</style>\n",
       "<table border=\"1\" class=\"dataframe\">\n",
       "  <thead>\n",
       "    <tr style=\"text-align: right;\">\n",
       "      <th></th>\n",
       "      <th>TOTAL_FLIGHTS</th>\n",
       "      <th>CANCELLED</th>\n",
       "      <th>%_CANCELLED</th>\n",
       "    </tr>\n",
       "    <tr>\n",
       "      <th>DESTINATION_CITY</th>\n",
       "      <th></th>\n",
       "      <th></th>\n",
       "      <th></th>\n",
       "    </tr>\n",
       "  </thead>\n",
       "  <tbody>\n",
       "    <tr>\n",
       "      <th>San Francisco</th>\n",
       "      <td>14722</td>\n",
       "      <td>361</td>\n",
       "      <td>0.024521</td>\n",
       "    </tr>\n",
       "    <tr>\n",
       "      <th>Oakland</th>\n",
       "      <td>6844</td>\n",
       "      <td>239</td>\n",
       "      <td>0.034921</td>\n",
       "    </tr>\n",
       "    <tr>\n",
       "      <th>New York</th>\n",
       "      <td>13052</td>\n",
       "      <td>143</td>\n",
       "      <td>0.010956</td>\n",
       "    </tr>\n",
       "    <tr>\n",
       "      <th>San Jose</th>\n",
       "      <td>6763</td>\n",
       "      <td>142</td>\n",
       "      <td>0.020997</td>\n",
       "    </tr>\n",
       "    <tr>\n",
       "      <th>Chicago</th>\n",
       "      <td>11051</td>\n",
       "      <td>126</td>\n",
       "      <td>0.011402</td>\n",
       "    </tr>\n",
       "    <tr>\n",
       "      <th>Dallas-Fort Worth</th>\n",
       "      <td>7241</td>\n",
       "      <td>97</td>\n",
       "      <td>0.013396</td>\n",
       "    </tr>\n",
       "    <tr>\n",
       "      <th>Phoenix</th>\n",
       "      <td>7975</td>\n",
       "      <td>85</td>\n",
       "      <td>0.010658</td>\n",
       "    </tr>\n",
       "    <tr>\n",
       "      <th>San Diego</th>\n",
       "      <td>5471</td>\n",
       "      <td>83</td>\n",
       "      <td>0.015171</td>\n",
       "    </tr>\n",
       "    <tr>\n",
       "      <th>Newark</th>\n",
       "      <td>5019</td>\n",
       "      <td>71</td>\n",
       "      <td>0.014146</td>\n",
       "    </tr>\n",
       "    <tr>\n",
       "      <th>Las Vegas</th>\n",
       "      <td>10483</td>\n",
       "      <td>70</td>\n",
       "      <td>0.006677</td>\n",
       "    </tr>\n",
       "    <tr>\n",
       "      <th>Sacramento</th>\n",
       "      <td>6050</td>\n",
       "      <td>62</td>\n",
       "      <td>0.010248</td>\n",
       "    </tr>\n",
       "    <tr>\n",
       "      <th>Monterey</th>\n",
       "      <td>1641</td>\n",
       "      <td>56</td>\n",
       "      <td>0.034126</td>\n",
       "    </tr>\n",
       "    <tr>\n",
       "      <th>Houston</th>\n",
       "      <td>6283</td>\n",
       "      <td>54</td>\n",
       "      <td>0.008595</td>\n",
       "    </tr>\n",
       "    <tr>\n",
       "      <th>Boston</th>\n",
       "      <td>4451</td>\n",
       "      <td>52</td>\n",
       "      <td>0.011683</td>\n",
       "    </tr>\n",
       "    <tr>\n",
       "      <th>Denver</th>\n",
       "      <td>6286</td>\n",
       "      <td>44</td>\n",
       "      <td>0.007000</td>\n",
       "    </tr>\n",
       "    <tr>\n",
       "      <th>San Luis Obispo</th>\n",
       "      <td>1488</td>\n",
       "      <td>31</td>\n",
       "      <td>0.020833</td>\n",
       "    </tr>\n",
       "    <tr>\n",
       "      <th>Seattle</th>\n",
       "      <td>8546</td>\n",
       "      <td>29</td>\n",
       "      <td>0.003393</td>\n",
       "    </tr>\n",
       "    <tr>\n",
       "      <th>Honolulu</th>\n",
       "      <td>5661</td>\n",
       "      <td>29</td>\n",
       "      <td>0.005123</td>\n",
       "    </tr>\n",
       "    <tr>\n",
       "      <th>Santa Barbara</th>\n",
       "      <td>1599</td>\n",
       "      <td>28</td>\n",
       "      <td>0.017511</td>\n",
       "    </tr>\n",
       "    <tr>\n",
       "      <th>Atlanta</th>\n",
       "      <td>6206</td>\n",
       "      <td>27</td>\n",
       "      <td>0.004351</td>\n",
       "    </tr>\n",
       "  </tbody>\n",
       "</table>\n",
       "</div>"
      ],
      "text/plain": [
       "                   TOTAL_FLIGHTS  CANCELLED  %_CANCELLED\n",
       "DESTINATION_CITY                                        \n",
       "San Francisco              14722        361     0.024521\n",
       "Oakland                     6844        239     0.034921\n",
       "New York                   13052        143     0.010956\n",
       "San Jose                    6763        142     0.020997\n",
       "Chicago                    11051        126     0.011402\n",
       "Dallas-Fort Worth           7241         97     0.013396\n",
       "Phoenix                     7975         85     0.010658\n",
       "San Diego                   5471         83     0.015171\n",
       "Newark                      5019         71     0.014146\n",
       "Las Vegas                  10483         70     0.006677\n",
       "Sacramento                  6050         62     0.010248\n",
       "Monterey                    1641         56     0.034126\n",
       "Houston                     6283         54     0.008595\n",
       "Boston                      4451         52     0.011683\n",
       "Denver                      6286         44     0.007000\n",
       "San Luis Obispo             1488         31     0.020833\n",
       "Seattle                     8546         29     0.003393\n",
       "Honolulu                    5661         29     0.005123\n",
       "Santa Barbara               1599         28     0.017511\n",
       "Atlanta                     6206         27     0.004351"
      ]
     },
     "execution_count": 63,
     "metadata": {},
     "output_type": "execute_result"
    }
   ],
   "source": [
    "city = pd.DataFrame()\n",
    "city['TOTAL_FLIGHTS'] = df[['DESTINATION_CITY', 'CANCELLED']].groupby('DESTINATION_CITY').count()\n",
    "city['CANCELLED'] = df[['DESTINATION_CITY', 'CANCELLED']].groupby('DESTINATION_CITY').sum()\n",
    "city['%_CANCELLED'] = city['CANCELLED']/city['TOTAL_FLIGHTS']\n",
    "city.sort_values(by = 'CANCELLED', ascending=[False]).head(20)"
   ]
  },
  {
   "cell_type": "markdown",
   "id": "43ec8139",
   "metadata": {},
   "source": [
    "As we can see from the above two lists, most of the destination airport and destination city information match, except in a few cases like San Diego and Houston.  These exceptional cities have multiple airports that are all operational and fly flights.  This has caused the number for those cities to be slightly different from the number for the airports in those cities.  However, that doesn't constitute a significant difference, and the benefit of getting rid of the destination city column is far more than keeping both columns.  Therefore, this is what we'll do, and we'll work on the destination airport column for the rest of this project. "
   ]
  },
  {
   "cell_type": "code",
   "execution_count": 64,
   "id": "4f470390",
   "metadata": {},
   "outputs": [],
   "source": [
    "df = df = df.drop('DESTINATION_CITY', axis=1)"
   ]
  },
  {
   "cell_type": "markdown",
   "id": "e715970b",
   "metadata": {},
   "source": [
    "#### 3.2.3 Month & Day Overview\n",
    "\n",
    "Here, we want to explore if the month, the day and the day of the week each has an impact on flight cancellation."
   ]
  },
  {
   "cell_type": "code",
   "execution_count": 65,
   "id": "928ba774",
   "metadata": {},
   "outputs": [
    {
     "data": {
      "text/html": [
       "<div>\n",
       "<style scoped>\n",
       "    .dataframe tbody tr th:only-of-type {\n",
       "        vertical-align: middle;\n",
       "    }\n",
       "\n",
       "    .dataframe tbody tr th {\n",
       "        vertical-align: top;\n",
       "    }\n",
       "\n",
       "    .dataframe thead th {\n",
       "        text-align: right;\n",
       "    }\n",
       "</style>\n",
       "<table border=\"1\" class=\"dataframe\">\n",
       "  <thead>\n",
       "    <tr style=\"text-align: right;\">\n",
       "      <th></th>\n",
       "      <th>TOTAL_FLIGHTS</th>\n",
       "      <th>CANCELLED</th>\n",
       "      <th>%_CANCELLED</th>\n",
       "    </tr>\n",
       "    <tr>\n",
       "      <th>MONTH</th>\n",
       "      <th></th>\n",
       "      <th></th>\n",
       "      <th></th>\n",
       "    </tr>\n",
       "  </thead>\n",
       "  <tbody>\n",
       "    <tr>\n",
       "      <th>1</th>\n",
       "      <td>17340</td>\n",
       "      <td>251</td>\n",
       "      <td>0.014475</td>\n",
       "    </tr>\n",
       "    <tr>\n",
       "      <th>2</th>\n",
       "      <td>15762</td>\n",
       "      <td>327</td>\n",
       "      <td>0.020746</td>\n",
       "    </tr>\n",
       "    <tr>\n",
       "      <th>3</th>\n",
       "      <td>18014</td>\n",
       "      <td>183</td>\n",
       "      <td>0.010159</td>\n",
       "    </tr>\n",
       "    <tr>\n",
       "      <th>4</th>\n",
       "      <td>17408</td>\n",
       "      <td>103</td>\n",
       "      <td>0.005917</td>\n",
       "    </tr>\n",
       "    <tr>\n",
       "      <th>5</th>\n",
       "      <td>17977</td>\n",
       "      <td>97</td>\n",
       "      <td>0.005396</td>\n",
       "    </tr>\n",
       "    <tr>\n",
       "      <th>6</th>\n",
       "      <td>18533</td>\n",
       "      <td>280</td>\n",
       "      <td>0.015108</td>\n",
       "    </tr>\n",
       "    <tr>\n",
       "      <th>7</th>\n",
       "      <td>19371</td>\n",
       "      <td>283</td>\n",
       "      <td>0.014609</td>\n",
       "    </tr>\n",
       "    <tr>\n",
       "      <th>8</th>\n",
       "      <td>19265</td>\n",
       "      <td>244</td>\n",
       "      <td>0.012665</td>\n",
       "    </tr>\n",
       "    <tr>\n",
       "      <th>9</th>\n",
       "      <td>17499</td>\n",
       "      <td>104</td>\n",
       "      <td>0.005943</td>\n",
       "    </tr>\n",
       "    <tr>\n",
       "      <th>10</th>\n",
       "      <td>16715</td>\n",
       "      <td>66</td>\n",
       "      <td>0.003949</td>\n",
       "    </tr>\n",
       "    <tr>\n",
       "      <th>11</th>\n",
       "      <td>16459</td>\n",
       "      <td>96</td>\n",
       "      <td>0.005833</td>\n",
       "    </tr>\n",
       "    <tr>\n",
       "      <th>12</th>\n",
       "      <td>17045</td>\n",
       "      <td>196</td>\n",
       "      <td>0.011499</td>\n",
       "    </tr>\n",
       "  </tbody>\n",
       "</table>\n",
       "</div>"
      ],
      "text/plain": [
       "       TOTAL_FLIGHTS  CANCELLED  %_CANCELLED\n",
       "MONTH                                       \n",
       "1              17340        251     0.014475\n",
       "2              15762        327     0.020746\n",
       "3              18014        183     0.010159\n",
       "4              17408        103     0.005917\n",
       "5              17977         97     0.005396\n",
       "6              18533        280     0.015108\n",
       "7              19371        283     0.014609\n",
       "8              19265        244     0.012665\n",
       "9              17499        104     0.005943\n",
       "10             16715         66     0.003949\n",
       "11             16459         96     0.005833\n",
       "12             17045        196     0.011499"
      ]
     },
     "execution_count": 65,
     "metadata": {},
     "output_type": "execute_result"
    }
   ],
   "source": [
    "month = pd.DataFrame()\n",
    "month['TOTAL_FLIGHTS'] = df[['MONTH', 'CANCELLED']].groupby('MONTH').count()\n",
    "month['CANCELLED'] = df[['MONTH', 'CANCELLED']].groupby('MONTH').sum()\n",
    "month['%_CANCELLED'] = month['CANCELLED']/month['TOTAL_FLIGHTS']\n",
    "month"
   ]
  },
  {
   "cell_type": "code",
   "execution_count": 66,
   "id": "461bb63b",
   "metadata": {},
   "outputs": [],
   "source": [
    "cancel = df[df['CANCELLED']==1]"
   ]
  },
  {
   "cell_type": "code",
   "execution_count": 67,
   "id": "a5d842fd",
   "metadata": {},
   "outputs": [
    {
     "data": {
      "text/plain": [
       "Text(0.5, 1.0, 'FLIGHTS CANCELLED BY MONTH')"
      ]
     },
     "execution_count": 67,
     "metadata": {},
     "output_type": "execute_result"
    },
    {
     "data": {
      "image/png": "[encoded data removed]",
      "text/plain": [
       "<Figure size 640x480 with 1 Axes>"
      ]
     },
     "metadata": {},
     "output_type": "display_data"
    }
   ],
   "source": [
    "sns.countplot(x='MONTH', data=cancel)\n",
    "plt.title('FLIGHTS CANCELLED BY MONTH')"
   ]
  },
  {
   "cell_type": "markdown",
   "id": "10997f34",
   "metadata": {},
   "source": [
    "Based upon the above data and chart, February seems to have the highest number of flight cancellations, 327 or 2%. Interestingly, February's total number of flights isn't the highest.  July and June are the 2nd and 3rd place, with 283 and 280 cancellations respectively.  January and August numbers are also pretty high, at 251 and 244 respectively.  Overall, summer time and beginning of the year seem to be the two periods with the highest cancellation numbers.  "
   ]
  },
  {
   "cell_type": "code",
   "execution_count": 68,
   "id": "c0a43426",
   "metadata": {},
   "outputs": [
    {
     "data": {
      "text/plain": [
       "Text(0.5, 1.0, 'FLIGHTS CANCELLED BY DAY')"
      ]
     },
     "execution_count": 68,
     "metadata": {},
     "output_type": "execute_result"
    },
    {
     "data": {
      "image/png": "[encoded data removed]",
      "text/plain": [
       "<Figure size 640x480 with 1 Axes>"
      ]
     },
     "metadata": {},
     "output_type": "display_data"
    }
   ],
   "source": [
    "sns.countplot(x='DAY', data=cancel)\n",
    "plt.title('FLIGHTS CANCELLED BY DAY')"
   ]
  },
  {
   "cell_type": "markdown",
   "id": "ec1351bf",
   "metadata": {},
   "source": [
    "Certain days during the month do have high cancellations, such as at the beginning and end of a month, as well as around the middle of the month.  However, there doesn't seem to be a clear pattern or obvious reason showing why more cancellations occur on certain days than the others.\n",
    "\n",
    "Next, let's look at the day of the week."
   ]
  },
  {
   "cell_type": "code",
   "execution_count": 69,
   "id": "344c117c",
   "metadata": {},
   "outputs": [
    {
     "data": {
      "text/html": [
       "<div>\n",
       "<style scoped>\n",
       "    .dataframe tbody tr th:only-of-type {\n",
       "        vertical-align: middle;\n",
       "    }\n",
       "\n",
       "    .dataframe tbody tr th {\n",
       "        vertical-align: top;\n",
       "    }\n",
       "\n",
       "    .dataframe thead th {\n",
       "        text-align: right;\n",
       "    }\n",
       "</style>\n",
       "<table border=\"1\" class=\"dataframe\">\n",
       "  <thead>\n",
       "    <tr style=\"text-align: right;\">\n",
       "      <th></th>\n",
       "      <th>TOTAL_FLIGHTS</th>\n",
       "      <th>CANCELLED</th>\n",
       "      <th>%_CANCELLED</th>\n",
       "    </tr>\n",
       "    <tr>\n",
       "      <th>DAY_OF_WEEK</th>\n",
       "      <th></th>\n",
       "      <th></th>\n",
       "      <th></th>\n",
       "    </tr>\n",
       "  </thead>\n",
       "  <tbody>\n",
       "    <tr>\n",
       "      <th>1</th>\n",
       "      <td>31412</td>\n",
       "      <td>437</td>\n",
       "      <td>0.013912</td>\n",
       "    </tr>\n",
       "    <tr>\n",
       "      <th>2</th>\n",
       "      <td>30562</td>\n",
       "      <td>422</td>\n",
       "      <td>0.013808</td>\n",
       "    </tr>\n",
       "    <tr>\n",
       "      <th>3</th>\n",
       "      <td>30859</td>\n",
       "      <td>325</td>\n",
       "      <td>0.010532</td>\n",
       "    </tr>\n",
       "    <tr>\n",
       "      <th>4</th>\n",
       "      <td>31600</td>\n",
       "      <td>309</td>\n",
       "      <td>0.009778</td>\n",
       "    </tr>\n",
       "    <tr>\n",
       "      <th>5</th>\n",
       "      <td>30931</td>\n",
       "      <td>252</td>\n",
       "      <td>0.008147</td>\n",
       "    </tr>\n",
       "    <tr>\n",
       "      <th>6</th>\n",
       "      <td>25987</td>\n",
       "      <td>199</td>\n",
       "      <td>0.007658</td>\n",
       "    </tr>\n",
       "    <tr>\n",
       "      <th>7</th>\n",
       "      <td>30037</td>\n",
       "      <td>286</td>\n",
       "      <td>0.009522</td>\n",
       "    </tr>\n",
       "  </tbody>\n",
       "</table>\n",
       "</div>"
      ],
      "text/plain": [
       "             TOTAL_FLIGHTS  CANCELLED  %_CANCELLED\n",
       "DAY_OF_WEEK                                       \n",
       "1                    31412        437     0.013912\n",
       "2                    30562        422     0.013808\n",
       "3                    30859        325     0.010532\n",
       "4                    31600        309     0.009778\n",
       "5                    30931        252     0.008147\n",
       "6                    25987        199     0.007658\n",
       "7                    30037        286     0.009522"
      ]
     },
     "execution_count": 69,
     "metadata": {},
     "output_type": "execute_result"
    }
   ],
   "source": [
    "day_of_week = pd.DataFrame()\n",
    "day_of_week['TOTAL_FLIGHTS'] = df[['DAY_OF_WEEK', 'CANCELLED']].groupby('DAY_OF_WEEK').count()\n",
    "day_of_week['CANCELLED'] = df[['DAY_OF_WEEK', 'CANCELLED']].groupby('DAY_OF_WEEK').sum()\n",
    "day_of_week['%_CANCELLED'] = day_of_week['CANCELLED']/day_of_week['TOTAL_FLIGHTS']\n",
    "day_of_week"
   ]
  },
  {
   "cell_type": "code",
   "execution_count": 70,
   "id": "84ab8cf1",
   "metadata": {},
   "outputs": [
    {
     "data": {
      "text/plain": [
       "Text(0.5, 1.0, 'FLIGHTS CANCELLED BY DAY OF WEEK')"
      ]
     },
     "execution_count": 70,
     "metadata": {},
     "output_type": "execute_result"
    },
    {
     "data": {
      "image/png": "[encoded data removed]",
      "text/plain": [
       "<Figure size 640x480 with 1 Axes>"
      ]
     },
     "metadata": {},
     "output_type": "display_data"
    }
   ],
   "source": [
    "sns.countplot(x='DAY_OF_WEEK', data=cancel)\n",
    "plt.title('FLIGHTS CANCELLED BY DAY OF WEEK')"
   ]
  },
  {
   "cell_type": "markdown",
   "id": "80b6eb87",
   "metadata": {},
   "source": [
    "Monday and Tuesday seem to have the highest number of cancellations.  As the week goes by, the cancellation starts to fall gradually, and rebound on Sunday.  This is an interesting observation, although we do not see any logic driving force behind this pattern."
   ]
  },
  {
   "cell_type": "markdown",
   "id": "65165fe0",
   "metadata": {},
   "source": [
    "#### 3.2.4 Flight Number, Departure Time, Scheduled Time, Distance, Arrival Time, etc.\n",
    "\n",
    "There are other elements such as flight numbers, departure time, scheduled (air) time, distances and arrival time that we haven't studied yet.  Since these are all numbers and mostly continuous variables, we'll use heatmap to evaluate the coorelationship these features have with flight cancellation."
   ]
  },
  {
   "cell_type": "code",
   "execution_count": 71,
   "id": "b4dd6be4",
   "metadata": {},
   "outputs": [
    {
     "name": "stderr",
     "output_type": "stream",
     "text": [
      "C:\\Users\\wfgyi\\AppData\\Local\\Temp\\ipykernel_26156\\1616052611.py:1: FutureWarning: The default value of numeric_only in DataFrame.corr is deprecated. In a future version, it will default to False. Select only valid columns or specify the value of numeric_only to silence this warning.\n",
      "  sns.heatmap(df.corr(), annot=True, annot_kws={'size': 8})\n"
     ]
    },
    {
     "data": {
      "text/plain": [
       "<Axes: >"
      ]
     },
     "execution_count": 71,
     "metadata": {},
     "output_type": "execute_result"
    },
    {
     "data": {
      "image/png": "[encoded data removed]",
      "text/plain": [
       "<Figure size 640x480 with 2 Axes>"
      ]
     },
     "metadata": {},
     "output_type": "display_data"
    }
   ],
   "source": [
    "sns.heatmap(df.corr(), annot=True, annot_kws={'size': 8})"
   ]
  },
  {
   "cell_type": "markdown",
   "id": "24058fa4",
   "metadata": {},
   "source": [
    "Since the data contains several categorical columns and the heatmap only shows the numeric columns, we'll do a PPS matrix here to see if it gives us any additional insight."
   ]
  },
  {
   "cell_type": "markdown",
   "id": "3ce3cf19",
   "metadata": {},
   "source": [
    "As illustrated by the heatmap, the scheduled time and distance are highly correlated with the flight number.  Also, it's not surprising that scheduled arrival is correlated with scheduled departure.  \n",
    "\n",
    "For flight cancellation, the month, the day of the week, the flight number, the scheduled time and the distance all have strong correlations of either +1% or -1%.  Scheduled departure and scheduled arrival appear to have the least correlations with cancellation, at a rate of 0.23% and 0.03% respectively.  The day of the month also doesn't seem to be correlated with cancellation at 0.3%.\n",
    "\n",
    "In summary, numerous variables of MONTH, DAY_OF_WEEK, FLIGHT_NUMBER, SCHEDULED_TIME, DISTANCE, along with categorical variables of DESTINATION_AIRPORT, DESTINATION_STATE and AIRLINE all have relatively strong correlations with flight cancellation and will be our targeted features in the modeling phase of the project.\n"
   ]
  },
  {
   "cell_type": "code",
   "execution_count": 74,
   "id": "02da9ac0",
   "metadata": {},
   "outputs": [],
   "source": [
    "# Save the data for next phase of the project.\n",
    "df.to_csv(\"flight_lax_eda.csv\")\n",
    "airline.to_csv(\"airline.csv\")\n",
    "destination_state.to_csv(\"destination_state.csv\")\n",
    "destination_airport.to_csv(\"destination_airport.csv\")"
   ]
  },
  {
   "cell_type": "code",
   "execution_count": null,
   "id": "1b657917",
   "metadata": {},
   "outputs": [],
   "source": []
  }
 ],
 "metadata": {
  "kernelspec": {
   "display_name": "Python 3 (ipykernel)",
   "language": "python",
   "name": "python3"
  },
  "language_info": {
   "codemirror_mode": {
    "name": "ipython",
    "version": 3
   },
   "file_extension": ".py",
   "mimetype": "text/x-python",
   "name": "python",
   "nbconvert_exporter": "python",
   "pygments_lexer": "ipython3",
   "version": "3.10.9"
  }
 },
 "nbformat": 4,
 "nbformat_minor": 5
}
