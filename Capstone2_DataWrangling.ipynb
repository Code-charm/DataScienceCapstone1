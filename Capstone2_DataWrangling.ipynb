{
 "cells": [
  {
   "cell_type": "markdown",
   "id": "a033ee5e",
   "metadata": {},
   "source": [
    "## Springboard Data Science Capstone Two \n",
    "## 2. Data Wrangling\n",
    "\n",
    "In this part of the capstone, we'll import, review, clean and prepare the data for the explanatory data analysis in the next phase. Due to the large sizes of the data, they'll not be pushed to the github. They can be accessed at https://www.kaggle.com/datasets/usdot/flight-delays?select=flights.csv.\n",
    "\n",
    "\n",
    "### 2.1 Import & Review the Data\n",
    "\n",
    "First, let's import the data and take a close look at them.\n"
   ]
  },
  {
   "cell_type": "code",
   "execution_count": 1,
   "id": "96088a8e",
   "metadata": {},
   "outputs": [],
   "source": [
    "# Import pandasa, os, and matplotlib.pyplot modules.\n",
    "\n",
    "import pandas as pd\n",
    "import numpy as np\n",
    "import seaborn as sns\n",
    "import matplotlib.pyplot as plt"
   ]
  },
  {
   "cell_type": "code",
   "execution_count": 2,
   "id": "d23c4ef6",
   "metadata": {},
   "outputs": [
    {
     "name": "stderr",
     "output_type": "stream",
     "text": [
      "C:\\Users\\wfgyi\\AppData\\Local\\Temp\\ipykernel_18392\\3906611510.py:3: DtypeWarning: Columns (7,8) have mixed types. Specify dtype option on import or set low_memory=False.\n",
      "  df_flight = pd.read_csv('flights.csv')\n"
     ]
    }
   ],
   "source": [
    "# Import data.\n",
    "\n",
    "df_flight = pd.read_csv('flights.csv')\n",
    "df_airport = pd.read_csv('airports.csv')\n",
    "df_airline = pd.read_csv('airlines.csv')"
   ]
  },
  {
   "cell_type": "code",
   "execution_count": 3,
   "id": "1e2bca95",
   "metadata": {},
   "outputs": [
    {
     "name": "stdout",
     "output_type": "stream",
     "text": [
      "<class 'pandas.core.frame.DataFrame'>\n",
      "RangeIndex: 5819079 entries, 0 to 5819078\n",
      "Data columns (total 31 columns):\n",
      " #   Column               Dtype  \n",
      "---  ------               -----  \n",
      " 0   YEAR                 int64  \n",
      " 1   MONTH                int64  \n",
      " 2   DAY                  int64  \n",
      " 3   DAY_OF_WEEK          int64  \n",
      " 4   AIRLINE              object \n",
      " 5   FLIGHT_NUMBER        int64  \n",
      " 6   TAIL_NUMBER          object \n",
      " 7   ORIGIN_AIRPORT       object \n",
      " 8   DESTINATION_AIRPORT  object \n",
      " 9   SCHEDULED_DEPARTURE  int64  \n",
      " 10  DEPARTURE_TIME       float64\n",
      " 11  DEPARTURE_DELAY      float64\n",
      " 12  TAXI_OUT             float64\n",
      " 13  WHEELS_OFF           float64\n",
      " 14  SCHEDULED_TIME       float64\n",
      " 15  ELAPSED_TIME         float64\n",
      " 16  AIR_TIME             float64\n",
      " 17  DISTANCE             int64  \n",
      " 18  WHEELS_ON            float64\n",
      " 19  TAXI_IN              float64\n",
      " 20  SCHEDULED_ARRIVAL    int64  \n",
      " 21  ARRIVAL_TIME         float64\n",
      " 22  ARRIVAL_DELAY        float64\n",
      " 23  DIVERTED             int64  \n",
      " 24  CANCELLED            int64  \n",
      " 25  CANCELLATION_REASON  object \n",
      " 26  AIR_SYSTEM_DELAY     float64\n",
      " 27  SECURITY_DELAY       float64\n",
      " 28  AIRLINE_DELAY        float64\n",
      " 29  LATE_AIRCRAFT_DELAY  float64\n",
      " 30  WEATHER_DELAY        float64\n",
      "dtypes: float64(16), int64(10), object(5)\n",
      "memory usage: 1.3+ GB\n",
      "<class 'pandas.core.frame.DataFrame'>\n",
      "RangeIndex: 322 entries, 0 to 321\n",
      "Data columns (total 7 columns):\n",
      " #   Column     Non-Null Count  Dtype  \n",
      "---  ------     --------------  -----  \n",
      " 0   IATA_CODE  322 non-null    object \n",
      " 1   AIRPORT    322 non-null    object \n",
      " 2   CITY       322 non-null    object \n",
      " 3   STATE      322 non-null    object \n",
      " 4   COUNTRY    322 non-null    object \n",
      " 5   LATITUDE   319 non-null    float64\n",
      " 6   LONGITUDE  319 non-null    float64\n",
      "dtypes: float64(2), object(5)\n",
      "memory usage: 17.7+ KB\n",
      "<class 'pandas.core.frame.DataFrame'>\n",
      "RangeIndex: 14 entries, 0 to 13\n",
      "Data columns (total 2 columns):\n",
      " #   Column     Non-Null Count  Dtype \n",
      "---  ------     --------------  ----- \n",
      " 0   IATA_CODE  14 non-null     object\n",
      " 1   AIRLINE    14 non-null     object\n",
      "dtypes: object(2)\n",
      "memory usage: 352.0+ bytes\n"
     ]
    }
   ],
   "source": [
    "df_flight.info()\n",
    "df_airport.info()\n",
    "df_airline.info()"
   ]
  },
  {
   "cell_type": "markdown",
   "id": "1c13d206",
   "metadata": {},
   "source": [
    "### 2.2 Explore, Clean & Prepare the Data\n",
    "\n",
    "Now, let's take a look at the entries with null value."
   ]
  },
  {
   "cell_type": "code",
   "execution_count": 4,
   "id": "7d6aec94",
   "metadata": {},
   "outputs": [
    {
     "data": {
      "text/plain": [
       "YEAR                         0\n",
       "MONTH                        0\n",
       "DAY                          0\n",
       "DAY_OF_WEEK                  0\n",
       "AIRLINE                      0\n",
       "FLIGHT_NUMBER                0\n",
       "TAIL_NUMBER              14721\n",
       "ORIGIN_AIRPORT               0\n",
       "DESTINATION_AIRPORT          0\n",
       "SCHEDULED_DEPARTURE          0\n",
       "DEPARTURE_TIME           86153\n",
       "DEPARTURE_DELAY          86153\n",
       "TAXI_OUT                 89047\n",
       "WHEELS_OFF               89047\n",
       "SCHEDULED_TIME               6\n",
       "ELAPSED_TIME            105071\n",
       "AIR_TIME                105071\n",
       "DISTANCE                     0\n",
       "WHEELS_ON                92513\n",
       "TAXI_IN                  92513\n",
       "SCHEDULED_ARRIVAL            0\n",
       "ARRIVAL_TIME             92513\n",
       "ARRIVAL_DELAY           105071\n",
       "DIVERTED                     0\n",
       "CANCELLED                    0\n",
       "CANCELLATION_REASON    5729195\n",
       "AIR_SYSTEM_DELAY       4755640\n",
       "SECURITY_DELAY         4755640\n",
       "AIRLINE_DELAY          4755640\n",
       "LATE_AIRCRAFT_DELAY    4755640\n",
       "WEATHER_DELAY          4755640\n",
       "dtype: int64"
      ]
     },
     "execution_count": 4,
     "metadata": {},
     "output_type": "execute_result"
    }
   ],
   "source": [
    "df_flight.isnull().sum()"
   ]
  },
  {
   "cell_type": "markdown",
   "id": "060d6ae0",
   "metadata": {},
   "source": [
    "The cancellation reason and delay reason columns contain a significant amount of NaN values.  If we are interested to investigate the reasons for flight delays and cancellations, then these columns will be of great use to us.  However, our goal here is to find the impact, if any, of airports, airlines and flights on flight delays and cancellations.  These columns are not relevant to what we want to find out, and therefore can be dropped.\n"
   ]
  },
  {
   "cell_type": "code",
   "execution_count": 5,
   "id": "f241d253",
   "metadata": {},
   "outputs": [],
   "source": [
    "# Drop the cancellation reason and delay reason columns.\n",
    "\n",
    "col = ['CANCELLATION_REASON', 'AIR_SYSTEM_DELAY', 'SECURITY_DELAY', 'SECURITY_DELAY', 'AIRLINE_DELAY', 'LATE_AIRCRAFT_DELAY', 'WEATHER_DELAY']\n",
    "df_flight = df_flight[df_flight.columns[~df_flight.columns.isin(col)]]"
   ]
  },
  {
   "cell_type": "markdown",
   "id": "2cba5dbb",
   "metadata": {},
   "source": [
    "The 'YEAR' column can also be deleted since it's the same (i.e. 2015) for all data entries."
   ]
  },
  {
   "cell_type": "code",
   "execution_count": 6,
   "id": "5185c44d",
   "metadata": {},
   "outputs": [
    {
     "name": "stdout",
     "output_type": "stream",
     "text": [
      "2015.0\n"
     ]
    },
    {
     "data": {
      "text/plain": [
       "MONTH                       0\n",
       "DAY                         0\n",
       "DAY_OF_WEEK                 0\n",
       "AIRLINE                     0\n",
       "FLIGHT_NUMBER               0\n",
       "TAIL_NUMBER             14721\n",
       "ORIGIN_AIRPORT              0\n",
       "DESTINATION_AIRPORT         0\n",
       "SCHEDULED_DEPARTURE         0\n",
       "DEPARTURE_TIME          86153\n",
       "DEPARTURE_DELAY         86153\n",
       "TAXI_OUT                89047\n",
       "WHEELS_OFF              89047\n",
       "SCHEDULED_TIME              6\n",
       "ELAPSED_TIME           105071\n",
       "AIR_TIME               105071\n",
       "DISTANCE                    0\n",
       "WHEELS_ON               92513\n",
       "TAXI_IN                 92513\n",
       "SCHEDULED_ARRIVAL           0\n",
       "ARRIVAL_TIME            92513\n",
       "ARRIVAL_DELAY          105071\n",
       "DIVERTED                    0\n",
       "CANCELLED                   0\n",
       "dtype: int64"
      ]
     },
     "execution_count": 6,
     "metadata": {},
     "output_type": "execute_result"
    }
   ],
   "source": [
    "# Verify if all data entry 'YEAR' is 2015.  If so, delete 'YEAR' column.  \n",
    "\n",
    "print(df_flight['YEAR'].mean())\n",
    "df_flight.drop('YEAR', axis=1, inplace=True)\n",
    "df_flight.isnull().sum()"
   ]
  },
  {
   "cell_type": "markdown",
   "id": "879b13a9",
   "metadata": {},
   "source": [
    "Let's verify that the total number of missing 'ARRIVAL_DELAY' values equals the total number of \n",
    "'DIVERTED' and 'CANCELLED' flights before dropping all the flights that were not late.\n"
   ]
  },
  {
   "cell_type": "code",
   "execution_count": 7,
   "id": "c46a76a4",
   "metadata": {},
   "outputs": [
    {
     "data": {
      "text/plain": [
       "105071"
      ]
     },
     "execution_count": 7,
     "metadata": {},
     "output_type": "execute_result"
    }
   ],
   "source": [
    "# Verify that the total number of missing 'ARRIVAL_DELAY' values equals the total number of \n",
    "#'DIVERTED' and 'CANCELLED' flights. \n",
    "\n",
    "df_flight['DIVERTED'].sum() + df_flight['CANCELLED'].sum()"
   ]
  },
  {
   "cell_type": "code",
   "execution_count": 8,
   "id": "b44f69eb",
   "metadata": {},
   "outputs": [],
   "source": [
    "# Drop all flights that arrived early or on time.\n",
    "\n",
    "df_flight = df_flight.drop(df_flight[df_flight.ARRIVAL_DELAY <= 0].index)"
   ]
  },
  {
   "cell_type": "code",
   "execution_count": 9,
   "id": "f8bde7ba",
   "metadata": {},
   "outputs": [
    {
     "data": {
      "text/plain": [
       "array([[<AxesSubplot:title={'center':'ARRIVAL_DELAY'}>]], dtype=object)"
      ]
     },
     "execution_count": 9,
     "metadata": {},
     "output_type": "execute_result"
    },
    {
     "data": {
      "image/png": "[encoded data removed]",
      "text/plain": [
       "<Figure size 640x480 with 1 Axes>"
      ]
     },
     "metadata": {},
     "output_type": "display_data"
    }
   ],
   "source": [
    "df_flight.hist(column='ARRIVAL_DELAY', bins=60)"
   ]
  },
  {
   "cell_type": "markdown",
   "id": "42aba729",
   "metadata": {},
   "source": [
    "The histogram shows that most of the flight delays are within 1-2 hours.  However, there are \n",
    "some extreme cases where the flight delay is over 24 hours.  Let's take a look at some of these\n",
    "extreme delays to see if they are valid or not."
   ]
  },
  {
   "cell_type": "code",
   "execution_count": 10,
   "id": "6cceb6d4",
   "metadata": {},
   "outputs": [
    {
     "data": {
      "text/html": [
       "<div>\n",
       "<style scoped>\n",
       "    .dataframe tbody tr th:only-of-type {\n",
       "        vertical-align: middle;\n",
       "    }\n",
       "\n",
       "    .dataframe tbody tr th {\n",
       "        vertical-align: top;\n",
       "    }\n",
       "\n",
       "    .dataframe thead th {\n",
       "        text-align: right;\n",
       "    }\n",
       "</style>\n",
       "<table border=\"1\" class=\"dataframe\">\n",
       "  <thead>\n",
       "    <tr style=\"text-align: right;\">\n",
       "      <th></th>\n",
       "      <th>MONTH</th>\n",
       "      <th>DAY</th>\n",
       "      <th>DAY_OF_WEEK</th>\n",
       "      <th>AIRLINE</th>\n",
       "      <th>FLIGHT_NUMBER</th>\n",
       "      <th>TAIL_NUMBER</th>\n",
       "      <th>ORIGIN_AIRPORT</th>\n",
       "      <th>DESTINATION_AIRPORT</th>\n",
       "      <th>SCHEDULED_DEPARTURE</th>\n",
       "      <th>DEPARTURE_TIME</th>\n",
       "      <th>...</th>\n",
       "      <th>ELAPSED_TIME</th>\n",
       "      <th>AIR_TIME</th>\n",
       "      <th>DISTANCE</th>\n",
       "      <th>WHEELS_ON</th>\n",
       "      <th>TAXI_IN</th>\n",
       "      <th>SCHEDULED_ARRIVAL</th>\n",
       "      <th>ARRIVAL_TIME</th>\n",
       "      <th>ARRIVAL_DELAY</th>\n",
       "      <th>DIVERTED</th>\n",
       "      <th>CANCELLED</th>\n",
       "    </tr>\n",
       "  </thead>\n",
       "  <tbody>\n",
       "    <tr>\n",
       "      <th>4559743</th>\n",
       "      <td>10</td>\n",
       "      <td>12</td>\n",
       "      <td>1</td>\n",
       "      <td>AA</td>\n",
       "      <td>1308</td>\n",
       "      <td>N3BFAA</td>\n",
       "      <td>14747</td>\n",
       "      <td>11298</td>\n",
       "      <td>645</td>\n",
       "      <td>858.0</td>\n",
       "      <td>...</td>\n",
       "      <td>220.0</td>\n",
       "      <td>189.0</td>\n",
       "      <td>1660</td>\n",
       "      <td>1433.0</td>\n",
       "      <td>5.0</td>\n",
       "      <td>1243</td>\n",
       "      <td>1438.0</td>\n",
       "      <td>1555.0</td>\n",
       "      <td>0</td>\n",
       "      <td>0</td>\n",
       "    </tr>\n",
       "    <tr>\n",
       "      <th>396544</th>\n",
       "      <td>1</td>\n",
       "      <td>27</td>\n",
       "      <td>2</td>\n",
       "      <td>AA</td>\n",
       "      <td>1242</td>\n",
       "      <td>N586AA</td>\n",
       "      <td>FAT</td>\n",
       "      <td>DFW</td>\n",
       "      <td>659</td>\n",
       "      <td>850.0</td>\n",
       "      <td>...</td>\n",
       "      <td>186.0</td>\n",
       "      <td>155.0</td>\n",
       "      <td>1313</td>\n",
       "      <td>1344.0</td>\n",
       "      <td>12.0</td>\n",
       "      <td>1210</td>\n",
       "      <td>1356.0</td>\n",
       "      <td>1546.0</td>\n",
       "      <td>0</td>\n",
       "      <td>0</td>\n",
       "    </tr>\n",
       "    <tr>\n",
       "      <th>311492</th>\n",
       "      <td>1</td>\n",
       "      <td>21</td>\n",
       "      <td>3</td>\n",
       "      <td>AA</td>\n",
       "      <td>2385</td>\n",
       "      <td>N4XNAA</td>\n",
       "      <td>JAX</td>\n",
       "      <td>DFW</td>\n",
       "      <td>1223</td>\n",
       "      <td>1240.0</td>\n",
       "      <td>...</td>\n",
       "      <td>167.0</td>\n",
       "      <td>144.0</td>\n",
       "      <td>918</td>\n",
       "      <td>1418.0</td>\n",
       "      <td>9.0</td>\n",
       "      <td>1415</td>\n",
       "      <td>1427.0</td>\n",
       "      <td>1452.0</td>\n",
       "      <td>0</td>\n",
       "      <td>0</td>\n",
       "    </tr>\n",
       "    <tr>\n",
       "      <th>1290061</th>\n",
       "      <td>3</td>\n",
       "      <td>25</td>\n",
       "      <td>3</td>\n",
       "      <td>AA</td>\n",
       "      <td>1126</td>\n",
       "      <td>N425AA</td>\n",
       "      <td>SMF</td>\n",
       "      <td>DFW</td>\n",
       "      <td>625</td>\n",
       "      <td>748.0</td>\n",
       "      <td>...</td>\n",
       "      <td>195.0</td>\n",
       "      <td>176.0</td>\n",
       "      <td>1431</td>\n",
       "      <td>1254.0</td>\n",
       "      <td>9.0</td>\n",
       "      <td>1149</td>\n",
       "      <td>1303.0</td>\n",
       "      <td>1514.0</td>\n",
       "      <td>0</td>\n",
       "      <td>0</td>\n",
       "    </tr>\n",
       "    <tr>\n",
       "      <th>797646</th>\n",
       "      <td>2</td>\n",
       "      <td>22</td>\n",
       "      <td>7</td>\n",
       "      <td>AA</td>\n",
       "      <td>1080</td>\n",
       "      <td>N007AA</td>\n",
       "      <td>EGE</td>\n",
       "      <td>ORD</td>\n",
       "      <td>1415</td>\n",
       "      <td>1432.0</td>\n",
       "      <td>...</td>\n",
       "      <td>161.0</td>\n",
       "      <td>123.0</td>\n",
       "      <td>1007</td>\n",
       "      <td>1757.0</td>\n",
       "      <td>16.0</td>\n",
       "      <td>1753</td>\n",
       "      <td>1813.0</td>\n",
       "      <td>1460.0</td>\n",
       "      <td>0</td>\n",
       "      <td>0</td>\n",
       "    </tr>\n",
       "    <tr>\n",
       "      <th>2212845</th>\n",
       "      <td>5</td>\n",
       "      <td>21</td>\n",
       "      <td>4</td>\n",
       "      <td>AA</td>\n",
       "      <td>1258</td>\n",
       "      <td>N4XFAA</td>\n",
       "      <td>LAX</td>\n",
       "      <td>STL</td>\n",
       "      <td>610</td>\n",
       "      <td>702.0</td>\n",
       "      <td>...</td>\n",
       "      <td>207.0</td>\n",
       "      <td>180.0</td>\n",
       "      <td>1592</td>\n",
       "      <td>1221.0</td>\n",
       "      <td>8.0</td>\n",
       "      <td>1149</td>\n",
       "      <td>1229.0</td>\n",
       "      <td>1480.0</td>\n",
       "      <td>0</td>\n",
       "      <td>0</td>\n",
       "    </tr>\n",
       "    <tr>\n",
       "      <th>264495</th>\n",
       "      <td>1</td>\n",
       "      <td>18</td>\n",
       "      <td>7</td>\n",
       "      <td>AA</td>\n",
       "      <td>224</td>\n",
       "      <td>N5DGAA</td>\n",
       "      <td>LAS</td>\n",
       "      <td>LAX</td>\n",
       "      <td>1130</td>\n",
       "      <td>1414.0</td>\n",
       "      <td>...</td>\n",
       "      <td>65.0</td>\n",
       "      <td>42.0</td>\n",
       "      <td>236</td>\n",
       "      <td>1512.0</td>\n",
       "      <td>7.0</td>\n",
       "      <td>1246</td>\n",
       "      <td>1519.0</td>\n",
       "      <td>1593.0</td>\n",
       "      <td>0</td>\n",
       "      <td>0</td>\n",
       "    </tr>\n",
       "    <tr>\n",
       "      <th>337720</th>\n",
       "      <td>1</td>\n",
       "      <td>23</td>\n",
       "      <td>5</td>\n",
       "      <td>AA</td>\n",
       "      <td>1322</td>\n",
       "      <td>N598AA</td>\n",
       "      <td>BHM</td>\n",
       "      <td>DFW</td>\n",
       "      <td>700</td>\n",
       "      <td>1608.0</td>\n",
       "      <td>...</td>\n",
       "      <td>117.0</td>\n",
       "      <td>99.0</td>\n",
       "      <td>597</td>\n",
       "      <td>1800.0</td>\n",
       "      <td>5.0</td>\n",
       "      <td>914</td>\n",
       "      <td>1805.0</td>\n",
       "      <td>1971.0</td>\n",
       "      <td>0</td>\n",
       "      <td>0</td>\n",
       "    </tr>\n",
       "    <tr>\n",
       "      <th>5810811</th>\n",
       "      <td>12</td>\n",
       "      <td>31</td>\n",
       "      <td>4</td>\n",
       "      <td>AA</td>\n",
       "      <td>2214</td>\n",
       "      <td>N4XKAA</td>\n",
       "      <td>ABQ</td>\n",
       "      <td>DFW</td>\n",
       "      <td>1041</td>\n",
       "      <td>1410.0</td>\n",
       "      <td>...</td>\n",
       "      <td>91.0</td>\n",
       "      <td>69.0</td>\n",
       "      <td>569</td>\n",
       "      <td>1631.0</td>\n",
       "      <td>10.0</td>\n",
       "      <td>1325</td>\n",
       "      <td>1641.0</td>\n",
       "      <td>1636.0</td>\n",
       "      <td>0</td>\n",
       "      <td>0</td>\n",
       "    </tr>\n",
       "    <tr>\n",
       "      <th>2737814</th>\n",
       "      <td>6</td>\n",
       "      <td>22</td>\n",
       "      <td>1</td>\n",
       "      <td>AA</td>\n",
       "      <td>1454</td>\n",
       "      <td>N858AA</td>\n",
       "      <td>SFO</td>\n",
       "      <td>DFW</td>\n",
       "      <td>515</td>\n",
       "      <td>611.0</td>\n",
       "      <td>...</td>\n",
       "      <td>214.0</td>\n",
       "      <td>178.0</td>\n",
       "      <td>1464</td>\n",
       "      <td>1135.0</td>\n",
       "      <td>10.0</td>\n",
       "      <td>1047</td>\n",
       "      <td>1145.0</td>\n",
       "      <td>1498.0</td>\n",
       "      <td>0</td>\n",
       "      <td>0</td>\n",
       "    </tr>\n",
       "  </tbody>\n",
       "</table>\n",
       "<p>10 rows × 24 columns</p>\n",
       "</div>"
      ],
      "text/plain": [
       "         MONTH  DAY  DAY_OF_WEEK AIRLINE  FLIGHT_NUMBER TAIL_NUMBER  \\\n",
       "4559743     10   12            1      AA           1308      N3BFAA   \n",
       "396544       1   27            2      AA           1242      N586AA   \n",
       "311492       1   21            3      AA           2385      N4XNAA   \n",
       "1290061      3   25            3      AA           1126      N425AA   \n",
       "797646       2   22            7      AA           1080      N007AA   \n",
       "2212845      5   21            4      AA           1258      N4XFAA   \n",
       "264495       1   18            7      AA            224      N5DGAA   \n",
       "337720       1   23            5      AA           1322      N598AA   \n",
       "5810811     12   31            4      AA           2214      N4XKAA   \n",
       "2737814      6   22            1      AA           1454      N858AA   \n",
       "\n",
       "        ORIGIN_AIRPORT DESTINATION_AIRPORT  SCHEDULED_DEPARTURE  \\\n",
       "4559743          14747               11298                  645   \n",
       "396544             FAT                 DFW                  659   \n",
       "311492             JAX                 DFW                 1223   \n",
       "1290061            SMF                 DFW                  625   \n",
       "797646             EGE                 ORD                 1415   \n",
       "2212845            LAX                 STL                  610   \n",
       "264495             LAS                 LAX                 1130   \n",
       "337720             BHM                 DFW                  700   \n",
       "5810811            ABQ                 DFW                 1041   \n",
       "2737814            SFO                 DFW                  515   \n",
       "\n",
       "         DEPARTURE_TIME  ...  ELAPSED_TIME  AIR_TIME  DISTANCE  WHEELS_ON  \\\n",
       "4559743           858.0  ...         220.0     189.0      1660     1433.0   \n",
       "396544            850.0  ...         186.0     155.0      1313     1344.0   \n",
       "311492           1240.0  ...         167.0     144.0       918     1418.0   \n",
       "1290061           748.0  ...         195.0     176.0      1431     1254.0   \n",
       "797646           1432.0  ...         161.0     123.0      1007     1757.0   \n",
       "2212845           702.0  ...         207.0     180.0      1592     1221.0   \n",
       "264495           1414.0  ...          65.0      42.0       236     1512.0   \n",
       "337720           1608.0  ...         117.0      99.0       597     1800.0   \n",
       "5810811          1410.0  ...          91.0      69.0       569     1631.0   \n",
       "2737814           611.0  ...         214.0     178.0      1464     1135.0   \n",
       "\n",
       "         TAXI_IN  SCHEDULED_ARRIVAL  ARRIVAL_TIME  ARRIVAL_DELAY  DIVERTED  \\\n",
       "4559743      5.0               1243        1438.0         1555.0         0   \n",
       "396544      12.0               1210        1356.0         1546.0         0   \n",
       "311492       9.0               1415        1427.0         1452.0         0   \n",
       "1290061      9.0               1149        1303.0         1514.0         0   \n",
       "797646      16.0               1753        1813.0         1460.0         0   \n",
       "2212845      8.0               1149        1229.0         1480.0         0   \n",
       "264495       7.0               1246        1519.0         1593.0         0   \n",
       "337720       5.0                914        1805.0         1971.0         0   \n",
       "5810811     10.0               1325        1641.0         1636.0         0   \n",
       "2737814     10.0               1047        1145.0         1498.0         0   \n",
       "\n",
       "         CANCELLED  \n",
       "4559743          0  \n",
       "396544           0  \n",
       "311492           0  \n",
       "1290061          0  \n",
       "797646           0  \n",
       "2212845          0  \n",
       "264495           0  \n",
       "337720           0  \n",
       "5810811          0  \n",
       "2737814          0  \n",
       "\n",
       "[10 rows x 24 columns]"
      ]
     },
     "execution_count": 10,
     "metadata": {},
     "output_type": "execute_result"
    }
   ],
   "source": [
    "# 'ARRIVAL_DELAY' columns have some extremely large numbers.  A closer look at these numbers \n",
    "# shows they are valid since the delay in those cases exceeded 24 hours.\n",
    "\n",
    "df_flight[df_flight.ARRIVAL_DELAY>1440].sample(10)"
   ]
  },
  {
   "cell_type": "markdown",
   "id": "5f29531c",
   "metadata": {},
   "source": [
    "Now, let's delete rows irrelevant to the investigation & replace null values for entries we want to keep."
   ]
  },
  {
   "cell_type": "code",
   "execution_count": 11,
   "id": "ebf54fdf",
   "metadata": {},
   "outputs": [],
   "source": [
    "irrelevant = ['DEPARTURE_DELAY', 'TAXI_OUT', 'WHEELS_OFF', 'ELAPSED_TIME', 'SCHEDULED_TIME', 'AIR_TIME', 'DISTANCE', 'WHEELS_ON', 'TAXI_IN']\n",
    "df_flight = df_flight[df_flight.columns[~df_flight.columns.isin(irrelevant)]]"
   ]
  },
  {
   "cell_type": "code",
   "execution_count": 12,
   "id": "f2db616d",
   "metadata": {},
   "outputs": [
    {
     "data": {
      "text/plain": [
       "count    2.191967e+06\n",
       "mean     3.152573e+01\n",
       "std      5.214012e+01\n",
       "min      0.000000e+00\n",
       "25%      5.000000e+00\n",
       "50%      1.400000e+01\n",
       "75%      3.600000e+01\n",
       "max      1.971000e+03\n",
       "Name: ARRIVAL_DELAY, dtype: float64"
      ]
     },
     "execution_count": 12,
     "metadata": {},
     "output_type": "execute_result"
    }
   ],
   "source": [
    "# For 'DIVERTED' and 'CANCELLED' flights, replace 'ARRIVAL_DELAY' NaN values with 0.  \n",
    "\n",
    "df_flight['ARRIVAL_DELAY'] = df_flight['ARRIVAL_DELAY'].fillna(0)\n",
    "df_flight['ARRIVAL_DELAY'].describe()"
   ]
  },
  {
   "cell_type": "code",
   "execution_count": 13,
   "id": "02e7c592",
   "metadata": {},
   "outputs": [
    {
     "data": {
      "text/plain": [
       "MONTH                      0\n",
       "DAY                        0\n",
       "DAY_OF_WEEK                0\n",
       "AIRLINE                    0\n",
       "FLIGHT_NUMBER              0\n",
       "TAIL_NUMBER            14721\n",
       "ORIGIN_AIRPORT             0\n",
       "DESTINATION_AIRPORT        0\n",
       "SCHEDULED_DEPARTURE        0\n",
       "DEPARTURE_TIME         86153\n",
       "SCHEDULED_ARRIVAL          0\n",
       "ARRIVAL_TIME           92513\n",
       "ARRIVAL_DELAY              0\n",
       "DIVERTED                   0\n",
       "CANCELLED                  0\n",
       "dtype: int64"
      ]
     },
     "execution_count": 13,
     "metadata": {},
     "output_type": "execute_result"
    }
   ],
   "source": [
    "df_flight.isna().sum()"
   ]
  },
  {
   "cell_type": "code",
   "execution_count": 14,
   "id": "52c88422",
   "metadata": {},
   "outputs": [],
   "source": [
    "# The 3 columns with NaN values are nice to have, but not absolutely necessary for the \n",
    "# investigation.  We can use scheduled departure time for the purpose of the investigation.  \n",
    "# Therefore, we don't actually need these 3 columns.\n",
    "\n",
    "df_flight = df_flight.drop(['TAIL_NUMBER', 'DEPARTURE_TIME', 'ARRIVAL_TIME'], axis=1)"
   ]
  },
  {
   "cell_type": "code",
   "execution_count": 15,
   "id": "12ea9e08",
   "metadata": {},
   "outputs": [
    {
     "data": {
      "text/html": [
       "<div>\n",
       "<style scoped>\n",
       "    .dataframe tbody tr th:only-of-type {\n",
       "        vertical-align: middle;\n",
       "    }\n",
       "\n",
       "    .dataframe tbody tr th {\n",
       "        vertical-align: top;\n",
       "    }\n",
       "\n",
       "    .dataframe thead th {\n",
       "        text-align: right;\n",
       "    }\n",
       "</style>\n",
       "<table border=\"1\" class=\"dataframe\">\n",
       "  <thead>\n",
       "    <tr style=\"text-align: right;\">\n",
       "      <th></th>\n",
       "      <th>MONTH</th>\n",
       "      <th>DAY</th>\n",
       "      <th>DAY_OF_WEEK</th>\n",
       "      <th>AIRLINE</th>\n",
       "      <th>FLIGHT_NUMBER</th>\n",
       "      <th>ORIGIN_AIRPORT</th>\n",
       "      <th>DESTINATION_AIRPORT</th>\n",
       "      <th>SCHEDULED_DEPARTURE</th>\n",
       "      <th>SCHEDULED_ARRIVAL</th>\n",
       "      <th>ARRIVAL_DELAY</th>\n",
       "      <th>DIVERTED</th>\n",
       "      <th>CANCELLED</th>\n",
       "    </tr>\n",
       "  </thead>\n",
       "  <tbody>\n",
       "    <tr>\n",
       "      <th>2345261</th>\n",
       "      <td>5</td>\n",
       "      <td>29</td>\n",
       "      <td>5</td>\n",
       "      <td>OO</td>\n",
       "      <td>5182</td>\n",
       "      <td>DTW</td>\n",
       "      <td>ORD</td>\n",
       "      <td>1111</td>\n",
       "      <td>1130</td>\n",
       "      <td>159.0</td>\n",
       "      <td>0</td>\n",
       "      <td>0</td>\n",
       "    </tr>\n",
       "    <tr>\n",
       "      <th>2627252</th>\n",
       "      <td>6</td>\n",
       "      <td>15</td>\n",
       "      <td>1</td>\n",
       "      <td>WN</td>\n",
       "      <td>3763</td>\n",
       "      <td>MDW</td>\n",
       "      <td>PDX</td>\n",
       "      <td>1235</td>\n",
       "      <td>1455</td>\n",
       "      <td>108.0</td>\n",
       "      <td>0</td>\n",
       "      <td>0</td>\n",
       "    </tr>\n",
       "    <tr>\n",
       "      <th>502772</th>\n",
       "      <td>2</td>\n",
       "      <td>3</td>\n",
       "      <td>2</td>\n",
       "      <td>MQ</td>\n",
       "      <td>3128</td>\n",
       "      <td>ORD</td>\n",
       "      <td>CVG</td>\n",
       "      <td>850</td>\n",
       "      <td>1101</td>\n",
       "      <td>102.0</td>\n",
       "      <td>0</td>\n",
       "      <td>0</td>\n",
       "    </tr>\n",
       "    <tr>\n",
       "      <th>1304998</th>\n",
       "      <td>3</td>\n",
       "      <td>25</td>\n",
       "      <td>3</td>\n",
       "      <td>WN</td>\n",
       "      <td>1983</td>\n",
       "      <td>STL</td>\n",
       "      <td>HOU</td>\n",
       "      <td>2140</td>\n",
       "      <td>2340</td>\n",
       "      <td>69.0</td>\n",
       "      <td>0</td>\n",
       "      <td>0</td>\n",
       "    </tr>\n",
       "    <tr>\n",
       "      <th>3559254</th>\n",
       "      <td>8</td>\n",
       "      <td>9</td>\n",
       "      <td>7</td>\n",
       "      <td>DL</td>\n",
       "      <td>2850</td>\n",
       "      <td>ATL</td>\n",
       "      <td>CAK</td>\n",
       "      <td>2043</td>\n",
       "      <td>2228</td>\n",
       "      <td>45.0</td>\n",
       "      <td>0</td>\n",
       "      <td>0</td>\n",
       "    </tr>\n",
       "  </tbody>\n",
       "</table>\n",
       "</div>"
      ],
      "text/plain": [
       "         MONTH  DAY  DAY_OF_WEEK AIRLINE  FLIGHT_NUMBER ORIGIN_AIRPORT  \\\n",
       "2345261      5   29            5      OO           5182            DTW   \n",
       "2627252      6   15            1      WN           3763            MDW   \n",
       "502772       2    3            2      MQ           3128            ORD   \n",
       "1304998      3   25            3      WN           1983            STL   \n",
       "3559254      8    9            7      DL           2850            ATL   \n",
       "\n",
       "        DESTINATION_AIRPORT  SCHEDULED_DEPARTURE  SCHEDULED_ARRIVAL  \\\n",
       "2345261                 ORD                 1111               1130   \n",
       "2627252                 PDX                 1235               1455   \n",
       "502772                  CVG                  850               1101   \n",
       "1304998                 HOU                 2140               2340   \n",
       "3559254                 CAK                 2043               2228   \n",
       "\n",
       "         ARRIVAL_DELAY  DIVERTED  CANCELLED  \n",
       "2345261          159.0         0          0  \n",
       "2627252          108.0         0          0  \n",
       "502772           102.0         0          0  \n",
       "1304998           69.0         0          0  \n",
       "3559254           45.0         0          0  "
      ]
     },
     "execution_count": 15,
     "metadata": {},
     "output_type": "execute_result"
    }
   ],
   "source": [
    "df_flight.isna().sum()\n",
    "df_flight.sample(5)"
   ]
  },
  {
   "cell_type": "markdown",
   "id": "4e8e7857",
   "metadata": {},
   "source": [
    "Since df_flight is such a large data file, we want to make sure that there is no duplicate \n",
    "entries.  "
   ]
  },
  {
   "cell_type": "code",
   "execution_count": null,
   "id": "649f3096",
   "metadata": {},
   "outputs": [],
   "source": [
    "# Check duplicate records.\n",
    "\n",
    "df_flight['index_origin'] = df_flight.groupby(['MONTH', 'DAY', 'AIRLINE', 'FLIGHT_NUMBER', 'ORIGIN_AIRPORT']).MONTH.transform('idxmin')    \n",
    "duplicate = df_flight[df_flight.duplicated(subset=['MONTH','DAY','AIRLINE', 'FLIGHT_NUMBER', 'ORIGIN_AIRPORT'], keep='first')]"
   ]
  },
  {
   "cell_type": "code",
   "execution_count": null,
   "id": "264e48f4",
   "metadata": {},
   "outputs": [],
   "source": [
    "print(duplicate)"
   ]
  },
  {
   "cell_type": "code",
   "execution_count": null,
   "id": "c05b2b40",
   "metadata": {},
   "outputs": [],
   "source": [
    "# Checked the duplicated records and confirmed that they are not duplicate dues to \n",
    "# different destination airports.\n",
    "\n",
    "print(df_flight.iloc[[1556755, 1556756]])"
   ]
  },
  {
   "cell_type": "markdown",
   "id": "3acfe46b",
   "metadata": {},
   "source": [
    "Next, we want to merge the 3 files together.  We want the main flight file show the origin \n",
    "airport city & state as well as the destination aiport city & state. Also, we want to \n",
    "see the airline names in the main file instead of the IATA codes.  "
   ]
  },
  {
   "cell_type": "code",
   "execution_count": null,
   "id": "f9444f3d",
   "metadata": {},
   "outputs": [],
   "source": [
    "df_flight = df_flight.drop(['index_origin'], axis=1)"
   ]
  },
  {
   "cell_type": "code",
   "execution_count": null,
   "id": "6301de4c",
   "metadata": {},
   "outputs": [],
   "source": [
    "# Add 'ORIGIN_AIRPORT' and 'ORIGIN_STATE' to df by left joining df_airport with df.\n",
    "\n",
    "df_airport = df_airport.drop(['LATITUDE','LONGITUDE', 'COUNTRY','AIRPORT'], axis=1)\n",
    "df_airport.rename(columns = {'IATA_CODE':'ORIGIN_AIRPORT'}, inplace = True)\n",
    "\n",
    "df = pd.merge(df_flight, df_airport, how = 'left', on = ['ORIGIN_AIRPORT'])\n",
    "df.rename(columns = {'CITY':'ORIGIN_CITY', 'STATE':'ORIGIN_STATE'}, inplace = True)"
   ]
  },
  {
   "cell_type": "code",
   "execution_count": null,
   "id": "74849dba",
   "metadata": {},
   "outputs": [],
   "source": [
    "print(df[df['ORIGIN_CITY'].isna()])"
   ]
  },
  {
   "cell_type": "code",
   "execution_count": null,
   "id": "0fd7c651",
   "metadata": {},
   "outputs": [],
   "source": [
    "# The null values are caused by 'IATA_CODE' being a 5-digit-number.  As we know, \n",
    "# IATA_CODE is a standard 3-letter-code. Therefore, the 5-digit-numbered IATA_CODE values \n",
    "# in the original df_flight file are incorrect and should be replaced.\n",
    "\n",
    "df = df.fillna('Unknown')"
   ]
  },
  {
   "cell_type": "code",
   "execution_count": null,
   "id": "4bb6ec2e",
   "metadata": {},
   "outputs": [],
   "source": [
    "# Repeat the above process for the destination airports.\n",
    "\n",
    "df_airport.rename(columns = {'ORIGIN_AIRPORT':'DESTINATION_AIRPORT'}, inplace = True)\n",
    "\n",
    "df = pd.merge(df, df_airport, how = 'left', on = ['DESTINATION_AIRPORT'])\n",
    "df.rename(columns = {'CITY':'DESTINATION_CITY', 'STATE':'DESTINATION_STATE'}, inplace = True)\n",
    "\n",
    "df = df.fillna('Unknown')"
   ]
  },
  {
   "cell_type": "code",
   "execution_count": null,
   "id": "58a4ddc8",
   "metadata": {},
   "outputs": [],
   "source": [
    "# Add airline name to the df by left join.\n",
    "\n",
    "df.rename(columns = {'AIRLINE':'IATA_CODE'}, inplace = True)\n",
    "df = pd.merge(df, df_airline, how = 'left', on = ['IATA_CODE'])"
   ]
  },
  {
   "cell_type": "markdown",
   "id": "2098dcad",
   "metadata": {},
   "source": [
    "After all the data wrangling we've done, let's do a final double check to make sure that all\n",
    "the numbers match and fit, and we have all the data in the way we want them to be."
   ]
  },
  {
   "cell_type": "code",
   "execution_count": null,
   "id": "36428c8b",
   "metadata": {},
   "outputs": [],
   "source": [
    "delayed = np.count_nonzero(df['ARRIVAL_DELAY'])\n",
    "diverted = df['DIVERTED'].sum()\n",
    "cancelled = df['CANCELLED'].sum()\n",
    "\n",
    "print('Total Delayed:', delayed)\n",
    "print('Total Divereted:', diverted)\n",
    "print('Total Cancelled:', cancelled)\n",
    "print('Total:', delayed + diverted + cancelled)"
   ]
  },
  {
   "cell_type": "code",
   "execution_count": null,
   "id": "c8b34094",
   "metadata": {},
   "outputs": [],
   "source": [
    "df.info()"
   ]
  },
  {
   "cell_type": "code",
   "execution_count": null,
   "id": "c59e2aa6",
   "metadata": {},
   "outputs": [],
   "source": [
    "df.sample(10)"
   ]
  },
  {
   "cell_type": "code",
   "execution_count": null,
   "id": "08a8f2b4",
   "metadata": {},
   "outputs": [],
   "source": []
  }
 ],
 "metadata": {
  "kernelspec": {
   "display_name": "Python 3 (ipykernel)",
   "language": "python",
   "name": "python3"
  },
  "language_info": {
   "codemirror_mode": {
    "name": "ipython",
    "version": 3
   },
   "file_extension": ".py",
   "mimetype": "text/x-python",
   "name": "python",
   "nbconvert_exporter": "python",
   "pygments_lexer": "ipython3",
   "version": "3.9.13"
  }
 },
 "nbformat": 4,
 "nbformat_minor": 5
}
