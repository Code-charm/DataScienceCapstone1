{
 "cells": [
  {
   "cell_type": "markdown",
   "id": "1d548d69",
   "metadata": {},
   "source": [
    "## Springboard Data Science Capstone Two\n",
    "\n",
    "### 3. Exploratory Data Analysis\n",
    "In this part of the project, we'll focus on gaining insights and understanding about the data.  Features will be investigated using either visualization tools or statistics models.  The goal is to have a better understanding of the core characteristics of the data and identify statistical relationship strengths that could be used to develope hypotheses for further analysis.\n"
   ]
  },
  {
   "cell_type": "markdown",
   "id": "80b31a37",
   "metadata": {},
   "source": [
    "### 3.1 Sourcing & Loading\n",
    "\n",
    "#### 3.1.1 Import relevant libraries and packages\n"
   ]
  },
  {
   "cell_type": "code",
   "execution_count": 267,
   "id": "e5f0342d",
   "metadata": {},
   "outputs": [],
   "source": [
    "import pandas as pd\n",
    "import numpy as np\n",
    "import matplotlib.pyplot as plt\n",
    "import seaborn as sns\n",
    "from scipy import stats\n",
    "from scipy.stats import t\n",
    "import statsmodels.api as sm\n",
    "from sklearn import linear_model, preprocessing\n",
    "from sklearn.model_selection import train_test_split"
   ]
  },
  {
   "cell_type": "markdown",
   "id": "5ae9b552",
   "metadata": {},
   "source": [
    "#### 3.1.2 Import & review data"
   ]
  },
  {
   "cell_type": "code",
   "execution_count": 268,
   "id": "6cc1fcb6",
   "metadata": {},
   "outputs": [],
   "source": [
    "df = pd.read_csv(\"flight_lax.csv\")"
   ]
  },
  {
   "cell_type": "code",
   "execution_count": 269,
   "id": "fe1e74f8",
   "metadata": {},
   "outputs": [
    {
     "data": {
      "text/html": [
       "<div>\n",
       "<style scoped>\n",
       "    .dataframe tbody tr th:only-of-type {\n",
       "        vertical-align: middle;\n",
       "    }\n",
       "\n",
       "    .dataframe tbody tr th {\n",
       "        vertical-align: top;\n",
       "    }\n",
       "\n",
       "    .dataframe thead th {\n",
       "        text-align: right;\n",
       "    }\n",
       "</style>\n",
       "<table border=\"1\" class=\"dataframe\">\n",
       "  <thead>\n",
       "    <tr style=\"text-align: right;\">\n",
       "      <th></th>\n",
       "      <th>Unnamed: 0</th>\n",
       "      <th>MONTH</th>\n",
       "      <th>DAY</th>\n",
       "      <th>DAY_OF_WEEK</th>\n",
       "      <th>FLIGHT_NUMBER</th>\n",
       "      <th>ORIGIN_AIRPORT</th>\n",
       "      <th>DESTINATION_AIRPORT</th>\n",
       "      <th>SCHEDULED_DEPARTURE</th>\n",
       "      <th>SCHEDULED_TIME</th>\n",
       "      <th>DISTANCE</th>\n",
       "      <th>SCHEDULED_ARRIVAL</th>\n",
       "      <th>DIVERTED</th>\n",
       "      <th>CANCELLED</th>\n",
       "      <th>CANCELLATION_REASON</th>\n",
       "      <th>ORIGIN_CITY</th>\n",
       "      <th>ORIGIN_STATE</th>\n",
       "      <th>DESTINATION_CITY</th>\n",
       "      <th>DESTINATION_STATE</th>\n",
       "      <th>AIRLINE</th>\n",
       "    </tr>\n",
       "  </thead>\n",
       "  <tbody>\n",
       "    <tr>\n",
       "      <th>0</th>\n",
       "      <td>0</td>\n",
       "      <td>1</td>\n",
       "      <td>1</td>\n",
       "      <td>4</td>\n",
       "      <td>2336</td>\n",
       "      <td>LAX</td>\n",
       "      <td>PBI</td>\n",
       "      <td>10</td>\n",
       "      <td>280.0</td>\n",
       "      <td>2330</td>\n",
       "      <td>750</td>\n",
       "      <td>0</td>\n",
       "      <td>0</td>\n",
       "      <td>Unknown</td>\n",
       "      <td>Los Angeles</td>\n",
       "      <td>CA</td>\n",
       "      <td>West Palm Beach</td>\n",
       "      <td>FL</td>\n",
       "      <td>American Airlines Inc.</td>\n",
       "    </tr>\n",
       "    <tr>\n",
       "      <th>1</th>\n",
       "      <td>1</td>\n",
       "      <td>1</td>\n",
       "      <td>1</td>\n",
       "      <td>4</td>\n",
       "      <td>258</td>\n",
       "      <td>LAX</td>\n",
       "      <td>MIA</td>\n",
       "      <td>20</td>\n",
       "      <td>285.0</td>\n",
       "      <td>2342</td>\n",
       "      <td>805</td>\n",
       "      <td>0</td>\n",
       "      <td>0</td>\n",
       "      <td>Unknown</td>\n",
       "      <td>Los Angeles</td>\n",
       "      <td>CA</td>\n",
       "      <td>Miami</td>\n",
       "      <td>FL</td>\n",
       "      <td>American Airlines Inc.</td>\n",
       "    </tr>\n",
       "    <tr>\n",
       "      <th>2</th>\n",
       "      <td>2</td>\n",
       "      <td>1</td>\n",
       "      <td>1</td>\n",
       "      <td>4</td>\n",
       "      <td>2013</td>\n",
       "      <td>LAX</td>\n",
       "      <td>CLT</td>\n",
       "      <td>30</td>\n",
       "      <td>273.0</td>\n",
       "      <td>2125</td>\n",
       "      <td>803</td>\n",
       "      <td>0</td>\n",
       "      <td>0</td>\n",
       "      <td>Unknown</td>\n",
       "      <td>Los Angeles</td>\n",
       "      <td>CA</td>\n",
       "      <td>Charlotte</td>\n",
       "      <td>NC</td>\n",
       "      <td>US Airways Inc.</td>\n",
       "    </tr>\n",
       "  </tbody>\n",
       "</table>\n",
       "</div>"
      ],
      "text/plain": [
       "   Unnamed: 0  MONTH  DAY  DAY_OF_WEEK  FLIGHT_NUMBER ORIGIN_AIRPORT  \\\n",
       "0           0      1    1            4           2336            LAX   \n",
       "1           1      1    1            4            258            LAX   \n",
       "2           2      1    1            4           2013            LAX   \n",
       "\n",
       "  DESTINATION_AIRPORT  SCHEDULED_DEPARTURE  SCHEDULED_TIME  DISTANCE  \\\n",
       "0                 PBI                   10           280.0      2330   \n",
       "1                 MIA                   20           285.0      2342   \n",
       "2                 CLT                   30           273.0      2125   \n",
       "\n",
       "   SCHEDULED_ARRIVAL  DIVERTED  CANCELLED CANCELLATION_REASON  ORIGIN_CITY  \\\n",
       "0                750         0          0             Unknown  Los Angeles   \n",
       "1                805         0          0             Unknown  Los Angeles   \n",
       "2                803         0          0             Unknown  Los Angeles   \n",
       "\n",
       "  ORIGIN_STATE DESTINATION_CITY DESTINATION_STATE                 AIRLINE  \n",
       "0           CA  West Palm Beach                FL  American Airlines Inc.  \n",
       "1           CA            Miami                FL  American Airlines Inc.  \n",
       "2           CA        Charlotte                NC         US Airways Inc.  "
      ]
     },
     "execution_count": 269,
     "metadata": {},
     "output_type": "execute_result"
    }
   ],
   "source": [
    "df.head(3)"
   ]
  },
  {
   "cell_type": "code",
   "execution_count": 270,
   "id": "6a39ba7c",
   "metadata": {},
   "outputs": [],
   "source": [
    "# Let's get rid of the first column \"Unnamed:0\" and then check the size of the data.\n",
    "df.drop(['Unnamed: 0', 'ORIGIN_AIRPORT', 'ORIGIN_CITY', 'ORIGIN_STATE'], axis=1, inplace=True)\n",
    "\n",
    "# Flight numbers don't seem to be contributing much in flight delays. Therefore, we'll delete the \n",
    "# 'FLIGHT_NUMBER' column.\n",
    "df.drop('FLIGHT_NUMBER', axis=1, inplace=True)"
   ]
  },
  {
   "cell_type": "code",
   "execution_count": 271,
   "id": "83028648",
   "metadata": {},
   "outputs": [
    {
     "data": {
      "text/html": [
       "<div>\n",
       "<style scoped>\n",
       "    .dataframe tbody tr th:only-of-type {\n",
       "        vertical-align: middle;\n",
       "    }\n",
       "\n",
       "    .dataframe tbody tr th {\n",
       "        vertical-align: top;\n",
       "    }\n",
       "\n",
       "    .dataframe thead th {\n",
       "        text-align: right;\n",
       "    }\n",
       "</style>\n",
       "<table border=\"1\" class=\"dataframe\">\n",
       "  <thead>\n",
       "    <tr style=\"text-align: right;\">\n",
       "      <th></th>\n",
       "      <th>MONTH</th>\n",
       "      <th>DAY</th>\n",
       "      <th>DAY_OF_WEEK</th>\n",
       "      <th>DESTINATION_AIRPORT</th>\n",
       "      <th>SCHEDULED_DEPARTURE</th>\n",
       "      <th>SCHEDULED_TIME</th>\n",
       "      <th>DISTANCE</th>\n",
       "      <th>SCHEDULED_ARRIVAL</th>\n",
       "      <th>DIVERTED</th>\n",
       "      <th>CANCELLED</th>\n",
       "      <th>CANCELLATION_REASON</th>\n",
       "      <th>DESTINATION_CITY</th>\n",
       "      <th>DESTINATION_STATE</th>\n",
       "      <th>AIRLINE</th>\n",
       "    </tr>\n",
       "  </thead>\n",
       "  <tbody>\n",
       "    <tr>\n",
       "      <th>0</th>\n",
       "      <td>1</td>\n",
       "      <td>1</td>\n",
       "      <td>4</td>\n",
       "      <td>PBI</td>\n",
       "      <td>10</td>\n",
       "      <td>280.0</td>\n",
       "      <td>2330</td>\n",
       "      <td>750</td>\n",
       "      <td>0</td>\n",
       "      <td>0</td>\n",
       "      <td>Unknown</td>\n",
       "      <td>West Palm Beach</td>\n",
       "      <td>FL</td>\n",
       "      <td>American Airlines Inc.</td>\n",
       "    </tr>\n",
       "    <tr>\n",
       "      <th>1</th>\n",
       "      <td>1</td>\n",
       "      <td>1</td>\n",
       "      <td>4</td>\n",
       "      <td>MIA</td>\n",
       "      <td>20</td>\n",
       "      <td>285.0</td>\n",
       "      <td>2342</td>\n",
       "      <td>805</td>\n",
       "      <td>0</td>\n",
       "      <td>0</td>\n",
       "      <td>Unknown</td>\n",
       "      <td>Miami</td>\n",
       "      <td>FL</td>\n",
       "      <td>American Airlines Inc.</td>\n",
       "    </tr>\n",
       "    <tr>\n",
       "      <th>2</th>\n",
       "      <td>1</td>\n",
       "      <td>1</td>\n",
       "      <td>4</td>\n",
       "      <td>CLT</td>\n",
       "      <td>30</td>\n",
       "      <td>273.0</td>\n",
       "      <td>2125</td>\n",
       "      <td>803</td>\n",
       "      <td>0</td>\n",
       "      <td>0</td>\n",
       "      <td>Unknown</td>\n",
       "      <td>Charlotte</td>\n",
       "      <td>NC</td>\n",
       "      <td>US Airways Inc.</td>\n",
       "    </tr>\n",
       "    <tr>\n",
       "      <th>3</th>\n",
       "      <td>1</td>\n",
       "      <td>1</td>\n",
       "      <td>4</td>\n",
       "      <td>MSP</td>\n",
       "      <td>35</td>\n",
       "      <td>214.0</td>\n",
       "      <td>1535</td>\n",
       "      <td>609</td>\n",
       "      <td>0</td>\n",
       "      <td>0</td>\n",
       "      <td>Unknown</td>\n",
       "      <td>Minneapolis</td>\n",
       "      <td>MN</td>\n",
       "      <td>Delta Air Lines Inc.</td>\n",
       "    </tr>\n",
       "    <tr>\n",
       "      <th>4</th>\n",
       "      <td>1</td>\n",
       "      <td>1</td>\n",
       "      <td>4</td>\n",
       "      <td>MIA</td>\n",
       "      <td>105</td>\n",
       "      <td>286.0</td>\n",
       "      <td>2342</td>\n",
       "      <td>851</td>\n",
       "      <td>0</td>\n",
       "      <td>0</td>\n",
       "      <td>Unknown</td>\n",
       "      <td>Miami</td>\n",
       "      <td>FL</td>\n",
       "      <td>American Airlines Inc.</td>\n",
       "    </tr>\n",
       "  </tbody>\n",
       "</table>\n",
       "</div>"
      ],
      "text/plain": [
       "   MONTH  DAY  DAY_OF_WEEK DESTINATION_AIRPORT  SCHEDULED_DEPARTURE  \\\n",
       "0      1    1            4                 PBI                   10   \n",
       "1      1    1            4                 MIA                   20   \n",
       "2      1    1            4                 CLT                   30   \n",
       "3      1    1            4                 MSP                   35   \n",
       "4      1    1            4                 MIA                  105   \n",
       "\n",
       "   SCHEDULED_TIME  DISTANCE  SCHEDULED_ARRIVAL  DIVERTED  CANCELLED  \\\n",
       "0           280.0      2330                750         0          0   \n",
       "1           285.0      2342                805         0          0   \n",
       "2           273.0      2125                803         0          0   \n",
       "3           214.0      1535                609         0          0   \n",
       "4           286.0      2342                851         0          0   \n",
       "\n",
       "  CANCELLATION_REASON DESTINATION_CITY DESTINATION_STATE  \\\n",
       "0             Unknown  West Palm Beach                FL   \n",
       "1             Unknown            Miami                FL   \n",
       "2             Unknown        Charlotte                NC   \n",
       "3             Unknown      Minneapolis                MN   \n",
       "4             Unknown            Miami                FL   \n",
       "\n",
       "                  AIRLINE  \n",
       "0  American Airlines Inc.  \n",
       "1  American Airlines Inc.  \n",
       "2         US Airways Inc.  \n",
       "3    Delta Air Lines Inc.  \n",
       "4  American Airlines Inc.  "
      ]
     },
     "execution_count": 271,
     "metadata": {},
     "output_type": "execute_result"
    }
   ],
   "source": [
    "df.shape\n",
    "df.head(5)"
   ]
  },
  {
   "cell_type": "code",
   "execution_count": null,
   "id": "062729ef",
   "metadata": {},
   "outputs": [],
   "source": []
  },
  {
   "cell_type": "code",
   "execution_count": null,
   "id": "e5507cf9",
   "metadata": {},
   "outputs": [],
   "source": []
  },
  {
   "cell_type": "code",
   "execution_count": null,
   "id": "79f75206",
   "metadata": {},
   "outputs": [],
   "source": []
  },
  {
   "cell_type": "code",
   "execution_count": 272,
   "id": "da817e2b",
   "metadata": {},
   "outputs": [],
   "source": [
    "airline = pd.DataFrame()\n",
    "airline['TOTAL_FLIGHTS'] = df[['AIRLINE', 'CANCELLED']].groupby('AIRLINE').count()"
   ]
  },
  {
   "cell_type": "code",
   "execution_count": 273,
   "id": "44a47503",
   "metadata": {},
   "outputs": [
    {
     "data": {
      "text/html": [
       "<div>\n",
       "<style scoped>\n",
       "    .dataframe tbody tr th:only-of-type {\n",
       "        vertical-align: middle;\n",
       "    }\n",
       "\n",
       "    .dataframe tbody tr th {\n",
       "        vertical-align: top;\n",
       "    }\n",
       "\n",
       "    .dataframe thead th {\n",
       "        text-align: right;\n",
       "    }\n",
       "</style>\n",
       "<table border=\"1\" class=\"dataframe\">\n",
       "  <thead>\n",
       "    <tr style=\"text-align: right;\">\n",
       "      <th></th>\n",
       "      <th>TOTAL_FLIGHTS</th>\n",
       "      <th>CANCELLED</th>\n",
       "      <th>%_CANCELLED</th>\n",
       "    </tr>\n",
       "    <tr>\n",
       "      <th>AIRLINE</th>\n",
       "      <th></th>\n",
       "      <th></th>\n",
       "      <th></th>\n",
       "    </tr>\n",
       "  </thead>\n",
       "  <tbody>\n",
       "    <tr>\n",
       "      <th>American Eagle Airlines Inc.</th>\n",
       "      <td>184</td>\n",
       "      <td>13</td>\n",
       "      <td>0.070652</td>\n",
       "    </tr>\n",
       "    <tr>\n",
       "      <th>Southwest Airlines Co.</th>\n",
       "      <td>37511</td>\n",
       "      <td>796</td>\n",
       "      <td>0.021220</td>\n",
       "    </tr>\n",
       "    <tr>\n",
       "      <th>Spirit Air Lines</th>\n",
       "      <td>4344</td>\n",
       "      <td>55</td>\n",
       "      <td>0.012661</td>\n",
       "    </tr>\n",
       "    <tr>\n",
       "      <th>Skywest Airlines Inc.</th>\n",
       "      <td>36691</td>\n",
       "      <td>455</td>\n",
       "      <td>0.012401</td>\n",
       "    </tr>\n",
       "    <tr>\n",
       "      <th>United Air Lines Inc.</th>\n",
       "      <td>27429</td>\n",
       "      <td>298</td>\n",
       "      <td>0.010864</td>\n",
       "    </tr>\n",
       "    <tr>\n",
       "      <th>American Airlines Inc.</th>\n",
       "      <td>32738</td>\n",
       "      <td>323</td>\n",
       "      <td>0.009866</td>\n",
       "    </tr>\n",
       "    <tr>\n",
       "      <th>JetBlue Airways</th>\n",
       "      <td>4108</td>\n",
       "      <td>33</td>\n",
       "      <td>0.008033</td>\n",
       "    </tr>\n",
       "    <tr>\n",
       "      <th>US Airways Inc.</th>\n",
       "      <td>3688</td>\n",
       "      <td>27</td>\n",
       "      <td>0.007321</td>\n",
       "    </tr>\n",
       "    <tr>\n",
       "      <th>Virgin America</th>\n",
       "      <td>11801</td>\n",
       "      <td>76</td>\n",
       "      <td>0.006440</td>\n",
       "    </tr>\n",
       "    <tr>\n",
       "      <th>Frontier Airlines Inc.</th>\n",
       "      <td>1382</td>\n",
       "      <td>6</td>\n",
       "      <td>0.004342</td>\n",
       "    </tr>\n",
       "    <tr>\n",
       "      <th>Hawaiian Airlines Inc.</th>\n",
       "      <td>1555</td>\n",
       "      <td>5</td>\n",
       "      <td>0.003215</td>\n",
       "    </tr>\n",
       "    <tr>\n",
       "      <th>Alaska Airlines Inc.</th>\n",
       "      <td>8071</td>\n",
       "      <td>23</td>\n",
       "      <td>0.002850</td>\n",
       "    </tr>\n",
       "    <tr>\n",
       "      <th>Delta Air Lines Inc.</th>\n",
       "      <td>25171</td>\n",
       "      <td>54</td>\n",
       "      <td>0.002145</td>\n",
       "    </tr>\n",
       "  </tbody>\n",
       "</table>\n",
       "</div>"
      ],
      "text/plain": [
       "                              TOTAL_FLIGHTS  CANCELLED  %_CANCELLED\n",
       "AIRLINE                                                            \n",
       "American Eagle Airlines Inc.            184         13     0.070652\n",
       "Southwest Airlines Co.                37511        796     0.021220\n",
       "Spirit Air Lines                       4344         55     0.012661\n",
       "Skywest Airlines Inc.                 36691        455     0.012401\n",
       "United Air Lines Inc.                 27429        298     0.010864\n",
       "American Airlines Inc.                32738        323     0.009866\n",
       "JetBlue Airways                        4108         33     0.008033\n",
       "US Airways Inc.                        3688         27     0.007321\n",
       "Virgin America                        11801         76     0.006440\n",
       "Frontier Airlines Inc.                 1382          6     0.004342\n",
       "Hawaiian Airlines Inc.                 1555          5     0.003215\n",
       "Alaska Airlines Inc.                   8071         23     0.002850\n",
       "Delta Air Lines Inc.                  25171         54     0.002145"
      ]
     },
     "execution_count": 273,
     "metadata": {},
     "output_type": "execute_result"
    }
   ],
   "source": [
    "airline['CANCELLED'] = df[['AIRLINE', 'CANCELLED']].groupby('AIRLINE').sum()\n",
    "airline['%_CANCELLED'] = airline['CANCELLED']/airline['TOTAL_FLIGHTS']\n",
    "airline.sort_values(by = '%_CANCELLED', ascending=[False])"
   ]
  },
  {
   "cell_type": "code",
   "execution_count": 274,
   "id": "c1134d36",
   "metadata": {},
   "outputs": [],
   "source": [
    "airline = airline.sort_values(by = 'CANCELLED', ascending=[False])"
   ]
  },
  {
   "cell_type": "code",
   "execution_count": 279,
   "id": "81a5cd5e",
   "metadata": {},
   "outputs": [
    {
     "data": {
      "image/png": "[encoded data removed]",
      "text/plain": [
       "<Figure size 600x300 with 1 Axes>"
      ]
     },
     "metadata": {},
     "output_type": "display_data"
    }
   ],
   "source": [
    "airline = airline.reset_index()\n",
    "airline_name = airline['AIRLINE']\n",
    "airline_cancel = airline['CANCELLED']\n",
    "\n",
    "fig, ax = plt.subplots(figsize=(6, 3), subplot_kw=dict(aspect=\"equal\"))\n",
    "\n",
    "wedges, autotexts = ax.pie(airline_cancel, textprops=dict(color=\"w\"))\n",
    "\n",
    "ax.legend(wedges, airline_name,\n",
    "          title=\"Airlines\", \n",
    "          loc=\"center left\",\n",
    "          bbox_to_anchor=(1, 0, 0.5, 1), fontsize=8)\n",
    "\n",
    "plt.setp(autotexts, size=8, weight=\"bold\")\n",
    "\n",
    "ax.set_title(\"LAX Outbound Flight Cancellation by Airline\")\n",
    "plt.show()"
   ]
  },
  {
   "cell_type": "code",
   "execution_count": 277,
   "id": "df28d6a7",
   "metadata": {},
   "outputs": [
    {
     "data": {
      "text/html": [
       "<div>\n",
       "<style scoped>\n",
       "    .dataframe tbody tr th:only-of-type {\n",
       "        vertical-align: middle;\n",
       "    }\n",
       "\n",
       "    .dataframe tbody tr th {\n",
       "        vertical-align: top;\n",
       "    }\n",
       "\n",
       "    .dataframe thead th {\n",
       "        text-align: right;\n",
       "    }\n",
       "</style>\n",
       "<table border=\"1\" class=\"dataframe\">\n",
       "  <thead>\n",
       "    <tr style=\"text-align: right;\">\n",
       "      <th></th>\n",
       "      <th>TOTAL_FLIGHTS</th>\n",
       "      <th>CANCELLED</th>\n",
       "      <th>%_CANCELLED</th>\n",
       "    </tr>\n",
       "    <tr>\n",
       "      <th>DESTINATION_STATE</th>\n",
       "      <th></th>\n",
       "      <th></th>\n",
       "      <th></th>\n",
       "    </tr>\n",
       "  </thead>\n",
       "  <tbody>\n",
       "    <tr>\n",
       "      <th>CA</th>\n",
       "      <td>44236</td>\n",
       "      <td>990</td>\n",
       "      <td>0.022380</td>\n",
       "    </tr>\n",
       "    <tr>\n",
       "      <th>WY</th>\n",
       "      <td>255</td>\n",
       "      <td>5</td>\n",
       "      <td>0.019608</td>\n",
       "    </tr>\n",
       "    <tr>\n",
       "      <th>KS</th>\n",
       "      <td>58</td>\n",
       "      <td>1</td>\n",
       "      <td>0.017241</td>\n",
       "    </tr>\n",
       "    <tr>\n",
       "      <th>NM</th>\n",
       "      <td>2067</td>\n",
       "      <td>32</td>\n",
       "      <td>0.015481</td>\n",
       "    </tr>\n",
       "    <tr>\n",
       "      <th>NJ</th>\n",
       "      <td>4618</td>\n",
       "      <td>71</td>\n",
       "      <td>0.015375</td>\n",
       "    </tr>\n",
       "  </tbody>\n",
       "</table>\n",
       "</div>"
      ],
      "text/plain": [
       "                   TOTAL_FLIGHTS  CANCELLED  %_CANCELLED\n",
       "DESTINATION_STATE                                       \n",
       "CA                         44236        990     0.022380\n",
       "WY                           255          5     0.019608\n",
       "KS                            58          1     0.017241\n",
       "NM                          2067         32     0.015481\n",
       "NJ                          4618         71     0.015375"
      ]
     },
     "execution_count": 277,
     "metadata": {},
     "output_type": "execute_result"
    }
   ],
   "source": [
    "destination_state = pd.DataFrame()\n",
    "destination_state['TOTAL_FLIGHTS'] = df[['DESTINATION_STATE', 'CANCELLED']].groupby('DESTINATION_STATE').count()\n",
    "destination_state['CANCELLED'] = df[['DESTINATION_STATE', 'CANCELLED']].groupby('DESTINATION_STATE').sum()\n",
    "destination_state['%_CANCELLED'] = destination_state['CANCELLED']/destination_state['TOTAL_FLIGHTS']\n",
    "destination_state = destination_state.sort_values(by = '%_CANCELLED', ascending=[False])\n",
    "destination_state.head(5)"
   ]
  },
  {
   "cell_type": "code",
   "execution_count": 157,
   "id": "966e97a3",
   "metadata": {},
   "outputs": [
    {
     "data": {
      "text/html": [
       "<div>\n",
       "<style scoped>\n",
       "    .dataframe tbody tr th:only-of-type {\n",
       "        vertical-align: middle;\n",
       "    }\n",
       "\n",
       "    .dataframe tbody tr th {\n",
       "        vertical-align: top;\n",
       "    }\n",
       "\n",
       "    .dataframe thead th {\n",
       "        text-align: right;\n",
       "    }\n",
       "</style>\n",
       "<table border=\"1\" class=\"dataframe\">\n",
       "  <thead>\n",
       "    <tr style=\"text-align: right;\">\n",
       "      <th></th>\n",
       "      <th>TOTAL_FLIGHTS</th>\n",
       "      <th>CANCELLED</th>\n",
       "      <th>%_CANCELLED</th>\n",
       "    </tr>\n",
       "    <tr>\n",
       "      <th>DESTINATION_STATE</th>\n",
       "      <th></th>\n",
       "      <th></th>\n",
       "      <th></th>\n",
       "    </tr>\n",
       "  </thead>\n",
       "  <tbody>\n",
       "    <tr>\n",
       "      <th>CA</th>\n",
       "      <td>44236</td>\n",
       "      <td>990</td>\n",
       "      <td>0.022380</td>\n",
       "    </tr>\n",
       "    <tr>\n",
       "      <th>TX</th>\n",
       "      <td>19970</td>\n",
       "      <td>185</td>\n",
       "      <td>0.009264</td>\n",
       "    </tr>\n",
       "    <tr>\n",
       "      <th>NY</th>\n",
       "      <td>12015</td>\n",
       "      <td>143</td>\n",
       "      <td>0.011902</td>\n",
       "    </tr>\n",
       "    <tr>\n",
       "      <th>IL</th>\n",
       "      <td>10120</td>\n",
       "      <td>126</td>\n",
       "      <td>0.012451</td>\n",
       "    </tr>\n",
       "    <tr>\n",
       "      <th>AZ</th>\n",
       "      <td>9965</td>\n",
       "      <td>94</td>\n",
       "      <td>0.009433</td>\n",
       "    </tr>\n",
       "  </tbody>\n",
       "</table>\n",
       "</div>"
      ],
      "text/plain": [
       "                   TOTAL_FLIGHTS  CANCELLED  %_CANCELLED\n",
       "DESTINATION_STATE                                       \n",
       "CA                         44236        990     0.022380\n",
       "TX                         19970        185     0.009264\n",
       "NY                         12015        143     0.011902\n",
       "IL                         10120        126     0.012451\n",
       "AZ                          9965         94     0.009433"
      ]
     },
     "execution_count": 157,
     "metadata": {},
     "output_type": "execute_result"
    }
   ],
   "source": [
    "destination_state = destination_state.sort_values(by = 'CANCELLED', ascending=[False])\n",
    "destination_state.head(5)"
   ]
  },
  {
   "cell_type": "code",
   "execution_count": 118,
   "id": "928ba774",
   "metadata": {},
   "outputs": [
    {
     "data": {
      "text/html": [
       "<div>\n",
       "<style scoped>\n",
       "    .dataframe tbody tr th:only-of-type {\n",
       "        vertical-align: middle;\n",
       "    }\n",
       "\n",
       "    .dataframe tbody tr th {\n",
       "        vertical-align: top;\n",
       "    }\n",
       "\n",
       "    .dataframe thead th {\n",
       "        text-align: right;\n",
       "    }\n",
       "</style>\n",
       "<table border=\"1\" class=\"dataframe\">\n",
       "  <thead>\n",
       "    <tr style=\"text-align: right;\">\n",
       "      <th></th>\n",
       "      <th>TOTAL_FLIGHTS</th>\n",
       "      <th>CANCELLED</th>\n",
       "      <th>%_CANCELLED</th>\n",
       "    </tr>\n",
       "    <tr>\n",
       "      <th>MONTH</th>\n",
       "      <th></th>\n",
       "      <th></th>\n",
       "      <th></th>\n",
       "    </tr>\n",
       "  </thead>\n",
       "  <tbody>\n",
       "    <tr>\n",
       "      <th>1</th>\n",
       "      <td>17340</td>\n",
       "      <td>251</td>\n",
       "      <td>0.014475</td>\n",
       "    </tr>\n",
       "    <tr>\n",
       "      <th>2</th>\n",
       "      <td>15762</td>\n",
       "      <td>327</td>\n",
       "      <td>0.020746</td>\n",
       "    </tr>\n",
       "    <tr>\n",
       "      <th>3</th>\n",
       "      <td>18014</td>\n",
       "      <td>183</td>\n",
       "      <td>0.010159</td>\n",
       "    </tr>\n",
       "    <tr>\n",
       "      <th>4</th>\n",
       "      <td>17408</td>\n",
       "      <td>103</td>\n",
       "      <td>0.005917</td>\n",
       "    </tr>\n",
       "    <tr>\n",
       "      <th>5</th>\n",
       "      <td>17977</td>\n",
       "      <td>97</td>\n",
       "      <td>0.005396</td>\n",
       "    </tr>\n",
       "    <tr>\n",
       "      <th>6</th>\n",
       "      <td>18533</td>\n",
       "      <td>280</td>\n",
       "      <td>0.015108</td>\n",
       "    </tr>\n",
       "    <tr>\n",
       "      <th>7</th>\n",
       "      <td>19371</td>\n",
       "      <td>283</td>\n",
       "      <td>0.014609</td>\n",
       "    </tr>\n",
       "    <tr>\n",
       "      <th>8</th>\n",
       "      <td>19265</td>\n",
       "      <td>244</td>\n",
       "      <td>0.012665</td>\n",
       "    </tr>\n",
       "    <tr>\n",
       "      <th>9</th>\n",
       "      <td>17499</td>\n",
       "      <td>104</td>\n",
       "      <td>0.005943</td>\n",
       "    </tr>\n",
       "    <tr>\n",
       "      <th>11</th>\n",
       "      <td>16459</td>\n",
       "      <td>96</td>\n",
       "      <td>0.005833</td>\n",
       "    </tr>\n",
       "    <tr>\n",
       "      <th>12</th>\n",
       "      <td>17045</td>\n",
       "      <td>196</td>\n",
       "      <td>0.011499</td>\n",
       "    </tr>\n",
       "  </tbody>\n",
       "</table>\n",
       "</div>"
      ],
      "text/plain": [
       "       TOTAL_FLIGHTS  CANCELLED  %_CANCELLED\n",
       "MONTH                                       \n",
       "1              17340        251     0.014475\n",
       "2              15762        327     0.020746\n",
       "3              18014        183     0.010159\n",
       "4              17408        103     0.005917\n",
       "5              17977         97     0.005396\n",
       "6              18533        280     0.015108\n",
       "7              19371        283     0.014609\n",
       "8              19265        244     0.012665\n",
       "9              17499        104     0.005943\n",
       "11             16459         96     0.005833\n",
       "12             17045        196     0.011499"
      ]
     },
     "execution_count": 118,
     "metadata": {},
     "output_type": "execute_result"
    }
   ],
   "source": [
    "month = pd.DataFrame()\n",
    "month['TOTAL_FLIGHTS'] = df[['MONTH', 'CANCELLED']].groupby('MONTH').count()\n",
    "month['CANCELLED'] = df[['MONTH', 'CANCELLED']].groupby('MONTH').sum()\n",
    "month['%_CANCELLED'] = month['CANCELLED']/month['TOTAL_FLIGHTS']\n",
    "month"
   ]
  },
  {
   "cell_type": "code",
   "execution_count": 119,
   "id": "e05e9fe4",
   "metadata": {},
   "outputs": [
    {
     "data": {
      "text/plain": [
       "Text(0.5, 1.0, 'FLIGHTS CANCELLED BY MONTH')"
      ]
     },
     "execution_count": 119,
     "metadata": {},
     "output_type": "execute_result"
    },
    {
     "data": {
      "image/png": "[encoded data removed]",
      "text/plain": [
       "<Figure size 640x480 with 1 Axes>"
      ]
     },
     "metadata": {},
     "output_type": "display_data"
    }
   ],
   "source": [
    "month = month.reset_index()\n",
    "plt.bar(month['MONTH'], month['CANCELLED'])\n",
    "plt.xlabel('MONTH')\n",
    "plt.ylabel('FLIGHTS CANCELLED')\n",
    "plt.title('FLIGHTS CANCELLED BY MONTH')"
   ]
  },
  {
   "cell_type": "code",
   "execution_count": 120,
   "id": "344c117c",
   "metadata": {},
   "outputs": [
    {
     "data": {
      "text/html": [
       "<div>\n",
       "<style scoped>\n",
       "    .dataframe tbody tr th:only-of-type {\n",
       "        vertical-align: middle;\n",
       "    }\n",
       "\n",
       "    .dataframe tbody tr th {\n",
       "        vertical-align: top;\n",
       "    }\n",
       "\n",
       "    .dataframe thead th {\n",
       "        text-align: right;\n",
       "    }\n",
       "</style>\n",
       "<table border=\"1\" class=\"dataframe\">\n",
       "  <thead>\n",
       "    <tr style=\"text-align: right;\">\n",
       "      <th></th>\n",
       "      <th>TOTAL_FLIGHTS</th>\n",
       "      <th>CANCELLED</th>\n",
       "      <th>%_CANCELLED</th>\n",
       "    </tr>\n",
       "    <tr>\n",
       "      <th>DAY_OF_WEEK</th>\n",
       "      <th></th>\n",
       "      <th></th>\n",
       "      <th></th>\n",
       "    </tr>\n",
       "  </thead>\n",
       "  <tbody>\n",
       "    <tr>\n",
       "      <th>1</th>\n",
       "      <td>29027</td>\n",
       "      <td>427</td>\n",
       "      <td>0.014710</td>\n",
       "    </tr>\n",
       "    <tr>\n",
       "      <th>2</th>\n",
       "      <td>28276</td>\n",
       "      <td>414</td>\n",
       "      <td>0.014641</td>\n",
       "    </tr>\n",
       "    <tr>\n",
       "      <th>3</th>\n",
       "      <td>28523</td>\n",
       "      <td>313</td>\n",
       "      <td>0.010974</td>\n",
       "    </tr>\n",
       "    <tr>\n",
       "      <th>4</th>\n",
       "      <td>28785</td>\n",
       "      <td>295</td>\n",
       "      <td>0.010248</td>\n",
       "    </tr>\n",
       "    <tr>\n",
       "      <th>7</th>\n",
       "      <td>27684</td>\n",
       "      <td>280</td>\n",
       "      <td>0.010114</td>\n",
       "    </tr>\n",
       "    <tr>\n",
       "      <th>5</th>\n",
       "      <td>28317</td>\n",
       "      <td>239</td>\n",
       "      <td>0.008440</td>\n",
       "    </tr>\n",
       "    <tr>\n",
       "      <th>6</th>\n",
       "      <td>24061</td>\n",
       "      <td>196</td>\n",
       "      <td>0.008146</td>\n",
       "    </tr>\n",
       "  </tbody>\n",
       "</table>\n",
       "</div>"
      ],
      "text/plain": [
       "             TOTAL_FLIGHTS  CANCELLED  %_CANCELLED\n",
       "DAY_OF_WEEK                                       \n",
       "1                    29027        427     0.014710\n",
       "2                    28276        414     0.014641\n",
       "3                    28523        313     0.010974\n",
       "4                    28785        295     0.010248\n",
       "7                    27684        280     0.010114\n",
       "5                    28317        239     0.008440\n",
       "6                    24061        196     0.008146"
      ]
     },
     "execution_count": 120,
     "metadata": {},
     "output_type": "execute_result"
    }
   ],
   "source": [
    "day_of_week = pd.DataFrame()\n",
    "day_of_week['TOTAL_FLIGHTS'] = df[['DAY_OF_WEEK', 'CANCELLED']].groupby('DAY_OF_WEEK').count()\n",
    "day_of_week['CANCELLED'] = df[['DAY_OF_WEEK', 'CANCELLED']].groupby('DAY_OF_WEEK').sum()\n",
    "day_of_week['%_CANCELLED'] = day_of_week['CANCELLED']/day_of_week['TOTAL_FLIGHTS']\n",
    "day_of_week.sort_values(by = '%_CANCELLED', ascending=[False])"
   ]
  },
  {
   "cell_type": "code",
   "execution_count": 121,
   "id": "84ab8cf1",
   "metadata": {},
   "outputs": [
    {
     "data": {
      "text/plain": [
       "Text(0.5, 1.0, 'FLIGHTS CANCELLED BY DAY OF WEEK')"
      ]
     },
     "execution_count": 121,
     "metadata": {},
     "output_type": "execute_result"
    },
    {
     "data": {
      "image/png": "[encoded data removed]",
      "text/plain": [
       "<Figure size 640x480 with 1 Axes>"
      ]
     },
     "metadata": {},
     "output_type": "display_data"
    }
   ],
   "source": [
    "day_of_week = day_of_week.reset_index()\n",
    "plt.bar(day_of_week['DAY_OF_WEEK'], day_of_week['CANCELLED'])\n",
    "plt.xlabel('DAY OF WEEK')\n",
    "plt.ylabel('FLIGHTS CANCELLED')\n",
    "plt.title('FLIGHTS CANCELLED BY DAY OF WEEK')"
   ]
  },
  {
   "cell_type": "code",
   "execution_count": 164,
   "id": "43484dd8",
   "metadata": {},
   "outputs": [],
   "source": [
    "ca_cancel = df[(df['DESTINATION_STATE']=='CA') & (df['CANCELLED']==1)]"
   ]
  },
  {
   "cell_type": "code",
   "execution_count": 165,
   "id": "f92912e4",
   "metadata": {},
   "outputs": [
    {
     "data": {
      "text/plain": [
       "<AxesSubplot:xlabel='DESTINATION_AIRPORT', ylabel='count'>"
      ]
     },
     "execution_count": 165,
     "metadata": {},
     "output_type": "execute_result"
    },
    {
     "data": {
      "image/png": "[encoded data removed]",
      "text/plain": [
       "<Figure size 640x480 with 1 Axes>"
      ]
     },
     "metadata": {},
     "output_type": "display_data"
    }
   ],
   "source": [
    "sns.countplot(x='DESTINATION_AIRPORT', data=ca_cancel)"
   ]
  },
  {
   "cell_type": "code",
   "execution_count": 166,
   "id": "dc5c8a21",
   "metadata": {},
   "outputs": [],
   "source": [
    "cancel = df[df['CANCELLED']==1]"
   ]
  },
  {
   "cell_type": "code",
   "execution_count": null,
   "id": "72641191",
   "metadata": {},
   "outputs": [],
   "source": []
  },
  {
   "cell_type": "code",
   "execution_count": 168,
   "id": "0ad7a8a5",
   "metadata": {},
   "outputs": [
    {
     "data": {
      "text/plain": [
       "<AxesSubplot:xlabel='DESTINATION_AIRPORT', ylabel='count'>"
      ]
     },
     "execution_count": 168,
     "metadata": {},
     "output_type": "execute_result"
    },
    {
     "data": {
      "image/png": "[encoded data removed]",
      "text/plain": [
       "<Figure size 640x480 with 1 Axes>"
      ]
     },
     "metadata": {},
     "output_type": "display_data"
    }
   ],
   "source": [
    "sns.countplot(x='DESTINATION_AIRPORT', data=cancel)"
   ]
  },
  {
   "cell_type": "code",
   "execution_count": 172,
   "id": "a4aee95b",
   "metadata": {},
   "outputs": [
    {
     "data": {
      "text/plain": [
       "<AxesSubplot:>"
      ]
     },
     "execution_count": 172,
     "metadata": {},
     "output_type": "execute_result"
    },
    {
     "data": {
      "image/png": "[encoded data removed]",
      "text/plain": [
       "<Figure size 640x480 with 2 Axes>"
      ]
     },
     "metadata": {},
     "output_type": "display_data"
    }
   ],
   "source": [
    "sns.heatmap(cancel.corr(), annot=True, annot_kws={'size': 9})"
   ]
  },
  {
   "cell_type": "code",
   "execution_count": null,
   "id": "b4dd6be4",
   "metadata": {},
   "outputs": [],
   "source": []
  },
  {
   "cell_type": "code",
   "execution_count": null,
   "id": "4a774c8a",
   "metadata": {},
   "outputs": [],
   "source": []
  },
  {
   "cell_type": "code",
   "execution_count": null,
   "id": "2c098511",
   "metadata": {},
   "outputs": [],
   "source": []
  },
  {
   "cell_type": "code",
   "execution_count": null,
   "id": "7f418e15",
   "metadata": {},
   "outputs": [],
   "source": []
  },
  {
   "cell_type": "code",
   "execution_count": 122,
   "id": "dae39da5",
   "metadata": {},
   "outputs": [],
   "source": [
    "# delay = df[(df['ARRIVAL_DELAY']>0) & (df['ARRIVAL_DELAY']!=9998) & (df['ARRIVAL_DELAY']!=9999)]\n",
    "\n",
    "# delay['ARRIVAL_DELAY'].describe()"
   ]
  },
  {
   "cell_type": "code",
   "execution_count": 123,
   "id": "cce8ce7c",
   "metadata": {},
   "outputs": [],
   "source": [
    "# plt.hist(delay[\"ARRIVAL_DELAY\"], bins=(0, 15, 30, 60, 120, 240, 480, 960))\n",
    "# plt.show()"
   ]
  },
  {
   "cell_type": "markdown",
   "id": "c2a47127",
   "metadata": {},
   "source": [
    "Based upon the above analysis, we can see that the average flight delay is 15 minutes, which is considered \"very short\" or \"minor delay\", and typically wouldn't cause any delivery claims. Since the purpose of this investigation is to reduce late delivery claims, and a flight arrival window of +/- 15 minutes is typically considered \"normal\" and won't have much negative impact on the final delivery time, we shall focus on the the flight delays of more than 15 minutes."
   ]
  },
  {
   "cell_type": "code",
   "execution_count": 124,
   "id": "88e98e2f",
   "metadata": {},
   "outputs": [],
   "source": [
    "# delay_15 = delay[delay['ARRIVAL_DELAY']>15]\n",
    "# delay_15['ARRIVAL_DELAY'].describe()"
   ]
  },
  {
   "cell_type": "code",
   "execution_count": 125,
   "id": "fe80220a",
   "metadata": {},
   "outputs": [],
   "source": [
    "# plt.hist(delay_15[\"ARRIVAL_DELAY\"], bins=(15, 30, 60, 120, 240, 480, 960))\n",
    "# plt.show()"
   ]
  },
  {
   "cell_type": "code",
   "execution_count": null,
   "id": "34134146",
   "metadata": {},
   "outputs": [],
   "source": []
  },
  {
   "cell_type": "code",
   "execution_count": 126,
   "id": "9ab08c15",
   "metadata": {},
   "outputs": [],
   "source": [
    "#plt.boxplot(delay_15['ARRIVAL_DELAY'])"
   ]
  },
  {
   "cell_type": "code",
   "execution_count": 127,
   "id": "b08ef503",
   "metadata": {},
   "outputs": [],
   "source": [
    "#df[df['MONTH']==10]"
   ]
  },
  {
   "cell_type": "markdown",
   "id": "692b7b0f",
   "metadata": {},
   "source": [
    "As we can see from the above histogram, most of the flight delays are within 1-2 hours. To facilitate further analysis, we are going to add a column \"DELAY_CATEGORY\" to categorize the\n",
    "delay times based on the following intervals:\n",
    "\n",
    "* 0-30 minutes: Very short delay\n",
    "* 31-60 minutes: Short delay\n",
    "* 61-120 minutes: Moderate delay\n",
    "* 121-240 minutes: Long delay\n",
    "* Over 240 minutes: Very long delay"
   ]
  },
  {
   "cell_type": "markdown",
   "id": "cce4e732",
   "metadata": {},
   "source": [
    "### 3.2 Data Exploration\n",
    "\n",
    "#### 3.2.1 Airline Overview\n",
    "\n",
    "We want to study the relationship between total number of flights and the number of flight delays grouped by airlines, months, days, days of the week, and destination airports.  We'll make our own functions to do that.  \n"
   ]
  },
  {
   "cell_type": "code",
   "execution_count": 128,
   "id": "cd887d87",
   "metadata": {},
   "outputs": [
    {
     "data": {
      "text/plain": [
       "\"\\ndef create_df(name, group):\\n    name['TOTAL_FLIGHT'] = df[['ARRIVAL_DELAY', group]].groupby([group]).count()   \\n    name['ON_TIME'] = df[['ARRIVAL_DELAY', group]][df['ARRIVAL_DELAY']<=0].groupby([group]).count()\\n    name['DIVERT'] = df[['ARRIVAL_DELAY', group]][df['ARRIVAL_DELAY']==9998].groupby([group]).count() \\n    name['CANCEL'] = df[['ARRIVAL_DELAY', group]][df['ARRIVAL_DELAY']==9999].groupby([group]).count()  \\n    name['DELAY'] = df[['ARRIVAL_DELAY', group]][(df['ARRIVAL_DELAY']>0) & (df['ARRIVAL_DELAY']<9998)].groupby([group]).count()\\n    name = name.reset_index()\\n    return name\\n\""
      ]
     },
     "execution_count": 128,
     "metadata": {},
     "output_type": "execute_result"
    }
   ],
   "source": [
    "'''\n",
    "def create_df(name, group):\n",
    "    name['TOTAL_FLIGHT'] = df[['ARRIVAL_DELAY', group]].groupby([group]).count()   \n",
    "    name['ON_TIME'] = df[['ARRIVAL_DELAY', group]][df['ARRIVAL_DELAY']<=0].groupby([group]).count()\n",
    "    name['DIVERT'] = df[['ARRIVAL_DELAY', group]][df['ARRIVAL_DELAY']==9998].groupby([group]).count() \n",
    "    name['CANCEL'] = df[['ARRIVAL_DELAY', group]][df['ARRIVAL_DELAY']==9999].groupby([group]).count()  \n",
    "    name['DELAY'] = df[['ARRIVAL_DELAY', group]][(df['ARRIVAL_DELAY']>0) & (df['ARRIVAL_DELAY']<9998)].groupby([group]).count()\n",
    "    name = name.reset_index()\n",
    "    return name\n",
    "'''"
   ]
  },
  {
   "cell_type": "code",
   "execution_count": 129,
   "id": "d4eb2496",
   "metadata": {},
   "outputs": [
    {
     "data": {
      "text/plain": [
       "\"\\nairline = pd.DataFrame()\\nairline = create_df(airline, 'AIRLINE')\\nairline = airline.sort_values(by = 'DELAY', ascending=[False])\\nairline\\n\""
      ]
     },
     "execution_count": 129,
     "metadata": {},
     "output_type": "execute_result"
    }
   ],
   "source": [
    "'''\n",
    "airline = pd.DataFrame()\n",
    "airline = create_df(airline, 'AIRLINE')\n",
    "airline = airline.sort_values(by = 'DELAY', ascending=[False])\n",
    "airline\n",
    "'''"
   ]
  },
  {
   "cell_type": "code",
   "execution_count": 130,
   "id": "857fc96a",
   "metadata": {},
   "outputs": [],
   "source": [
    "def draw_plot(df, g):\n",
    "    plt.bar(df[g], df['ON_TIME'], color='yellowgreen')\n",
    "    plt.bar(df[g], df['DELAY'], bottom=df['ON_TIME'], color='seagreen')\n",
    "    plt.bar(df[g], df['DIVERT'], bottom=df['ON_TIME']+df['DELAY'], color='lightgreen')\n",
    "    plt.bar(df[g], df['CANCEL'], bottom=df['ON_TIME']+df['DELAY']+df['DIVERT'], color='darkolivegreen')\n",
    "    plt.ylabel(\"Number of Flights\")\n",
    "    plt.legend([\"On Time\", \"Delay\", \"Divert\", \"Cancel\"])\n",
    "    plt.xticks(rotation=90)\n",
    "    plt.title(\"LAX OUTBOUND FLIGHTS BY \" + g)\n",
    "    plt.show()"
   ]
  },
  {
   "cell_type": "code",
   "execution_count": 131,
   "id": "dbad7064",
   "metadata": {},
   "outputs": [],
   "source": [
    "# _ = draw_plot(airline, 'AIRLINE')"
   ]
  },
  {
   "cell_type": "markdown",
   "id": "7857f9ee",
   "metadata": {},
   "source": [
    "From the above chart, we can see that Southwest Airlines has the most outbound flights from LAX as well as the most flight delays and cancellations.  Skywest ranks the second, followed by American Airlines, United and Delta.  Next, we'll take a look at the destinaton airports and check to see if there's any relationship between the destination & the flight delay.\n",
    "\n",
    "#### 3.2.2 XXX Overview\n"
   ]
  },
  {
   "cell_type": "code",
   "execution_count": 132,
   "id": "3e46c975",
   "metadata": {},
   "outputs": [
    {
     "data": {
      "text/plain": [
       "\"\\nmonth = pd.DataFrame()\\nmonth = create_df(month, 'MONTH')\\nmonth\\n\""
      ]
     },
     "execution_count": 132,
     "metadata": {},
     "output_type": "execute_result"
    }
   ],
   "source": [
    "'''\n",
    "month = pd.DataFrame()\n",
    "month = create_df(month, 'MONTH')\n",
    "month\n",
    "'''"
   ]
  },
  {
   "cell_type": "code",
   "execution_count": 133,
   "id": "a146e975",
   "metadata": {},
   "outputs": [],
   "source": [
    "# _ = draw_plot(month, 'MONTH')"
   ]
  },
  {
   "cell_type": "code",
   "execution_count": 134,
   "id": "28207f58",
   "metadata": {},
   "outputs": [
    {
     "data": {
      "text/plain": [
       "\"\\nday_of_week = pd.DataFrame()\\nday_of_week = create_df(day_of_week, 'DAY_OF_WEEK')\\nday_of_week\\n\""
      ]
     },
     "execution_count": 134,
     "metadata": {},
     "output_type": "execute_result"
    }
   ],
   "source": [
    "'''\n",
    "day_of_week = pd.DataFrame()\n",
    "day_of_week = create_df(day_of_week, 'DAY_OF_WEEK')\n",
    "day_of_week\n",
    "'''"
   ]
  },
  {
   "cell_type": "code",
   "execution_count": 135,
   "id": "f0e0cc18",
   "metadata": {},
   "outputs": [],
   "source": [
    "# _ = draw_plot(day_of_week, 'DAY_OF_WEEK')"
   ]
  },
  {
   "cell_type": "code",
   "execution_count": 136,
   "id": "41c3a866",
   "metadata": {},
   "outputs": [
    {
     "data": {
      "text/plain": [
       "\"\\ndestination_airport = pd.DataFrame()\\ndestination_airport = create_df(destination_airport, 'DESTINATION_AIRPORT')\\ndestination_airport = destination_airport.sort_values(by = 'DELAY', ascending=[False])\\ndestination_airport\\n\""
      ]
     },
     "execution_count": 136,
     "metadata": {},
     "output_type": "execute_result"
    }
   ],
   "source": [
    "'''\n",
    "destination_airport = pd.DataFrame()\n",
    "destination_airport = create_df(destination_airport, 'DESTINATION_AIRPORT')\n",
    "destination_airport = destination_airport.sort_values(by = 'DELAY', ascending=[False])\n",
    "destination_airport\n",
    "'''"
   ]
  },
  {
   "cell_type": "code",
   "execution_count": 137,
   "id": "e70b92e0",
   "metadata": {},
   "outputs": [],
   "source": [
    "# destination_airport.fillna(0)"
   ]
  },
  {
   "cell_type": "code",
   "execution_count": 138,
   "id": "52fcea29",
   "metadata": {},
   "outputs": [],
   "source": [
    "# _ = draw_plot(destination_airport, 'DESTINATION_AIRPORT')"
   ]
  },
  {
   "cell_type": "code",
   "execution_count": 139,
   "id": "639ee0bb",
   "metadata": {},
   "outputs": [
    {
     "data": {
      "text/plain": [
       "\"\\ndestination_state = pd.DataFrame()\\ndestination_state = create_df(destination_state, 'DESTINATION_STATE')\\ndestination_state = destination_state.sort_values(by = 'DELAY', ascending=[False])\\ndestination_state\\n\""
      ]
     },
     "execution_count": 139,
     "metadata": {},
     "output_type": "execute_result"
    }
   ],
   "source": [
    "'''\n",
    "destination_state = pd.DataFrame()\n",
    "destination_state = create_df(destination_state, 'DESTINATION_STATE')\n",
    "destination_state = destination_state.sort_values(by = 'DELAY', ascending=[False])\n",
    "destination_state\n",
    "'''"
   ]
  },
  {
   "cell_type": "code",
   "execution_count": 140,
   "id": "c344211c",
   "metadata": {},
   "outputs": [],
   "source": [
    "# destination_state.fillna(0)\n",
    "# _ = draw_plot(destination_state, 'DESTINATION_STATE')"
   ]
  },
  {
   "cell_type": "code",
   "execution_count": 141,
   "id": "d71a6be5",
   "metadata": {},
   "outputs": [],
   "source": [
    "# delay_ca = delay[delay['DESTINATION_STATE']=='CA']\n",
    "# delay_ca['ARRIVAL_DELAY'].describe()"
   ]
  },
  {
   "cell_type": "code",
   "execution_count": 142,
   "id": "470072ad",
   "metadata": {},
   "outputs": [],
   "source": [
    "# df_ca = df[df['DESTINATION_STATE']=='CA']\n",
    "# df_ca['TOTAL_FLIGHTS'] = df['']"
   ]
  },
  {
   "cell_type": "code",
   "execution_count": null,
   "id": "e4ffab30",
   "metadata": {},
   "outputs": [],
   "source": []
  },
  {
   "cell_type": "code",
   "execution_count": 143,
   "id": "4469b5d6",
   "metadata": {},
   "outputs": [],
   "source": [
    "# cancel_ca = df[(df['DESTINATION_STATE']=='CA') & (df['ARRIVAL_DELAY']==9999)]\n",
    "# cancel_ca_airport = cancel_ca[['DESTINATION_AIRPORT', 'ARRIVAL_DELAY']].groupby(['DESTINATION_AIRPORT']).count()\n",
    "# cancel_ca_airport"
   ]
  },
  {
   "cell_type": "code",
   "execution_count": null,
   "id": "bf53a174",
   "metadata": {},
   "outputs": [],
   "source": []
  },
  {
   "cell_type": "code",
   "execution_count": null,
   "id": "aa95c76d",
   "metadata": {},
   "outputs": [],
   "source": []
  },
  {
   "cell_type": "code",
   "execution_count": 144,
   "id": "66024195",
   "metadata": {},
   "outputs": [
    {
     "data": {
      "text/plain": [
       "\"\\nsns.catplot(x='AIRLINE', y='ARRIVAL_DELAY', data=delay_15, kind='box', whis=[5,95])\\nplt.xticks(rotation=90)\\nplt.show()\\n\""
      ]
     },
     "execution_count": 144,
     "metadata": {},
     "output_type": "execute_result"
    }
   ],
   "source": [
    "'''\n",
    "sns.catplot(x='AIRLINE', y='ARRIVAL_DELAY', data=delay_15, kind='box', whis=[5,95])\n",
    "plt.xticks(rotation=90)\n",
    "plt.show()\n",
    "'''"
   ]
  },
  {
   "cell_type": "code",
   "execution_count": 145,
   "id": "e4171212",
   "metadata": {},
   "outputs": [
    {
     "data": {
      "text/plain": [
       "\"\\nsns.catplot(x='MONTH', y='ARRIVAL_DELAY', data=delay_15, kind='box', whis=[5,95])\\nplt.xticks(rotation=90)\\nplt.show()\\n\""
      ]
     },
     "execution_count": 145,
     "metadata": {},
     "output_type": "execute_result"
    }
   ],
   "source": [
    "'''\n",
    "sns.catplot(x='MONTH', y='ARRIVAL_DELAY', data=delay_15, kind='box', whis=[5,95])\n",
    "plt.xticks(rotation=90)\n",
    "plt.show()\n",
    "'''"
   ]
  },
  {
   "cell_type": "code",
   "execution_count": 146,
   "id": "0d63b0b1",
   "metadata": {},
   "outputs": [
    {
     "data": {
      "text/plain": [
       "\"\\nsns.catplot(x='DAY', y='ARRIVAL_DELAY', data=delay_15, kind='box', whis=[5,95])\\nplt.xticks(rotation=90)\\nplt.show()\\n\""
      ]
     },
     "execution_count": 146,
     "metadata": {},
     "output_type": "execute_result"
    }
   ],
   "source": [
    "'''\n",
    "sns.catplot(x='DAY', y='ARRIVAL_DELAY', data=delay_15, kind='box', whis=[5,95])\n",
    "plt.xticks(rotation=90)\n",
    "plt.show()\n",
    "'''"
   ]
  },
  {
   "cell_type": "code",
   "execution_count": 147,
   "id": "40062b57",
   "metadata": {},
   "outputs": [
    {
     "data": {
      "text/plain": [
       "\"\\nsns.catplot(x='DAY_OF_WEEK', y='ARRIVAL_DELAY', data=delay_15, kind='box', whis=[5,95])\\nplt.xticks(rotation=90)\\nplt.show()\\n\""
      ]
     },
     "execution_count": 147,
     "metadata": {},
     "output_type": "execute_result"
    }
   ],
   "source": [
    "'''\n",
    "sns.catplot(x='DAY_OF_WEEK', y='ARRIVAL_DELAY', data=delay_15, kind='box', whis=[5,95])\n",
    "plt.xticks(rotation=90)\n",
    "plt.show()\n",
    "'''"
   ]
  },
  {
   "cell_type": "code",
   "execution_count": null,
   "id": "4e3a361d",
   "metadata": {},
   "outputs": [],
   "source": [
    "# Make a pairplot of the flight data\n",
    "# sns.pairplot(delay)"
   ]
  },
  {
   "cell_type": "code",
   "execution_count": null,
   "id": "851201fd",
   "metadata": {},
   "outputs": [],
   "source": []
  },
  {
   "cell_type": "code",
   "execution_count": 148,
   "id": "e6fa97f6",
   "metadata": {},
   "outputs": [],
   "source": []
  },
  {
   "cell_type": "markdown",
   "id": "4e1e08d2",
   "metadata": {},
   "source": [
    "As we can see from the above pairplot, there is no existing correlation between any two variables.  To verify this, we'll do a heatmap.  "
   ]
  },
  {
   "cell_type": "code",
   "execution_count": 149,
   "id": "7480f381",
   "metadata": {},
   "outputs": [],
   "source": [
    "# sns.heatmap(df.corr(), annot=True, annot_kws={'size': 9})"
   ]
  },
  {
   "cell_type": "code",
   "execution_count": null,
   "id": "01ae4ecd",
   "metadata": {},
   "outputs": [],
   "source": []
  },
  {
   "cell_type": "code",
   "execution_count": null,
   "id": "a889556b",
   "metadata": {},
   "outputs": [],
   "source": []
  },
  {
   "cell_type": "markdown",
   "id": "260af8c5",
   "metadata": {},
   "source": [
    "#### 3.2.2 Flight cancellation"
   ]
  },
  {
   "cell_type": "code",
   "execution_count": null,
   "id": "2880619d",
   "metadata": {},
   "outputs": [],
   "source": []
  },
  {
   "cell_type": "code",
   "execution_count": null,
   "id": "2a9c7d7e",
   "metadata": {},
   "outputs": [],
   "source": []
  },
  {
   "cell_type": "code",
   "execution_count": null,
   "id": "faa9505f",
   "metadata": {},
   "outputs": [],
   "source": []
  },
  {
   "cell_type": "markdown",
   "id": "efe96279",
   "metadata": {},
   "source": [
    "Compared to flight delays, flight cancellation and diversion are much worse.  Therefore, cancellation and diversion needs more\n",
    "scrutiny. Let's look at flight cancellation first."
   ]
  },
  {
   "cell_type": "code",
   "execution_count": 150,
   "id": "a40d487f",
   "metadata": {},
   "outputs": [],
   "source": [
    "# cancelled = df[df[\"ARRIVAL_DELAY\"]==9999]\n",
    "# cancelled.shape"
   ]
  },
  {
   "cell_type": "code",
   "execution_count": 151,
   "id": "fe22fdcb",
   "metadata": {},
   "outputs": [
    {
     "data": {
      "text/plain": [
       "'\\nsns.countplot(x=\"AIRLINE\", data=cancelled)\\nplt.xticks(rotation=90)\\nplt.title(\"LAX Outbound Flight Cancellation by Airline\")\\nplt.show()\\n'"
      ]
     },
     "execution_count": 151,
     "metadata": {},
     "output_type": "execute_result"
    }
   ],
   "source": [
    "'''\n",
    "sns.countplot(x=\"AIRLINE\", data=cancelled)\n",
    "plt.xticks(rotation=90)\n",
    "plt.title(\"LAX Outbound Flight Cancellation by Airline\")\n",
    "plt.show()\n",
    "'''"
   ]
  },
  {
   "cell_type": "code",
   "execution_count": null,
   "id": "bd6db6a6",
   "metadata": {},
   "outputs": [],
   "source": []
  },
  {
   "cell_type": "code",
   "execution_count": 152,
   "id": "63d0342a",
   "metadata": {},
   "outputs": [
    {
     "data": {
      "text/plain": [
       "'\\ndiverted = df[df[\"ARRIVAL_DELAY\"]==9998]\\ndiverted.shape\\n'"
      ]
     },
     "execution_count": 152,
     "metadata": {},
     "output_type": "execute_result"
    }
   ],
   "source": [
    "'''\n",
    "diverted = df[df[\"ARRIVAL_DELAY\"]==9998]\n",
    "diverted.shape\n",
    "'''"
   ]
  },
  {
   "cell_type": "code",
   "execution_count": 153,
   "id": "f1984e32",
   "metadata": {},
   "outputs": [
    {
     "data": {
      "text/plain": [
       "'\\nsns.countplot(x=\"AIRLINE\", data=diverted)\\nplt.xticks(rotation=90)\\nplt.title(\"LAX Outbound Flight Diversion by Airline\")\\nplt.show()\\n'"
      ]
     },
     "execution_count": 153,
     "metadata": {},
     "output_type": "execute_result"
    }
   ],
   "source": [
    "'''\n",
    "sns.countplot(x=\"AIRLINE\", data=diverted)\n",
    "plt.xticks(rotation=90)\n",
    "plt.title(\"LAX Outbound Flight Diversion by Airline\")\n",
    "plt.show()\n",
    "'''"
   ]
  },
  {
   "cell_type": "code",
   "execution_count": null,
   "id": "9cc24ae6",
   "metadata": {},
   "outputs": [],
   "source": []
  }
 ],
 "metadata": {
  "kernelspec": {
   "display_name": "Python 3 (ipykernel)",
   "language": "python",
   "name": "python3"
  },
  "language_info": {
   "codemirror_mode": {
    "name": "ipython",
    "version": 3
   },
   "file_extension": ".py",
   "mimetype": "text/x-python",
   "name": "python",
   "nbconvert_exporter": "python",
   "pygments_lexer": "ipython3",
   "version": "3.9.13"
  }
 },
 "nbformat": 4,
 "nbformat_minor": 5
}
